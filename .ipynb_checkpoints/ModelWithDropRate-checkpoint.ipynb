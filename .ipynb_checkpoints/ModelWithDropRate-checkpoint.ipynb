{
 "cells": [
  {
   "cell_type": "code",
   "execution_count": 1,
   "id": "114ccccf-9c98-4ee7-a717-a67b86af5b2e",
   "metadata": {},
   "outputs": [],
   "source": [
    "import torch"
   ]
  },
  {
   "cell_type": "code",
   "execution_count": 2,
   "id": "89f1ac60-d6a9-4e8f-b11d-0f0d79d00b08",
   "metadata": {},
   "outputs": [
    {
     "name": "stdout",
     "output_type": "stream",
     "text": [
      "GPU Device: Tesla V100-SXM2-16GB\n",
      "Memory Allocated: 0 bytes\n",
      "Memory Cached: 0 bytes\n"
     ]
    }
   ],
   "source": [
    "if torch.cuda.is_available():\n",
    "    print(f\"GPU Device: {torch.cuda.get_device_name(0)}\")\n",
    "    print(f\"Memory Allocated: {torch.cuda.memory_allocated(0)} bytes\")\n",
    "    print(f\"Memory Cached: {torch.cuda.memory_reserved(0)} bytes\")"
   ]
  },
  {
   "cell_type": "code",
   "execution_count": 3,
   "id": "ca8be1a2-9ac1-49aa-99d8-24e1aebbbb3e",
   "metadata": {},
   "outputs": [],
   "source": [
    "import torch\n",
    "import torch.nn as nn\n",
    "import torch.nn.functional as F\n",
    "import os\n",
    "import numpy as np\n",
    "import pickle\n",
    "from torch.utils.data import DataLoader, Dataset, random_split\n",
    "from torchvision import transforms\n",
    "import torch.optim as optim\n",
    "from torchsummary import summary\n",
    "from tqdm import tqdm\n",
    "import pickle\n",
    "import pandas as pd\n",
    "import matplotlib.pyplot as plt\n",
    "import random\n",
    "from torch.optim import SGD\n",
    "from torch.optim.lr_scheduler import CosineAnnealingLR\n",
    "from torch.nn.utils import clip_grad_norm_\n",
    "import torch.optim as optim\n",
    "from torch.amp import GradScaler, autocast\n",
    "from torch_optimizer import Lookahead \n",
    "from torch.optim.swa_utils import AveragedModel"
   ]
  },
  {
   "cell_type": "code",
   "execution_count": 27,
   "id": "5d483950-84a4-41ab-85d4-5ff4d1bdc892",
   "metadata": {},
   "outputs": [
    {
     "name": "stdout",
     "output_type": "stream",
     "text": [
      "----------------------------------------------------------------\n",
      "        Layer (type)               Output Shape         Param #\n",
      "================================================================\n",
      "            Conv2d-1           [-1, 64, 32, 32]           1,728\n",
      "       BatchNorm2d-2           [-1, 64, 32, 32]             128\n",
      "            Conv2d-3           [-1, 64, 32, 32]          36,864\n",
      "       BatchNorm2d-4           [-1, 64, 32, 32]             128\n",
      "            Conv2d-5           [-1, 64, 32, 32]          36,864\n",
      "       BatchNorm2d-6           [-1, 64, 32, 32]             128\n",
      " AdaptiveAvgPool2d-7             [-1, 64, 1, 1]               0\n",
      "            Conv2d-8              [-1, 4, 1, 1]             260\n",
      "              ReLU-9              [-1, 4, 1, 1]               0\n",
      "           Conv2d-10             [-1, 64, 1, 1]             320\n",
      "          Sigmoid-11             [-1, 64, 1, 1]               0\n",
      "          SEBlock-12           [-1, 64, 32, 32]               0\n",
      "    ResidualBlock-13           [-1, 64, 32, 32]               0\n",
      "           Conv2d-14           [-1, 64, 32, 32]          36,864\n",
      "      BatchNorm2d-15           [-1, 64, 32, 32]             128\n",
      "           Conv2d-16           [-1, 64, 32, 32]          36,864\n",
      "      BatchNorm2d-17           [-1, 64, 32, 32]             128\n",
      "AdaptiveAvgPool2d-18             [-1, 64, 1, 1]               0\n",
      "           Conv2d-19              [-1, 4, 1, 1]             260\n",
      "             ReLU-20              [-1, 4, 1, 1]               0\n",
      "           Conv2d-21             [-1, 64, 1, 1]             320\n",
      "          Sigmoid-22             [-1, 64, 1, 1]               0\n",
      "          SEBlock-23           [-1, 64, 32, 32]               0\n",
      "    ResidualBlock-24           [-1, 64, 32, 32]               0\n",
      "           Conv2d-25           [-1, 64, 32, 32]          36,864\n",
      "      BatchNorm2d-26           [-1, 64, 32, 32]             128\n",
      "           Conv2d-27           [-1, 64, 32, 32]          36,864\n",
      "      BatchNorm2d-28           [-1, 64, 32, 32]             128\n",
      "AdaptiveAvgPool2d-29             [-1, 64, 1, 1]               0\n",
      "           Conv2d-30              [-1, 4, 1, 1]             260\n",
      "             ReLU-31              [-1, 4, 1, 1]               0\n",
      "           Conv2d-32             [-1, 64, 1, 1]             320\n",
      "          Sigmoid-33             [-1, 64, 1, 1]               0\n",
      "          SEBlock-34           [-1, 64, 32, 32]               0\n",
      "    ResidualBlock-35           [-1, 64, 32, 32]               0\n",
      "           Conv2d-36           [-1, 64, 32, 32]          36,864\n",
      "      BatchNorm2d-37           [-1, 64, 32, 32]             128\n",
      "           Conv2d-38           [-1, 64, 32, 32]          36,864\n",
      "      BatchNorm2d-39           [-1, 64, 32, 32]             128\n",
      "AdaptiveAvgPool2d-40             [-1, 64, 1, 1]               0\n",
      "           Conv2d-41              [-1, 4, 1, 1]             260\n",
      "             ReLU-42              [-1, 4, 1, 1]               0\n",
      "           Conv2d-43             [-1, 64, 1, 1]             320\n",
      "          Sigmoid-44             [-1, 64, 1, 1]               0\n",
      "          SEBlock-45           [-1, 64, 32, 32]               0\n",
      "    ResidualBlock-46           [-1, 64, 32, 32]               0\n",
      "           Conv2d-47          [-1, 128, 16, 16]          73,728\n",
      "      BatchNorm2d-48          [-1, 128, 16, 16]             256\n",
      "           Conv2d-49          [-1, 128, 16, 16]         147,456\n",
      "      BatchNorm2d-50          [-1, 128, 16, 16]             256\n",
      "AdaptiveAvgPool2d-51            [-1, 128, 1, 1]               0\n",
      "           Conv2d-52              [-1, 8, 1, 1]           1,032\n",
      "             ReLU-53              [-1, 8, 1, 1]               0\n",
      "           Conv2d-54            [-1, 128, 1, 1]           1,152\n",
      "          Sigmoid-55            [-1, 128, 1, 1]               0\n",
      "          SEBlock-56          [-1, 128, 16, 16]               0\n",
      "           Conv2d-57          [-1, 128, 16, 16]           8,192\n",
      "      BatchNorm2d-58          [-1, 128, 16, 16]             256\n",
      "    ResidualBlock-59          [-1, 128, 16, 16]               0\n",
      "           Conv2d-60          [-1, 128, 16, 16]         147,456\n",
      "      BatchNorm2d-61          [-1, 128, 16, 16]             256\n",
      "           Conv2d-62          [-1, 128, 16, 16]         147,456\n",
      "      BatchNorm2d-63          [-1, 128, 16, 16]             256\n",
      "AdaptiveAvgPool2d-64            [-1, 128, 1, 1]               0\n",
      "           Conv2d-65              [-1, 8, 1, 1]           1,032\n",
      "             ReLU-66              [-1, 8, 1, 1]               0\n",
      "           Conv2d-67            [-1, 128, 1, 1]           1,152\n",
      "          Sigmoid-68            [-1, 128, 1, 1]               0\n",
      "          SEBlock-69          [-1, 128, 16, 16]               0\n",
      "    ResidualBlock-70          [-1, 128, 16, 16]               0\n",
      "           Conv2d-71          [-1, 128, 16, 16]         147,456\n",
      "      BatchNorm2d-72          [-1, 128, 16, 16]             256\n",
      "           Conv2d-73          [-1, 128, 16, 16]         147,456\n",
      "      BatchNorm2d-74          [-1, 128, 16, 16]             256\n",
      "AdaptiveAvgPool2d-75            [-1, 128, 1, 1]               0\n",
      "           Conv2d-76              [-1, 8, 1, 1]           1,032\n",
      "             ReLU-77              [-1, 8, 1, 1]               0\n",
      "           Conv2d-78            [-1, 128, 1, 1]           1,152\n",
      "          Sigmoid-79            [-1, 128, 1, 1]               0\n",
      "          SEBlock-80          [-1, 128, 16, 16]               0\n",
      "    ResidualBlock-81          [-1, 128, 16, 16]               0\n",
      "           Conv2d-82          [-1, 128, 16, 16]         147,456\n",
      "      BatchNorm2d-83          [-1, 128, 16, 16]             256\n",
      "           Conv2d-84          [-1, 128, 16, 16]         147,456\n",
      "      BatchNorm2d-85          [-1, 128, 16, 16]             256\n",
      "AdaptiveAvgPool2d-86            [-1, 128, 1, 1]               0\n",
      "           Conv2d-87              [-1, 8, 1, 1]           1,032\n",
      "             ReLU-88              [-1, 8, 1, 1]               0\n",
      "           Conv2d-89            [-1, 128, 1, 1]           1,152\n",
      "          Sigmoid-90            [-1, 128, 1, 1]               0\n",
      "          SEBlock-91          [-1, 128, 16, 16]               0\n",
      "    ResidualBlock-92          [-1, 128, 16, 16]               0\n",
      "           Conv2d-93            [-1, 256, 8, 8]         294,912\n",
      "      BatchNorm2d-94            [-1, 256, 8, 8]             512\n",
      "           Conv2d-95            [-1, 256, 8, 8]         589,824\n",
      "      BatchNorm2d-96            [-1, 256, 8, 8]             512\n",
      "AdaptiveAvgPool2d-97            [-1, 256, 1, 1]               0\n",
      "           Conv2d-98             [-1, 16, 1, 1]           4,112\n",
      "             ReLU-99             [-1, 16, 1, 1]               0\n",
      "          Conv2d-100            [-1, 256, 1, 1]           4,352\n",
      "         Sigmoid-101            [-1, 256, 1, 1]               0\n",
      "         SEBlock-102            [-1, 256, 8, 8]               0\n",
      "          Conv2d-103            [-1, 256, 8, 8]          32,768\n",
      "     BatchNorm2d-104            [-1, 256, 8, 8]             512\n",
      "   ResidualBlock-105            [-1, 256, 8, 8]               0\n",
      "          Conv2d-106            [-1, 256, 8, 8]         589,824\n",
      "     BatchNorm2d-107            [-1, 256, 8, 8]             512\n",
      "          Conv2d-108            [-1, 256, 8, 8]         589,824\n",
      "     BatchNorm2d-109            [-1, 256, 8, 8]             512\n",
      "AdaptiveAvgPool2d-110            [-1, 256, 1, 1]               0\n",
      "          Conv2d-111             [-1, 16, 1, 1]           4,112\n",
      "            ReLU-112             [-1, 16, 1, 1]               0\n",
      "          Conv2d-113            [-1, 256, 1, 1]           4,352\n",
      "         Sigmoid-114            [-1, 256, 1, 1]               0\n",
      "         SEBlock-115            [-1, 256, 8, 8]               0\n",
      "   ResidualBlock-116            [-1, 256, 8, 8]               0\n",
      "          Conv2d-117            [-1, 256, 8, 8]         589,824\n",
      "     BatchNorm2d-118            [-1, 256, 8, 8]             512\n",
      "          Conv2d-119            [-1, 256, 8, 8]         589,824\n",
      "     BatchNorm2d-120            [-1, 256, 8, 8]             512\n",
      "AdaptiveAvgPool2d-121            [-1, 256, 1, 1]               0\n",
      "          Conv2d-122             [-1, 16, 1, 1]           4,112\n",
      "            ReLU-123             [-1, 16, 1, 1]               0\n",
      "          Conv2d-124            [-1, 256, 1, 1]           4,352\n",
      "         Sigmoid-125            [-1, 256, 1, 1]               0\n",
      "         SEBlock-126            [-1, 256, 8, 8]               0\n",
      "   ResidualBlock-127            [-1, 256, 8, 8]               0\n",
      "AdaptiveAvgPool2d-128            [-1, 256, 1, 1]               0\n",
      "          Linear-129                   [-1, 10]           2,570\n",
      "================================================================\n",
      "Total params: 4,733,610\n",
      "Trainable params: 4,733,610\n",
      "Non-trainable params: 0\n",
      "----------------------------------------------------------------\n",
      "Input size (MB): 0.01\n",
      "Forward/backward pass size (MB): 22.04\n",
      "Params size (MB): 18.06\n",
      "Estimated Total Size (MB): 40.11\n",
      "----------------------------------------------------------------\n"
     ]
    }
   ],
   "source": [
    "# class SEBlock(nn.Module):\n",
    "#     def __init__(self, channels, reduction=16):\n",
    "#         super().__init__()\n",
    "#         self.se = nn.Sequential(\n",
    "#             nn.AdaptiveAvgPool2d(1),\n",
    "#             nn.Conv2d(channels, channels//reduction, 1),\n",
    "#             nn.ReLU(),\n",
    "#             nn.Conv2d(channels//reduction, channels, 1),\n",
    "#             nn.Sigmoid()\n",
    "#         )\n",
    "    \n",
    "#     def forward(self, x):\n",
    "#         return x * self.se(x)\n",
    "\n",
    "# class ResidualBlock(nn.Module):\n",
    "#     def __init__(self, in_channels, out_channels, stride=1):\n",
    "#         super().__init__()\n",
    "#         self.conv1 = nn.Conv2d(in_channels, out_channels, 3, stride, 1, bias=False)\n",
    "#         self.bn1 = nn.BatchNorm2d(out_channels)\n",
    "#         self.conv2 = nn.Conv2d(out_channels, out_channels, 3, 1, 1, bias=False)\n",
    "#         self.bn2 = nn.BatchNorm2d(out_channels)\n",
    "#         self.se = SEBlock(out_channels)\n",
    "        \n",
    "#         self.shortcut = nn.Sequential()\n",
    "#         if stride != 1 or in_channels != out_channels:\n",
    "#             self.shortcut = nn.Sequential(\n",
    "#                 nn.Conv2d(in_channels, out_channels, 1, stride, bias=False),\n",
    "#                 nn.BatchNorm2d(out_channels)\n",
    "#             )\n",
    "\n",
    "#     def forward(self, x):\n",
    "#         out = nn.ReLU()(self.bn1(self.conv1(x)))\n",
    "#         out = self.bn2(self.conv2(out))\n",
    "#         out = self.se(out)\n",
    "#         out += self.shortcut(x)\n",
    "#         return nn.ReLU()(out)\n",
    "\n",
    "# class EfficientResNet(nn.Module):\n",
    "#     def __init__(self):\n",
    "#         super().__init__()\n",
    "#         self.in_channels = 64\n",
    "#         self.conv1 = nn.Conv2d(3, 64, 3, 1, 1, bias=False)\n",
    "#         self.bn1 = nn.BatchNorm2d(64)\n",
    "        \n",
    "#         self.layer1 = self._make_layer(64, 4, stride=1)\n",
    "#         self.layer2 = self._make_layer(128, 4, stride=2)\n",
    "#         self.layer3 = self._make_layer(256, 3, stride=2)\n",
    "        \n",
    "#         self.avgpool = nn.AdaptiveAvgPool2d(1)\n",
    "#         self.fc = nn.Linear(256, 10)\n",
    "\n",
    "#     def _make_layer(self, channels, num_blocks, stride):\n",
    "#         layers = [ResidualBlock(self.in_channels, channels, stride)]\n",
    "#         self.in_channels = channels\n",
    "#         for _ in range(1, num_blocks):\n",
    "#             layers.append(ResidualBlock(channels, channels))\n",
    "#         return nn.Sequential(*layers)\n",
    "\n",
    "#     def forward(self, x):\n",
    "#         out = nn.ReLU()(self.bn1(self.conv1(x)))\n",
    "#         out = self.layer1(out)\n",
    "#         out = self.layer2(out)\n",
    "#         out = self.layer3(out)\n",
    "#         out = self.avgpool(out)\n",
    "#         out = out.view(out.size(0), -1)\n",
    "#         return self.fc(out)\n",
    "\n",
    "# # Model initialization and device setup\n",
    "# model = EfficientResNet()\n",
    "# device = torch.device(\"cuda\" if torch.cuda.is_available() else \"cpu\")\n",
    "# model = model.to(device)\n",
    "\n",
    "# # Print model summary\n",
    "# summary(model, input_size=(3, 32, 32), device=str(device))\n"
   ]
  },
  {
   "cell_type": "code",
   "execution_count": 4,
   "id": "93237742-0f24-4458-a67d-32e2dffe6046",
   "metadata": {},
   "outputs": [
    {
     "name": "stdout",
     "output_type": "stream",
     "text": [
      "----------------------------------------------------------------\n",
      "        Layer (type)               Output Shape         Param #\n",
      "================================================================\n",
      "            Conv2d-1           [-1, 32, 32, 32]             864\n",
      "       BatchNorm2d-2           [-1, 32, 32, 32]              64\n",
      "              ReLU-3           [-1, 32, 32, 32]               0\n",
      "            Conv2d-4           [-1, 32, 32, 32]           9,216\n",
      "       BatchNorm2d-5           [-1, 32, 32, 32]              64\n",
      "            Conv2d-6           [-1, 32, 32, 32]           9,216\n",
      "       BatchNorm2d-7           [-1, 32, 32, 32]              64\n",
      " AdaptiveAvgPool2d-8             [-1, 32, 1, 1]               0\n",
      "            Conv2d-9              [-1, 2, 1, 1]              66\n",
      "             ReLU-10              [-1, 2, 1, 1]               0\n",
      "           Conv2d-11             [-1, 32, 1, 1]              96\n",
      "          Sigmoid-12             [-1, 32, 1, 1]               0\n",
      "          SEBlock-13           [-1, 32, 32, 32]               0\n",
      "        Dropout2d-14           [-1, 32, 32, 32]               0\n",
      "ImprovedResidualBlock-15           [-1, 32, 32, 32]               0\n",
      "           Conv2d-16           [-1, 32, 32, 32]           9,216\n",
      "      BatchNorm2d-17           [-1, 32, 32, 32]              64\n",
      "           Conv2d-18           [-1, 32, 32, 32]           9,216\n",
      "      BatchNorm2d-19           [-1, 32, 32, 32]              64\n",
      "AdaptiveAvgPool2d-20             [-1, 32, 1, 1]               0\n",
      "           Conv2d-21              [-1, 2, 1, 1]              66\n",
      "             ReLU-22              [-1, 2, 1, 1]               0\n",
      "           Conv2d-23             [-1, 32, 1, 1]              96\n",
      "          Sigmoid-24             [-1, 32, 1, 1]               0\n",
      "          SEBlock-25           [-1, 32, 32, 32]               0\n",
      "        Dropout2d-26           [-1, 32, 32, 32]               0\n",
      "ImprovedResidualBlock-27           [-1, 32, 32, 32]               0\n",
      "           Conv2d-28           [-1, 32, 32, 32]           9,216\n",
      "      BatchNorm2d-29           [-1, 32, 32, 32]              64\n",
      "           Conv2d-30           [-1, 32, 32, 32]           9,216\n",
      "      BatchNorm2d-31           [-1, 32, 32, 32]              64\n",
      "AdaptiveAvgPool2d-32             [-1, 32, 1, 1]               0\n",
      "           Conv2d-33              [-1, 2, 1, 1]              66\n",
      "             ReLU-34              [-1, 2, 1, 1]               0\n",
      "           Conv2d-35             [-1, 32, 1, 1]              96\n",
      "          Sigmoid-36             [-1, 32, 1, 1]               0\n",
      "          SEBlock-37           [-1, 32, 32, 32]               0\n",
      "        Dropout2d-38           [-1, 32, 32, 32]               0\n",
      "ImprovedResidualBlock-39           [-1, 32, 32, 32]               0\n",
      "           Conv2d-40           [-1, 32, 32, 32]           9,216\n",
      "      BatchNorm2d-41           [-1, 32, 32, 32]              64\n",
      "           Conv2d-42           [-1, 32, 32, 32]           9,216\n",
      "      BatchNorm2d-43           [-1, 32, 32, 32]              64\n",
      "AdaptiveAvgPool2d-44             [-1, 32, 1, 1]               0\n",
      "           Conv2d-45              [-1, 2, 1, 1]              66\n",
      "             ReLU-46              [-1, 2, 1, 1]               0\n",
      "           Conv2d-47             [-1, 32, 1, 1]              96\n",
      "          Sigmoid-48             [-1, 32, 1, 1]               0\n",
      "          SEBlock-49           [-1, 32, 32, 32]               0\n",
      "        Dropout2d-50           [-1, 32, 32, 32]               0\n",
      "ImprovedResidualBlock-51           [-1, 32, 32, 32]               0\n",
      "           Conv2d-52           [-1, 32, 32, 32]           9,216\n",
      "      BatchNorm2d-53           [-1, 32, 32, 32]              64\n",
      "           Conv2d-54           [-1, 32, 32, 32]           9,216\n",
      "      BatchNorm2d-55           [-1, 32, 32, 32]              64\n",
      "AdaptiveAvgPool2d-56             [-1, 32, 1, 1]               0\n",
      "           Conv2d-57              [-1, 2, 1, 1]              66\n",
      "             ReLU-58              [-1, 2, 1, 1]               0\n",
      "           Conv2d-59             [-1, 32, 1, 1]              96\n",
      "          Sigmoid-60             [-1, 32, 1, 1]               0\n",
      "          SEBlock-61           [-1, 32, 32, 32]               0\n",
      "        Dropout2d-62           [-1, 32, 32, 32]               0\n",
      "ImprovedResidualBlock-63           [-1, 32, 32, 32]               0\n",
      "           Conv2d-64           [-1, 32, 32, 32]           9,216\n",
      "      BatchNorm2d-65           [-1, 32, 32, 32]              64\n",
      "           Conv2d-66           [-1, 32, 32, 32]           9,216\n",
      "      BatchNorm2d-67           [-1, 32, 32, 32]              64\n",
      "AdaptiveAvgPool2d-68             [-1, 32, 1, 1]               0\n",
      "           Conv2d-69              [-1, 2, 1, 1]              66\n",
      "             ReLU-70              [-1, 2, 1, 1]               0\n",
      "           Conv2d-71             [-1, 32, 1, 1]              96\n",
      "          Sigmoid-72             [-1, 32, 1, 1]               0\n",
      "          SEBlock-73           [-1, 32, 32, 32]               0\n",
      "        Dropout2d-74           [-1, 32, 32, 32]               0\n",
      "ImprovedResidualBlock-75           [-1, 32, 32, 32]               0\n",
      "           Conv2d-76           [-1, 32, 32, 32]           9,216\n",
      "      BatchNorm2d-77           [-1, 32, 32, 32]              64\n",
      "           Conv2d-78           [-1, 32, 32, 32]           9,216\n",
      "      BatchNorm2d-79           [-1, 32, 32, 32]              64\n",
      "AdaptiveAvgPool2d-80             [-1, 32, 1, 1]               0\n",
      "           Conv2d-81              [-1, 2, 1, 1]              66\n",
      "             ReLU-82              [-1, 2, 1, 1]               0\n",
      "           Conv2d-83             [-1, 32, 1, 1]              96\n",
      "          Sigmoid-84             [-1, 32, 1, 1]               0\n",
      "          SEBlock-85           [-1, 32, 32, 32]               0\n",
      "        Dropout2d-86           [-1, 32, 32, 32]               0\n",
      "ImprovedResidualBlock-87           [-1, 32, 32, 32]               0\n",
      "           Conv2d-88           [-1, 64, 16, 16]          18,432\n",
      "      BatchNorm2d-89           [-1, 64, 16, 16]             128\n",
      "           Conv2d-90           [-1, 64, 16, 16]          36,864\n",
      "      BatchNorm2d-91           [-1, 64, 16, 16]             128\n",
      "AdaptiveAvgPool2d-92             [-1, 64, 1, 1]               0\n",
      "           Conv2d-93              [-1, 4, 1, 1]             260\n",
      "             ReLU-94              [-1, 4, 1, 1]               0\n",
      "           Conv2d-95             [-1, 64, 1, 1]             320\n",
      "          Sigmoid-96             [-1, 64, 1, 1]               0\n",
      "          SEBlock-97           [-1, 64, 16, 16]               0\n",
      "        Dropout2d-98           [-1, 64, 16, 16]               0\n",
      "        AvgPool2d-99           [-1, 32, 16, 16]               0\n",
      "          Conv2d-100           [-1, 64, 16, 16]           2,048\n",
      "     BatchNorm2d-101           [-1, 64, 16, 16]             128\n",
      "ImprovedResidualBlock-102           [-1, 64, 16, 16]               0\n",
      "          Conv2d-103           [-1, 64, 16, 16]          36,864\n",
      "     BatchNorm2d-104           [-1, 64, 16, 16]             128\n",
      "          Conv2d-105           [-1, 64, 16, 16]          36,864\n",
      "     BatchNorm2d-106           [-1, 64, 16, 16]             128\n",
      "AdaptiveAvgPool2d-107             [-1, 64, 1, 1]               0\n",
      "          Conv2d-108              [-1, 4, 1, 1]             260\n",
      "            ReLU-109              [-1, 4, 1, 1]               0\n",
      "          Conv2d-110             [-1, 64, 1, 1]             320\n",
      "         Sigmoid-111             [-1, 64, 1, 1]               0\n",
      "         SEBlock-112           [-1, 64, 16, 16]               0\n",
      "       Dropout2d-113           [-1, 64, 16, 16]               0\n",
      "ImprovedResidualBlock-114           [-1, 64, 16, 16]               0\n",
      "          Conv2d-115           [-1, 64, 16, 16]          36,864\n",
      "     BatchNorm2d-116           [-1, 64, 16, 16]             128\n",
      "          Conv2d-117           [-1, 64, 16, 16]          36,864\n",
      "     BatchNorm2d-118           [-1, 64, 16, 16]             128\n",
      "AdaptiveAvgPool2d-119             [-1, 64, 1, 1]               0\n",
      "          Conv2d-120              [-1, 4, 1, 1]             260\n",
      "            ReLU-121              [-1, 4, 1, 1]               0\n",
      "          Conv2d-122             [-1, 64, 1, 1]             320\n",
      "         Sigmoid-123             [-1, 64, 1, 1]               0\n",
      "         SEBlock-124           [-1, 64, 16, 16]               0\n",
      "       Dropout2d-125           [-1, 64, 16, 16]               0\n",
      "ImprovedResidualBlock-126           [-1, 64, 16, 16]               0\n",
      "          Conv2d-127           [-1, 64, 16, 16]          36,864\n",
      "     BatchNorm2d-128           [-1, 64, 16, 16]             128\n",
      "          Conv2d-129           [-1, 64, 16, 16]          36,864\n",
      "     BatchNorm2d-130           [-1, 64, 16, 16]             128\n",
      "AdaptiveAvgPool2d-131             [-1, 64, 1, 1]               0\n",
      "          Conv2d-132              [-1, 4, 1, 1]             260\n",
      "            ReLU-133              [-1, 4, 1, 1]               0\n",
      "          Conv2d-134             [-1, 64, 1, 1]             320\n",
      "         Sigmoid-135             [-1, 64, 1, 1]               0\n",
      "         SEBlock-136           [-1, 64, 16, 16]               0\n",
      "       Dropout2d-137           [-1, 64, 16, 16]               0\n",
      "ImprovedResidualBlock-138           [-1, 64, 16, 16]               0\n",
      "          Conv2d-139           [-1, 64, 16, 16]          36,864\n",
      "     BatchNorm2d-140           [-1, 64, 16, 16]             128\n",
      "          Conv2d-141           [-1, 64, 16, 16]          36,864\n",
      "     BatchNorm2d-142           [-1, 64, 16, 16]             128\n",
      "AdaptiveAvgPool2d-143             [-1, 64, 1, 1]               0\n",
      "          Conv2d-144              [-1, 4, 1, 1]             260\n",
      "            ReLU-145              [-1, 4, 1, 1]               0\n",
      "          Conv2d-146             [-1, 64, 1, 1]             320\n",
      "         Sigmoid-147             [-1, 64, 1, 1]               0\n",
      "         SEBlock-148           [-1, 64, 16, 16]               0\n",
      "       Dropout2d-149           [-1, 64, 16, 16]               0\n",
      "ImprovedResidualBlock-150           [-1, 64, 16, 16]               0\n",
      "          Conv2d-151           [-1, 64, 16, 16]          36,864\n",
      "     BatchNorm2d-152           [-1, 64, 16, 16]             128\n",
      "          Conv2d-153           [-1, 64, 16, 16]          36,864\n",
      "     BatchNorm2d-154           [-1, 64, 16, 16]             128\n",
      "AdaptiveAvgPool2d-155             [-1, 64, 1, 1]               0\n",
      "          Conv2d-156              [-1, 4, 1, 1]             260\n",
      "            ReLU-157              [-1, 4, 1, 1]               0\n",
      "          Conv2d-158             [-1, 64, 1, 1]             320\n",
      "         Sigmoid-159             [-1, 64, 1, 1]               0\n",
      "         SEBlock-160           [-1, 64, 16, 16]               0\n",
      "       Dropout2d-161           [-1, 64, 16, 16]               0\n",
      "ImprovedResidualBlock-162           [-1, 64, 16, 16]               0\n",
      "          Conv2d-163            [-1, 128, 8, 8]          73,728\n",
      "     BatchNorm2d-164            [-1, 128, 8, 8]             256\n",
      "          Conv2d-165            [-1, 128, 8, 8]         147,456\n",
      "     BatchNorm2d-166            [-1, 128, 8, 8]             256\n",
      "AdaptiveAvgPool2d-167            [-1, 128, 1, 1]               0\n",
      "          Conv2d-168              [-1, 8, 1, 1]           1,032\n",
      "            ReLU-169              [-1, 8, 1, 1]               0\n",
      "          Conv2d-170            [-1, 128, 1, 1]           1,152\n",
      "         Sigmoid-171            [-1, 128, 1, 1]               0\n",
      "         SEBlock-172            [-1, 128, 8, 8]               0\n",
      "       Dropout2d-173            [-1, 128, 8, 8]               0\n",
      "       AvgPool2d-174             [-1, 64, 8, 8]               0\n",
      "          Conv2d-175            [-1, 128, 8, 8]           8,192\n",
      "     BatchNorm2d-176            [-1, 128, 8, 8]             256\n",
      "ImprovedResidualBlock-177            [-1, 128, 8, 8]               0\n",
      "          Conv2d-178            [-1, 128, 8, 8]         147,456\n",
      "     BatchNorm2d-179            [-1, 128, 8, 8]             256\n",
      "          Conv2d-180            [-1, 128, 8, 8]         147,456\n",
      "     BatchNorm2d-181            [-1, 128, 8, 8]             256\n",
      "AdaptiveAvgPool2d-182            [-1, 128, 1, 1]               0\n",
      "          Conv2d-183              [-1, 8, 1, 1]           1,032\n",
      "            ReLU-184              [-1, 8, 1, 1]               0\n",
      "          Conv2d-185            [-1, 128, 1, 1]           1,152\n",
      "         Sigmoid-186            [-1, 128, 1, 1]               0\n",
      "         SEBlock-187            [-1, 128, 8, 8]               0\n",
      "       Dropout2d-188            [-1, 128, 8, 8]               0\n",
      "ImprovedResidualBlock-189            [-1, 128, 8, 8]               0\n",
      "          Conv2d-190            [-1, 128, 8, 8]         147,456\n",
      "     BatchNorm2d-191            [-1, 128, 8, 8]             256\n",
      "          Conv2d-192            [-1, 128, 8, 8]         147,456\n",
      "     BatchNorm2d-193            [-1, 128, 8, 8]             256\n",
      "AdaptiveAvgPool2d-194            [-1, 128, 1, 1]               0\n",
      "          Conv2d-195              [-1, 8, 1, 1]           1,032\n",
      "            ReLU-196              [-1, 8, 1, 1]               0\n",
      "          Conv2d-197            [-1, 128, 1, 1]           1,152\n",
      "         Sigmoid-198            [-1, 128, 1, 1]               0\n",
      "         SEBlock-199            [-1, 128, 8, 8]               0\n",
      "       Dropout2d-200            [-1, 128, 8, 8]               0\n",
      "ImprovedResidualBlock-201            [-1, 128, 8, 8]               0\n",
      "          Conv2d-202            [-1, 128, 8, 8]         147,456\n",
      "     BatchNorm2d-203            [-1, 128, 8, 8]             256\n",
      "          Conv2d-204            [-1, 128, 8, 8]         147,456\n",
      "     BatchNorm2d-205            [-1, 128, 8, 8]             256\n",
      "AdaptiveAvgPool2d-206            [-1, 128, 1, 1]               0\n",
      "          Conv2d-207              [-1, 8, 1, 1]           1,032\n",
      "            ReLU-208              [-1, 8, 1, 1]               0\n",
      "          Conv2d-209            [-1, 128, 1, 1]           1,152\n",
      "         Sigmoid-210            [-1, 128, 1, 1]               0\n",
      "         SEBlock-211            [-1, 128, 8, 8]               0\n",
      "       Dropout2d-212            [-1, 128, 8, 8]               0\n",
      "ImprovedResidualBlock-213            [-1, 128, 8, 8]               0\n",
      "          Conv2d-214            [-1, 256, 4, 4]         294,912\n",
      "     BatchNorm2d-215            [-1, 256, 4, 4]             512\n",
      "          Conv2d-216            [-1, 256, 4, 4]         589,824\n",
      "     BatchNorm2d-217            [-1, 256, 4, 4]             512\n",
      "AdaptiveAvgPool2d-218            [-1, 256, 1, 1]               0\n",
      "          Conv2d-219             [-1, 16, 1, 1]           4,112\n",
      "            ReLU-220             [-1, 16, 1, 1]               0\n",
      "          Conv2d-221            [-1, 256, 1, 1]           4,352\n",
      "         Sigmoid-222            [-1, 256, 1, 1]               0\n",
      "         SEBlock-223            [-1, 256, 4, 4]               0\n",
      "       Dropout2d-224            [-1, 256, 4, 4]               0\n",
      "       AvgPool2d-225            [-1, 128, 4, 4]               0\n",
      "          Conv2d-226            [-1, 256, 4, 4]          32,768\n",
      "     BatchNorm2d-227            [-1, 256, 4, 4]             512\n",
      "ImprovedResidualBlock-228            [-1, 256, 4, 4]               0\n",
      "          Conv2d-229            [-1, 256, 4, 4]         589,824\n",
      "     BatchNorm2d-230            [-1, 256, 4, 4]             512\n",
      "          Conv2d-231            [-1, 256, 4, 4]         589,824\n",
      "     BatchNorm2d-232            [-1, 256, 4, 4]             512\n",
      "AdaptiveAvgPool2d-233            [-1, 256, 1, 1]               0\n",
      "          Conv2d-234             [-1, 16, 1, 1]           4,112\n",
      "            ReLU-235             [-1, 16, 1, 1]               0\n",
      "          Conv2d-236            [-1, 256, 1, 1]           4,352\n",
      "         Sigmoid-237            [-1, 256, 1, 1]               0\n",
      "         SEBlock-238            [-1, 256, 4, 4]               0\n",
      "       Dropout2d-239            [-1, 256, 4, 4]               0\n",
      "ImprovedResidualBlock-240            [-1, 256, 4, 4]               0\n",
      "          Conv2d-241            [-1, 256, 4, 4]         589,824\n",
      "     BatchNorm2d-242            [-1, 256, 4, 4]             512\n",
      "          Conv2d-243            [-1, 256, 4, 4]         589,824\n",
      "     BatchNorm2d-244            [-1, 256, 4, 4]             512\n",
      "AdaptiveAvgPool2d-245            [-1, 256, 1, 1]               0\n",
      "          Conv2d-246             [-1, 16, 1, 1]           4,112\n",
      "            ReLU-247             [-1, 16, 1, 1]               0\n",
      "          Conv2d-248            [-1, 256, 1, 1]           4,352\n",
      "         Sigmoid-249            [-1, 256, 1, 1]               0\n",
      "         SEBlock-250            [-1, 256, 4, 4]               0\n",
      "       Dropout2d-251            [-1, 256, 4, 4]               0\n",
      "ImprovedResidualBlock-252            [-1, 256, 4, 4]               0\n",
      "AdaptiveAvgPool2d-253            [-1, 256, 1, 1]               0\n",
      "         Dropout-254                  [-1, 256]               0\n",
      "          Linear-255                   [-1, 10]           2,570\n",
      "================================================================\n",
      "Total params: 4,996,608\n",
      "Trainable params: 4,996,608\n",
      "Non-trainable params: 0\n",
      "----------------------------------------------------------------\n",
      "Input size (MB): 0.01\n",
      "Forward/backward pass size (MB): 21.25\n",
      "Params size (MB): 19.06\n",
      "Estimated Total Size (MB): 40.32\n",
      "----------------------------------------------------------------\n"
     ]
    }
   ],
   "source": [
    "# class SEBlock(nn.Module):\n",
    "#     def __init__(self, channels, reduction=16):\n",
    "#         super().__init__()\n",
    "#         self.se = nn.Sequential(\n",
    "#             nn.AdaptiveAvgPool2d(1),\n",
    "#             nn.Conv2d(channels, channels//reduction, 1),\n",
    "#             nn.ReLU(),\n",
    "#             nn.Conv2d(channels//reduction, channels, 1),\n",
    "#             nn.Sigmoid()\n",
    "#         )\n",
    "    \n",
    "#     def forward(self, x):\n",
    "#         return x * self.se(x)\n",
    "\n",
    "\n",
    "# class ImprovedResidualBlock(nn.Module):\n",
    "#     def __init__(self, in_channels, out_channels, stride, drop_rate, reduction):\n",
    "#         super().__init__()\n",
    "#         self.dropout = nn.Dropout2d(p=drop_rate) if drop_rate > 0 else None\n",
    "        \n",
    "#         self.conv1 = nn.Conv2d(in_channels, out_channels, 3, stride, 1, bias=False)\n",
    "#         self.bn1 = nn.BatchNorm2d(out_channels)\n",
    "#         self.conv2 = nn.Conv2d(out_channels, out_channels, 3, 1, 1, bias=False)\n",
    "#         self.bn2 = nn.BatchNorm2d(out_channels)\n",
    "#         self.se = SEBlock(out_channels, reduction)\n",
    "        \n",
    "#         self.shortcut = nn.Sequential()\n",
    "#         if stride != 1 or in_channels != out_channels:\n",
    "#             self.shortcut = nn.Sequential(\n",
    "#                 nn.AvgPool2d(2, stride=2) if stride == 2 else nn.Identity(),\n",
    "#                 nn.Conv2d(in_channels, out_channels, 1, 1, bias=False),\n",
    "#                 nn.BatchNorm2d(out_channels)\n",
    "#             )\n",
    "\n",
    "#     def forward(self, x):\n",
    "#         out = F.relu(self.bn1(self.conv1(x)))\n",
    "#         out = self.bn2(self.conv2(out))\n",
    "#         out = self.se(out)\n",
    "#         if self.dropout:\n",
    "#             out = self.dropout(out)\n",
    "#         out += self.shortcut(x)\n",
    "#         return F.relu(out)\n",
    "\n",
    "\n",
    "# class ImprovedResNet(nn.Module):\n",
    "#     def __init__(self, drop_rate=0.2, se_reduction=4):\n",
    "#         super().__init__()\n",
    "#         self.in_channels = 32\n",
    "        \n",
    "#         # Enhanced stem with multiple 3x3 convs (ResNet-D inspired)\n",
    "#         self.stem = nn.Sequential(\n",
    "#             nn.Conv2d(3, 32, 3, stride=1, padding=1, bias=False),\n",
    "#             nn.BatchNorm2d(32),\n",
    "#             nn.ReLU(),\n",
    "#         )\n",
    "        \n",
    "#         # Modified layer configuration with stochastic depth\n",
    "#         self.layer1 = self._make_layer(32, 7, stride=1, drop_rate=drop_rate, se_reduction=se_reduction)\n",
    "#         self.layer2 = self._make_layer(64, 6, stride=2, drop_rate=drop_rate, se_reduction=se_reduction)\n",
    "#         self.layer3 = self._make_layer(128, 4, stride=2, drop_rate=drop_rate, se_reduction=se_reduction)\n",
    "#         self.layer4 = self._make_layer(256, 3, stride=2, drop_rate=drop_rate, se_reduction=se_reduction)\n",
    "        \n",
    "#         # Final layers with enhanced regularization\n",
    "#         self.avgpool = nn.AdaptiveAvgPool2d(1)\n",
    "#         self.fc = nn.Sequential(\n",
    "#             nn.Dropout(drop_rate),\n",
    "#             nn.Linear(256, 10),\n",
    "#             # nn.ReLU(),\n",
    "#             # nn.Dropout(drop_rate//2),\n",
    "#             # nn.Linear(512, 10)\n",
    "#         )\n",
    "\n",
    "#     def _make_layer(self, channels, num_blocks, stride, drop_rate, se_reduction):\n",
    "#         layers = []\n",
    "#         layers.append(ImprovedResidualBlock(self.in_channels, channels, stride, \n",
    "#                                           drop_rate, se_reduction))\n",
    "#         self.in_channels = channels\n",
    "#         for _ in range(1, num_blocks):\n",
    "#             layers.append(ImprovedResidualBlock(channels, channels, 1,\n",
    "#                                               drop_rate, se_reduction))\n",
    "#         return nn.Sequential(*layers)\n",
    "\n",
    "#     def forward(self, x):\n",
    "#         x = self.stem(x)\n",
    "#         x = self.layer1(x)\n",
    "#         x = self.layer2(x)\n",
    "#         x = self.layer3(x)\n",
    "#         x = self.layer4(x)\n",
    "#         x = self.avgpool(x)\n",
    "#         x = x.view(x.size(0), -1)\n",
    "#         return self.fc(x)\n",
    "\n",
    "\n",
    "\n",
    "# # Model initialization and device setup\n",
    "# model = ImprovedResNet()\n",
    "# device = torch.device(\"cuda\" if torch.cuda.is_available() else \"cpu\")\n",
    "# model = model.to(device)\n",
    "\n",
    "# # Print model summary\n",
    "# summary(model, input_size=(3, 32, 32), device=str(device))"
   ]
  },
  {
   "cell_type": "code",
   "execution_count": 28,
   "id": "4d4c47d3-5bbd-4cf4-86f8-a8c1e886720d",
   "metadata": {},
   "outputs": [
    {
     "name": "stdout",
     "output_type": "stream",
     "text": [
      "----------------------------------------------------------------\n",
      "        Layer (type)               Output Shape         Param #\n",
      "================================================================\n",
      "            Conv2d-1           [-1, 32, 32, 32]             864\n",
      "       BatchNorm2d-2           [-1, 32, 32, 32]              64\n",
      "              ReLU-3           [-1, 32, 32, 32]               0\n",
      "            Conv2d-4           [-1, 32, 32, 32]           9,216\n",
      "       BatchNorm2d-5           [-1, 32, 32, 32]              64\n",
      "              ReLU-6           [-1, 32, 32, 32]               0\n",
      "            Conv2d-7           [-1, 32, 32, 32]           9,216\n",
      "       BatchNorm2d-8           [-1, 32, 32, 32]              64\n",
      "              ReLU-9           [-1, 32, 32, 32]               0\n",
      "           Conv2d-10           [-1, 32, 32, 32]           9,216\n",
      "      BatchNorm2d-11           [-1, 32, 32, 32]              64\n",
      "           Conv2d-12           [-1, 32, 32, 32]           9,216\n",
      "      BatchNorm2d-13           [-1, 32, 32, 32]              64\n",
      "        Dropout2d-14           [-1, 32, 32, 32]               0\n",
      "    ResidualBlock-15           [-1, 32, 32, 32]               0\n",
      "           Conv2d-16           [-1, 32, 32, 32]           9,216\n",
      "      BatchNorm2d-17           [-1, 32, 32, 32]              64\n",
      "           Conv2d-18           [-1, 32, 32, 32]           9,216\n",
      "      BatchNorm2d-19           [-1, 32, 32, 32]              64\n",
      "        Dropout2d-20           [-1, 32, 32, 32]               0\n",
      "    ResidualBlock-21           [-1, 32, 32, 32]               0\n",
      "           Conv2d-22           [-1, 32, 32, 32]           9,216\n",
      "      BatchNorm2d-23           [-1, 32, 32, 32]              64\n",
      "           Conv2d-24           [-1, 32, 32, 32]           9,216\n",
      "      BatchNorm2d-25           [-1, 32, 32, 32]              64\n",
      "        Dropout2d-26           [-1, 32, 32, 32]               0\n",
      "    ResidualBlock-27           [-1, 32, 32, 32]               0\n",
      "           Conv2d-28           [-1, 32, 32, 32]           9,216\n",
      "      BatchNorm2d-29           [-1, 32, 32, 32]              64\n",
      "           Conv2d-30           [-1, 32, 32, 32]           9,216\n",
      "      BatchNorm2d-31           [-1, 32, 32, 32]              64\n",
      "        Dropout2d-32           [-1, 32, 32, 32]               0\n",
      "    ResidualBlock-33           [-1, 32, 32, 32]               0\n",
      "           Conv2d-34           [-1, 32, 32, 32]           9,216\n",
      "      BatchNorm2d-35           [-1, 32, 32, 32]              64\n",
      "           Conv2d-36           [-1, 32, 32, 32]           9,216\n",
      "      BatchNorm2d-37           [-1, 32, 32, 32]              64\n",
      "        Dropout2d-38           [-1, 32, 32, 32]               0\n",
      "    ResidualBlock-39           [-1, 32, 32, 32]               0\n",
      "           Conv2d-40           [-1, 32, 32, 32]           9,216\n",
      "      BatchNorm2d-41           [-1, 32, 32, 32]              64\n",
      "           Conv2d-42           [-1, 32, 32, 32]           9,216\n",
      "      BatchNorm2d-43           [-1, 32, 32, 32]              64\n",
      "        Dropout2d-44           [-1, 32, 32, 32]               0\n",
      "    ResidualBlock-45           [-1, 32, 32, 32]               0\n",
      "           Conv2d-46           [-1, 32, 32, 32]           9,216\n",
      "      BatchNorm2d-47           [-1, 32, 32, 32]              64\n",
      "           Conv2d-48           [-1, 32, 32, 32]           9,216\n",
      "      BatchNorm2d-49           [-1, 32, 32, 32]              64\n",
      "        Dropout2d-50           [-1, 32, 32, 32]               0\n",
      "    ResidualBlock-51           [-1, 32, 32, 32]               0\n",
      "           Conv2d-52           [-1, 32, 32, 32]           9,216\n",
      "      BatchNorm2d-53           [-1, 32, 32, 32]              64\n",
      "           Conv2d-54           [-1, 32, 32, 32]           9,216\n",
      "      BatchNorm2d-55           [-1, 32, 32, 32]              64\n",
      "        Dropout2d-56           [-1, 32, 32, 32]               0\n",
      "    ResidualBlock-57           [-1, 32, 32, 32]               0\n",
      "           Conv2d-58           [-1, 64, 16, 16]          18,432\n",
      "      BatchNorm2d-59           [-1, 64, 16, 16]             128\n",
      "           Conv2d-60           [-1, 64, 16, 16]          36,864\n",
      "      BatchNorm2d-61           [-1, 64, 16, 16]             128\n",
      "        Dropout2d-62           [-1, 64, 16, 16]               0\n",
      "        AvgPool2d-63           [-1, 32, 16, 16]               0\n",
      "           Conv2d-64           [-1, 64, 16, 16]           2,048\n",
      "      BatchNorm2d-65           [-1, 64, 16, 16]             128\n",
      "    ResidualBlock-66           [-1, 64, 16, 16]               0\n",
      "           Conv2d-67           [-1, 64, 16, 16]          36,864\n",
      "      BatchNorm2d-68           [-1, 64, 16, 16]             128\n",
      "           Conv2d-69           [-1, 64, 16, 16]          36,864\n",
      "      BatchNorm2d-70           [-1, 64, 16, 16]             128\n",
      "        Dropout2d-71           [-1, 64, 16, 16]               0\n",
      "    ResidualBlock-72           [-1, 64, 16, 16]               0\n",
      "           Conv2d-73           [-1, 64, 16, 16]          36,864\n",
      "      BatchNorm2d-74           [-1, 64, 16, 16]             128\n",
      "           Conv2d-75           [-1, 64, 16, 16]          36,864\n",
      "      BatchNorm2d-76           [-1, 64, 16, 16]             128\n",
      "        Dropout2d-77           [-1, 64, 16, 16]               0\n",
      "    ResidualBlock-78           [-1, 64, 16, 16]               0\n",
      "           Conv2d-79           [-1, 64, 16, 16]          36,864\n",
      "      BatchNorm2d-80           [-1, 64, 16, 16]             128\n",
      "           Conv2d-81           [-1, 64, 16, 16]          36,864\n",
      "      BatchNorm2d-82           [-1, 64, 16, 16]             128\n",
      "        Dropout2d-83           [-1, 64, 16, 16]               0\n",
      "    ResidualBlock-84           [-1, 64, 16, 16]               0\n",
      "           Conv2d-85           [-1, 64, 16, 16]          36,864\n",
      "      BatchNorm2d-86           [-1, 64, 16, 16]             128\n",
      "           Conv2d-87           [-1, 64, 16, 16]          36,864\n",
      "      BatchNorm2d-88           [-1, 64, 16, 16]             128\n",
      "        Dropout2d-89           [-1, 64, 16, 16]               0\n",
      "    ResidualBlock-90           [-1, 64, 16, 16]               0\n",
      "           Conv2d-91           [-1, 64, 16, 16]          36,864\n",
      "      BatchNorm2d-92           [-1, 64, 16, 16]             128\n",
      "           Conv2d-93           [-1, 64, 16, 16]          36,864\n",
      "      BatchNorm2d-94           [-1, 64, 16, 16]             128\n",
      "        Dropout2d-95           [-1, 64, 16, 16]               0\n",
      "    ResidualBlock-96           [-1, 64, 16, 16]               0\n",
      "           Conv2d-97            [-1, 128, 8, 8]          73,728\n",
      "      BatchNorm2d-98            [-1, 128, 8, 8]             256\n",
      "           Conv2d-99            [-1, 128, 8, 8]         147,456\n",
      "     BatchNorm2d-100            [-1, 128, 8, 8]             256\n",
      "       Dropout2d-101            [-1, 128, 8, 8]               0\n",
      "       AvgPool2d-102             [-1, 64, 8, 8]               0\n",
      "          Conv2d-103            [-1, 128, 8, 8]           8,192\n",
      "     BatchNorm2d-104            [-1, 128, 8, 8]             256\n",
      "   ResidualBlock-105            [-1, 128, 8, 8]               0\n",
      "          Conv2d-106            [-1, 128, 8, 8]         147,456\n",
      "     BatchNorm2d-107            [-1, 128, 8, 8]             256\n",
      "          Conv2d-108            [-1, 128, 8, 8]         147,456\n",
      "     BatchNorm2d-109            [-1, 128, 8, 8]             256\n",
      "       Dropout2d-110            [-1, 128, 8, 8]               0\n",
      "   ResidualBlock-111            [-1, 128, 8, 8]               0\n",
      "          Conv2d-112            [-1, 128, 8, 8]         147,456\n",
      "     BatchNorm2d-113            [-1, 128, 8, 8]             256\n",
      "          Conv2d-114            [-1, 128, 8, 8]         147,456\n",
      "     BatchNorm2d-115            [-1, 128, 8, 8]             256\n",
      "       Dropout2d-116            [-1, 128, 8, 8]               0\n",
      "   ResidualBlock-117            [-1, 128, 8, 8]               0\n",
      "          Conv2d-118            [-1, 128, 8, 8]         147,456\n",
      "     BatchNorm2d-119            [-1, 128, 8, 8]             256\n",
      "          Conv2d-120            [-1, 128, 8, 8]         147,456\n",
      "     BatchNorm2d-121            [-1, 128, 8, 8]             256\n",
      "       Dropout2d-122            [-1, 128, 8, 8]               0\n",
      "   ResidualBlock-123            [-1, 128, 8, 8]               0\n",
      "          Conv2d-124            [-1, 256, 4, 4]         294,912\n",
      "     BatchNorm2d-125            [-1, 256, 4, 4]             512\n",
      "          Conv2d-126            [-1, 256, 4, 4]         589,824\n",
      "     BatchNorm2d-127            [-1, 256, 4, 4]             512\n",
      "       Dropout2d-128            [-1, 256, 4, 4]               0\n",
      "       AvgPool2d-129            [-1, 128, 4, 4]               0\n",
      "          Conv2d-130            [-1, 256, 4, 4]          32,768\n",
      "     BatchNorm2d-131            [-1, 256, 4, 4]             512\n",
      "   ResidualBlock-132            [-1, 256, 4, 4]               0\n",
      "          Conv2d-133            [-1, 256, 4, 4]         589,824\n",
      "     BatchNorm2d-134            [-1, 256, 4, 4]             512\n",
      "          Conv2d-135            [-1, 256, 4, 4]         589,824\n",
      "     BatchNorm2d-136            [-1, 256, 4, 4]             512\n",
      "       Dropout2d-137            [-1, 256, 4, 4]               0\n",
      "   ResidualBlock-138            [-1, 256, 4, 4]               0\n",
      "          Conv2d-139            [-1, 256, 4, 4]         589,824\n",
      "     BatchNorm2d-140            [-1, 256, 4, 4]             512\n",
      "          Conv2d-141            [-1, 256, 4, 4]         589,824\n",
      "     BatchNorm2d-142            [-1, 256, 4, 4]             512\n",
      "       Dropout2d-143            [-1, 256, 4, 4]               0\n",
      "   ResidualBlock-144            [-1, 256, 4, 4]               0\n",
      "AdaptiveAvgPool2d-145            [-1, 256, 1, 1]               0\n",
      "         Dropout-146                  [-1, 256]               0\n",
      "          Linear-147                   [-1, 10]           2,570\n",
      "================================================================\n",
      "Total params: 4,994,986\n",
      "Trainable params: 4,994,986\n",
      "Non-trainable params: 0\n",
      "----------------------------------------------------------------\n",
      "Input size (MB): 0.01\n",
      "Forward/backward pass size (MB): 21.36\n",
      "Params size (MB): 19.05\n",
      "Estimated Total Size (MB): 40.43\n",
      "----------------------------------------------------------------\n"
     ]
    }
   ],
   "source": [
    "class ResidualBlock(nn.Module):\n",
    "    def __init__(self, in_channels, out_channels, stride, drop_rate):\n",
    "        super().__init__()\n",
    "        self.dropout = nn.Dropout2d(p=drop_rate) if drop_rate > 0 else None\n",
    "        \n",
    "        self.conv1 = nn.Conv2d(in_channels, out_channels, 3, stride, 1, bias=False)\n",
    "        self.bn1 = nn.BatchNorm2d(out_channels)\n",
    "        self.conv2 = nn.Conv2d(out_channels, out_channels, 3, 1, 1, bias=False)\n",
    "        self.bn2 = nn.BatchNorm2d(out_channels)\n",
    "        \n",
    "        self.shortcut = nn.Sequential()\n",
    "        if stride != 1 or in_channels != out_channels:\n",
    "            self.shortcut = nn.Sequential(\n",
    "                nn.AvgPool2d(2, stride=2) if stride == 2 else nn.Identity(),\n",
    "                nn.Conv2d(in_channels, out_channels, 1, 1, bias=False),\n",
    "                nn.BatchNorm2d(out_channels)\n",
    "            )\n",
    "\n",
    "    def forward(self, x):\n",
    "        out = F.relu(self.bn1(self.conv1(x)))\n",
    "        out = self.bn2(self.conv2(out))\n",
    "        if self.dropout:\n",
    "            out = self.dropout(out)\n",
    "        out += self.shortcut(x)\n",
    "        return F.relu(out)\n",
    "\n",
    "\n",
    "class ResNet(nn.Module):\n",
    "    def __init__(self, drop_rate=0.2):\n",
    "        super().__init__()\n",
    "        self.in_channels = 32\n",
    "        \n",
    "        # Enhanced stem with multiple 3x3 convs (ResNet-D inspired)\n",
    "        self.stem = nn.Sequential(\n",
    "            nn.Conv2d(3, 32, 3, stride=1, padding=1, bias=False),\n",
    "            nn.BatchNorm2d(32),\n",
    "            nn.ReLU(),\n",
    "            nn.Conv2d(32, 32, 3, stride=1, padding=1, bias=False),\n",
    "            nn.BatchNorm2d(32),\n",
    "            nn.ReLU(),\n",
    "            nn.Conv2d(32, 32, 3, stride=1, padding=1, bias=False),\n",
    "            nn.BatchNorm2d(32),\n",
    "            nn.ReLU(),\n",
    "        )\n",
    "        \n",
    "        # Modified layer configuration with stochastic depth\n",
    "        self.layer1 = self._make_layer(32, 8, stride=1, drop_rate=drop_rate)\n",
    "        self.layer2 = self._make_layer(64, 6, stride=2, drop_rate=drop_rate)\n",
    "        self.layer3 = self._make_layer(128, 4, stride=2, drop_rate=drop_rate)\n",
    "        self.layer4 = self._make_layer(256, 3, stride=2, drop_rate=drop_rate)\n",
    "        \n",
    "        # Final layers with enhanced regularization\n",
    "        self.avgpool = nn.AdaptiveAvgPool2d(1)\n",
    "        self.fc = nn.Sequential(\n",
    "            nn.Dropout(drop_rate),\n",
    "            nn.Linear(256, 10),\n",
    "            # nn.ReLU(),\n",
    "            # nn.Dropout(drop_rate//2),\n",
    "            # nn.Linear(512, 10)\n",
    "        )\n",
    "\n",
    "    def _make_layer(self, channels, num_blocks, stride, drop_rate):\n",
    "        layers = []\n",
    "        layers.append(ResidualBlock(self.in_channels, channels, stride, \n",
    "                                          drop_rate))\n",
    "        self.in_channels = channels\n",
    "        for _ in range(1, num_blocks):\n",
    "            layers.append(ResidualBlock(channels, channels, 1,\n",
    "                                              drop_rate))\n",
    "        return nn.Sequential(*layers)\n",
    "\n",
    "    def forward(self, x):\n",
    "        x = self.stem(x)\n",
    "        x = self.layer1(x)\n",
    "        x = self.layer2(x)\n",
    "        x = self.layer3(x)\n",
    "        x = self.layer4(x)\n",
    "        x = self.avgpool(x)\n",
    "        x = x.view(x.size(0), -1)\n",
    "        logits = self.fc(x)\n",
    "        probabilities = F.softmax(logits, dim=1)\n",
    "        return probabilities\n",
    "\n",
    "\n",
    "\n",
    "# Model initialization and device setup\n",
    "model = ResNet()\n",
    "device = torch.device(\"cuda\" if torch.cuda.is_available() else \"cpu\")\n",
    "model = model.to(device)\n",
    "\n",
    "# Print model summary\n",
    "summary(model, input_size=(3, 32, 32), device=str(device))"
   ]
  },
  {
   "cell_type": "code",
   "execution_count": 5,
   "id": "4c856953-3e3c-43ee-92f4-47d737138d98",
   "metadata": {},
   "outputs": [
    {
     "name": "stderr",
     "output_type": "stream",
     "text": [
      "Loading CIFAR-10 images and applying transformations: 100%|██████████| 50000/50000 [01:40<00:00, 498.31image/s]\n",
      "Loading CIFAR-10 images and applying transformations: 100%|██████████| 10000/10000 [00:20<00:00, 486.95image/s]"
     ]
    },
    {
     "name": "stdout",
     "output_type": "stream",
     "text": [
      "Original dataset size: 50000\n",
      "After transformations, dataset size: 550000\n"
     ]
    },
    {
     "name": "stderr",
     "output_type": "stream",
     "text": [
      "\n"
     ]
    }
   ],
   "source": [
    "# Load CIFAR-10 batch\n",
    "def load_cifar_batch(filename):\n",
    "    with open(filename, 'rb') as f:\n",
    "        batch = pickle.load(f, encoding='bytes')\n",
    "    return batch\n",
    "\n",
    "# Load CIFAR-10 data\n",
    "def load_cifar10(cifar10_dir):\n",
    "    train_images = []\n",
    "    train_labels = []\n",
    "\n",
    "    # Load training data from all batches (data_batch_1 to data_batch_5)\n",
    "    for batch_id in range(1, 6):\n",
    "        batch_dict = load_cifar_batch(os.path.join(cifar10_dir, f'data_batch_{batch_id}'))\n",
    "        train_images.append(batch_dict[b'data'])\n",
    "        train_labels.append(batch_dict[b'labels'])\n",
    "\n",
    "    # Concatenate images and labels\n",
    "    train_images = np.concatenate(train_images)\n",
    "    train_labels = np.concatenate(train_labels)\n",
    "\n",
    "    # Load the test data\n",
    "    test_dict = load_cifar_batch(os.path.join(cifar10_dir, 'test_batch'))\n",
    "    test_images = test_dict[b'data']\n",
    "    test_labels = test_dict[b'labels']\n",
    "\n",
    "    # Load the label names\n",
    "    meta_data_dict = load_cifar_batch(os.path.join(cifar10_dir, 'batches.meta'))\n",
    "    label_names = meta_data_dict[b'label_names']\n",
    "\n",
    "    # Reshape images into the format (num_samples, 32, 32, 3)\n",
    "    train_images = train_images.reshape((50000, 3, 32, 32))  # [C, H, W] -> [3, 32, 32]\n",
    "    test_images = test_images.reshape((10000, 3, 32, 32))    # [C, H, W] -> [3, 32, 32]\n",
    "\n",
    "    # Rearrange the dimensions to (32, 32, 3) format\n",
    "    train_images = np.transpose(train_images, (0, 2, 3, 1))  # [3, 32, 32] -> [32, 32, 3]\n",
    "    test_images = np.transpose(test_images, (0, 2, 3, 1))\n",
    "    \n",
    "    return (train_images, train_labels), (test_images, test_labels), label_names\n",
    "\n",
    "# Load CIFAR-10 data\n",
    "cifar10_dir = ''\n",
    "(train_images, train_labels), (test_images, test_labels), label_names = load_cifar10(cifar10_dir)\n",
    "\n",
    "# Define a variety of transformations to apply\n",
    "transformations = [\n",
    "    transforms.RandomHorizontalFlip(p=1),\n",
    "    transforms.GaussianBlur(kernel_size=3),\n",
    "    transforms.FiveCrop(20),\n",
    "    transforms.Compose([\n",
    "        transforms.Grayscale(num_output_channels=1),  # Convert to grayscale (1 channel)\n",
    "        transforms.Lambda(lambda x: x.convert('RGB'))  # Convert to 3-channel grayscale image\n",
    "    ]),\n",
    "    transforms.ColorJitter(contrast=0.5),\n",
    "    transforms.ColorJitter(brightness=0.5)\n",
    "]\n",
    "\n",
    "# Function to apply all transformations to an image\n",
    "def apply_transformations(image, transformations):\n",
    "    transformed_images = []\n",
    "\n",
    "    if not transformations:\n",
    "        return transformed_images\n",
    "\n",
    "    num_transformations = min(len(transformations), 10)\n",
    "    selected_transforms = random.sample(transformations, num_transformations)\n",
    "\n",
    "    # Apply each selected transformation and store the result\n",
    "    for transform in selected_transforms:\n",
    "        try:\n",
    "            if isinstance(transform, transforms.FiveCrop):\n",
    "                # Apply FiveCrop (returns a list of 5 crops)\n",
    "                cropped_images = transform(image)\n",
    "\n",
    "                # transformed_image = random.choice(cropped_images)\n",
    "\n",
    "                # Resize each crop to 32x32\n",
    "                for cropped_image in cropped_images:\n",
    "                    resize_transform = transforms.Resize(32)  # Resize to 32x32\n",
    "                    transformed_image = resize_transform(cropped_image)\n",
    "                    transformed_images.append(transformed_image)\n",
    "            else:\n",
    "                # For other transformations, apply them normally\n",
    "                transformed_image = transform(image)\n",
    "                transformed_images.append(transformed_image)\n",
    "\n",
    "        except Exception as e:\n",
    "            print(f\"Transformation failed: {e}\")\n",
    "            print(transform)\n",
    "            continue\n",
    "    \n",
    "    return transformed_images\n",
    "\n",
    "# Custom Dataset for CIFAR-10 (now applies all transformations)\n",
    "class CIFAR10Dataset(Dataset):\n",
    "    def __init__(self, images, labels, transform=None, transformations=None):\n",
    "        self.images = images\n",
    "        self.labels = labels\n",
    "        self.transform = transform\n",
    "        self.transformations = transformations\n",
    "\n",
    "        # Store the transformed data (original + augmented)\n",
    "        self.all_images = []\n",
    "        self.all_labels = []\n",
    "        for i in tqdm(range(len(images)), desc=\"Loading CIFAR-10 images and applying transformations\", unit=\"image\"):\n",
    "            image = images[i]\n",
    "            label = labels[i]\n",
    "            if self.transform:\n",
    "                image = self.transform(image)\n",
    "            # Convert image to PIL Image for transformations\n",
    "            image_pil = transforms.ToPILImage()(image)  # Ensure it's in [H, W, C] format\n",
    "            # Apply the base transform (ToTensor will normalize to [0, 1])\n",
    "            \n",
    "                \n",
    "            # Store original image first\n",
    "            self.all_images.append(image_pil)\n",
    "            self.all_labels.append(label)\n",
    "            \n",
    "            # Apply and store each transformed image\n",
    "            transformed_images = apply_transformations(image_pil, transformations)\n",
    "            self.all_images.extend(transformed_images)\n",
    "            self.all_labels.extend([label] * len(transformed_images))  # Same label for transformed images\n",
    "        \n",
    "        # # After all transformations, apply ToTensor to each image in all_images\n",
    "        # self.final_transform = transforms.Compose([\n",
    "        #     transforms.ToTensor()  # Convert to Tensor and normalize pixel values to [0, 1]\n",
    "        # ])\n",
    "\n",
    "    def __len__(self):\n",
    "        return len(self.all_images)\n",
    "\n",
    "    def __getitem__(self, idx):\n",
    "        image = self.all_images[idx]\n",
    "        label = self.all_labels[idx]\n",
    "\n",
    "        # # Apply the main transformation (ToTensor will automatically normalize to [0, 1])\n",
    "        # if self.transform:\n",
    "        #     image = self.transform(image)\n",
    "        image = transforms.ToTensor()(image)\n",
    "        # normalize_transform = transforms.Normalize((0.4914, 0.4822, 0.4465), (0.2470, 0.2435, 0.2616))\n",
    "        # image = normalize_transform(image)\n",
    "        return image, label\n",
    "\n",
    "\n",
    "\n",
    "# Define a base transformation (use ToTensor to automatically normalize to [0, 1])\n",
    "base_transform = transforms.Compose([\n",
    "    transforms.ToPILImage(),\n",
    "    transforms.ToTensor(),\n",
    "])\n",
    "\n",
    "# Create custom datasets with transformations\n",
    "train_dataset = CIFAR10Dataset(train_images, train_labels, transform=base_transform, transformations=transformations)\n",
    "test_dataset = CIFAR10Dataset(test_images, test_labels, transform=base_transform, transformations=transformations)\n",
    "\n",
    "# Create DataLoader for training and testing\n",
    "train_loader = DataLoader(train_dataset, batch_size=512, shuffle=True, num_workers=4, pin_memory=True)\n",
    "test_loader = DataLoader(test_dataset, batch_size=512, shuffle=False, num_workers=4, pin_memory=True)\n",
    "\n",
    "# Print the size of the dataset\n",
    "print(f\"Original dataset size: {len(train_images)}\")\n",
    "print(f\"After transformations, dataset size: {len(train_dataset)}\")  # Now includes original + transformed images\n"
   ]
  },
  {
   "cell_type": "code",
   "execution_count": 6,
   "id": "d692eab6-4ea0-406a-b374-720d108a87ae",
   "metadata": {},
   "outputs": [
    {
     "data": {
      "image/png": "[encoded data removed]",
      "text/plain": [
       "<Figure size 1500x600 with 10 Axes>"
      ]
     },
     "metadata": {},
     "output_type": "display_data"
    }
   ],
   "source": [
    "top_10_images = [train_dataset[i+20][0] for i in range(10)]\n",
    "top_10_labels = [train_dataset[i][1] for i in range(10)]\n",
    "\n",
    "# Set up the plot\n",
    "fig, axes = plt.subplots(2, 5, figsize=(15, 6))\n",
    "\n",
    "# Loop through each image and plot it\n",
    "for i, ax in enumerate(axes.flat):\n",
    "    ax.imshow(top_10_images[i].permute(1, 2, 0))  # Convert tensor from [C, H, W] to [H, W, C]\n",
    "    ax.set_title(f\"Label: {top_10_labels[i]}\")\n",
    "    ax.axis('off')\n",
    "\n",
    "plt.tight_layout()\n",
    "plt.show()"
   ]
  },
  {
   "cell_type": "code",
   "execution_count": 7,
   "id": "7df3289d-bd3a-446e-8a32-c9e15f987a57",
   "metadata": {},
   "outputs": [
    {
     "name": "stderr",
     "output_type": "stream",
     "text": [
      "Loading Final Submission CIFAR-10 images: 100%|██████████| 10000/10000 [00:01<00:00, 8244.58image/s]\n"
     ]
    }
   ],
   "source": [
    "# Load Submission Test Data\n",
    "# Define a custom Dataset for the DataLoader\n",
    "class CIFAR10DatasetTest(Dataset):\n",
    "    def __init__(self, images, ids, transform=None):\n",
    "        self.images = images\n",
    "        self.ids = ids\n",
    "        self.transform = transform\n",
    "\n",
    "        # Store the transformed data (original + augmented)\n",
    "        self.all_images = []\n",
    "        self.all_ids = []\n",
    "        for i in tqdm(range(len(images)), desc=\"Loading Final Submission CIFAR-10 images\", unit=\"image\"):\n",
    "            image = images[i]\n",
    "            _id = ids[i]\n",
    "            if self.transform:\n",
    "                image = self.transform(image)\n",
    "            # Convert image to PIL Image for transformations\n",
    "            # image_pil = transforms.ToPILImage()(image)  # Ensure it's in [H, W, C] format\n",
    "            # Apply the base transform (ToTensor will normalize to [0, 1])\n",
    "            # Store original image first\n",
    "            self.all_images.append(image)\n",
    "            self.all_ids.append(_id)\n",
    "\n",
    "    def __len__(self):\n",
    "        return len(self.all_images)\n",
    "\n",
    "    def __getitem__(self, idx):\n",
    "        image = self.all_images[idx]\n",
    "        _id = self.all_ids[idx]\n",
    "\n",
    "        # # Apply the main transformation (ToTensor will automatically normalize to [0, 1])\n",
    "        # if self.transform:\n",
    "        #     image = self.transform(image)\n",
    "        # image = transforms.ToTensor()(image)\n",
    "        \n",
    "        # normalize_transform = transforms.Normalize((0.4914, 0.4822, 0.4465), (0.2470, 0.2435, 0.2616))\n",
    "        # image = normalize_transform(image)\n",
    "        return image, _id\n",
    "\n",
    "# Load the CIFAR-10 test batch data\n",
    "cifar10_batch = load_cifar_batch('cifar_test_nolabel.pkl')\n",
    "\n",
    "# Extract the images and IDs from the loaded data\n",
    "submission_images = cifar10_batch[b'data']  # Image data\n",
    "submission_ids = cifar10_batch[b'ids']      # IDs of the images\n",
    "\n",
    "\n",
    "# Reshape the images to (num_images, 3, 32, 32) - [C, H, W] format\n",
    "# submission_images = submission_images.reshape((-1, 3, 32, 32))\n",
    "# print(submission_images[0].shape)\n",
    "# # Convert to a PyTorch tensor\n",
    "# submission_images = torch.tensor(submission_images / 255.0, dtype=torch.float32)\n",
    "\n",
    "# Define the image transformation (similar to what was done earlier)\n",
    "submission_transform = transforms.Compose([\n",
    "    transforms.ToPILImage(),  # Convert to PIL image for augmentation\n",
    "    transforms.ToTensor(),    # Convert to tensor and normalize pixel values to [0, 1]\n",
    "])\n",
    "\n",
    "# Create a DataLoader for the test set\n",
    "submission_dataset = CIFAR10DatasetTest(submission_images, submission_ids, transform = submission_transform)\n",
    "submission_loader = DataLoader(submission_dataset, batch_size=256, shuffle=False, num_workers=4, pin_memory=False)\n"
   ]
  },
  {
   "cell_type": "code",
   "execution_count": 29,
   "id": "8f0cdc58-8e47-41f1-9a35-18fdcd40c769",
   "metadata": {},
   "outputs": [
    {
     "name": "stdout",
     "output_type": "stream",
     "text": [
      "Using 2 GPUs!\n"
     ]
    }
   ],
   "source": [
    "if torch.cuda.device_count() > 1:\n",
    "    print(f\"Using {torch.cuda.device_count()} GPUs!\")\n",
    "    model = nn.DataParallel(model)  # Wrap model with DataParallel\n",
    "    model = model.to(device)\n",
    "    model.load_state_dict(torch.load('MWT_best.pth'))\n",
    "else:\n",
    "    model = model.to(device)\n",
    "    # model.load_state_dict(torch.load('/kaggle/working/TrainedModelWeights.pth'))"
   ]
  },
  {
   "cell_type": "code",
   "execution_count": 12,
   "id": "f592d374-df03-43d4-896e-e8698874304c",
   "metadata": {},
   "outputs": [
    {
     "name": "stderr",
     "output_type": "stream",
     "text": [
      "Testing: 100%|██████████| 215/215 [00:09<00:00, 21.64it/s]\n"
     ]
    },
    {
     "name": "stdout",
     "output_type": "stream",
     "text": [
      "Test Loss: 1.6723, Accuracy: 87.71%\n"
     ]
    },
    {
     "name": "stderr",
     "output_type": "stream",
     "text": [
      "Epoch 1 - Training: 100%|██████████| 1075/1075 [02:01<00:00,  8.84it/s]\n"
     ]
    },
    {
     "name": "stdout",
     "output_type": "stream",
     "text": [
      "Train Epoch: 1, Loss: 1.5843, Accuracy: 97.87%\n"
     ]
    },
    {
     "name": "stderr",
     "output_type": "stream",
     "text": [
      "Testing: 100%|██████████| 215/215 [00:10<00:00, 20.80it/s]\n"
     ]
    },
    {
     "name": "stdout",
     "output_type": "stream",
     "text": [
      "Test Loss: 1.6727, Accuracy: 87.65%\n"
     ]
    },
    {
     "name": "stderr",
     "output_type": "stream",
     "text": [
      "Epoch 2 - Training: 100%|██████████| 1075/1075 [02:02<00:00,  8.79it/s]\n"
     ]
    },
    {
     "name": "stdout",
     "output_type": "stream",
     "text": [
      "Train Epoch: 2, Loss: 1.5842, Accuracy: 97.88%\n"
     ]
    },
    {
     "name": "stderr",
     "output_type": "stream",
     "text": [
      "Testing: 100%|██████████| 215/215 [00:10<00:00, 21.36it/s]\n"
     ]
    },
    {
     "name": "stdout",
     "output_type": "stream",
     "text": [
      "Test Loss: 1.6726, Accuracy: 87.68%\n"
     ]
    },
    {
     "name": "stderr",
     "output_type": "stream",
     "text": [
      "Epoch 3 - Training: 100%|██████████| 1075/1075 [02:00<00:00,  8.89it/s]\n"
     ]
    },
    {
     "name": "stdout",
     "output_type": "stream",
     "text": [
      "Train Epoch: 3, Loss: 1.5842, Accuracy: 97.87%\n"
     ]
    },
    {
     "name": "stderr",
     "output_type": "stream",
     "text": [
      "Testing: 100%|██████████| 215/215 [00:10<00:00, 21.47it/s]\n"
     ]
    },
    {
     "name": "stdout",
     "output_type": "stream",
     "text": [
      "Test Loss: 1.6727, Accuracy: 87.66%\n"
     ]
    },
    {
     "name": "stderr",
     "output_type": "stream",
     "text": [
      "Epoch 4 - Training: 100%|██████████| 1075/1075 [02:00<00:00,  8.89it/s]\n"
     ]
    },
    {
     "name": "stdout",
     "output_type": "stream",
     "text": [
      "Train Epoch: 4, Loss: 1.5843, Accuracy: 97.86%\n"
     ]
    },
    {
     "name": "stderr",
     "output_type": "stream",
     "text": [
      "Testing: 100%|██████████| 215/215 [00:10<00:00, 21.48it/s]\n"
     ]
    },
    {
     "name": "stdout",
     "output_type": "stream",
     "text": [
      "Test Loss: 1.6727, Accuracy: 87.68%\n"
     ]
    },
    {
     "name": "stderr",
     "output_type": "stream",
     "text": [
      "Epoch 5 - Training: 100%|██████████| 1075/1075 [02:02<00:00,  8.79it/s]\n"
     ]
    },
    {
     "name": "stdout",
     "output_type": "stream",
     "text": [
      "Train Epoch: 5, Loss: 1.5843, Accuracy: 97.86%\n"
     ]
    },
    {
     "name": "stderr",
     "output_type": "stream",
     "text": [
      "Testing: 100%|██████████| 215/215 [00:10<00:00, 21.38it/s]\n"
     ]
    },
    {
     "name": "stdout",
     "output_type": "stream",
     "text": [
      "Test Loss: 1.6721, Accuracy: 87.71%\n"
     ]
    },
    {
     "name": "stderr",
     "output_type": "stream",
     "text": [
      "Epoch 6 - Training: 100%|██████████| 1075/1075 [02:01<00:00,  8.83it/s]\n"
     ]
    },
    {
     "name": "stdout",
     "output_type": "stream",
     "text": [
      "Train Epoch: 6, Loss: 1.5840, Accuracy: 97.90%\n"
     ]
    },
    {
     "name": "stderr",
     "output_type": "stream",
     "text": [
      "Testing: 100%|██████████| 215/215 [00:09<00:00, 21.76it/s]\n"
     ]
    },
    {
     "name": "stdout",
     "output_type": "stream",
     "text": [
      "Test Loss: 1.6725, Accuracy: 87.66%\n"
     ]
    },
    {
     "name": "stderr",
     "output_type": "stream",
     "text": [
      "Epoch 7 - Training: 100%|██████████| 1075/1075 [01:59<00:00,  8.98it/s]\n"
     ]
    },
    {
     "name": "stdout",
     "output_type": "stream",
     "text": [
      "Train Epoch: 7, Loss: 1.5841, Accuracy: 97.88%\n"
     ]
    },
    {
     "name": "stderr",
     "output_type": "stream",
     "text": [
      "Testing: 100%|██████████| 215/215 [00:10<00:00, 19.78it/s]\n"
     ]
    },
    {
     "name": "stdout",
     "output_type": "stream",
     "text": [
      "Test Loss: 1.6721, Accuracy: 87.72%\n"
     ]
    },
    {
     "name": "stderr",
     "output_type": "stream",
     "text": [
      "Epoch 8 - Training: 100%|██████████| 1075/1075 [02:00<00:00,  8.92it/s]\n"
     ]
    },
    {
     "name": "stdout",
     "output_type": "stream",
     "text": [
      "Train Epoch: 8, Loss: 1.5840, Accuracy: 97.90%\n"
     ]
    },
    {
     "name": "stderr",
     "output_type": "stream",
     "text": [
      "Testing: 100%|██████████| 215/215 [00:09<00:00, 21.55it/s]\n"
     ]
    },
    {
     "name": "stdout",
     "output_type": "stream",
     "text": [
      "Test Loss: 1.6733, Accuracy: 87.58%\n"
     ]
    },
    {
     "name": "stderr",
     "output_type": "stream",
     "text": [
      "Epoch 9 - Training: 100%|██████████| 1075/1075 [01:59<00:00,  8.99it/s]\n"
     ]
    },
    {
     "name": "stdout",
     "output_type": "stream",
     "text": [
      "Train Epoch: 9, Loss: 1.5839, Accuracy: 97.91%\n"
     ]
    },
    {
     "name": "stderr",
     "output_type": "stream",
     "text": [
      "Testing: 100%|██████████| 215/215 [00:11<00:00, 19.44it/s]\n"
     ]
    },
    {
     "name": "stdout",
     "output_type": "stream",
     "text": [
      "Test Loss: 1.6723, Accuracy: 87.73%\n"
     ]
    },
    {
     "name": "stderr",
     "output_type": "stream",
     "text": [
      "Epoch 10 - Training: 100%|██████████| 1075/1075 [01:59<00:00,  9.00it/s]\n"
     ]
    },
    {
     "name": "stdout",
     "output_type": "stream",
     "text": [
      "Train Epoch: 10, Loss: 1.5838, Accuracy: 97.92%\n"
     ]
    },
    {
     "name": "stderr",
     "output_type": "stream",
     "text": [
      "Testing: 100%|██████████| 215/215 [00:09<00:00, 21.67it/s]\n"
     ]
    },
    {
     "name": "stdout",
     "output_type": "stream",
     "text": [
      "Test Loss: 1.6723, Accuracy: 87.72%\n"
     ]
    },
    {
     "name": "stderr",
     "output_type": "stream",
     "text": [
      "Epoch 11 - Training: 100%|██████████| 1075/1075 [02:00<00:00,  8.96it/s]\n"
     ]
    },
    {
     "name": "stdout",
     "output_type": "stream",
     "text": [
      "Train Epoch: 11, Loss: 1.5839, Accuracy: 97.91%\n"
     ]
    },
    {
     "name": "stderr",
     "output_type": "stream",
     "text": [
      "Testing: 100%|██████████| 215/215 [00:10<00:00, 20.34it/s]\n"
     ]
    },
    {
     "name": "stdout",
     "output_type": "stream",
     "text": [
      "Test Loss: 1.6727, Accuracy: 87.68%\n"
     ]
    },
    {
     "name": "stderr",
     "output_type": "stream",
     "text": [
      "Epoch 12 - Training: 100%|██████████| 1075/1075 [01:59<00:00,  8.98it/s]\n"
     ]
    },
    {
     "name": "stdout",
     "output_type": "stream",
     "text": [
      "Train Epoch: 12, Loss: 1.5838, Accuracy: 97.91%\n"
     ]
    },
    {
     "name": "stderr",
     "output_type": "stream",
     "text": [
      "Testing: 100%|██████████| 215/215 [00:09<00:00, 21.68it/s]\n"
     ]
    },
    {
     "name": "stdout",
     "output_type": "stream",
     "text": [
      "Test Loss: 1.6725, Accuracy: 87.71%\n"
     ]
    },
    {
     "name": "stderr",
     "output_type": "stream",
     "text": [
      "Epoch 13 - Training: 100%|██████████| 1075/1075 [02:00<00:00,  8.92it/s]\n"
     ]
    },
    {
     "name": "stdout",
     "output_type": "stream",
     "text": [
      "Train Epoch: 13, Loss: 1.5837, Accuracy: 97.93%\n"
     ]
    },
    {
     "name": "stderr",
     "output_type": "stream",
     "text": [
      "Testing: 100%|██████████| 215/215 [00:10<00:00, 20.17it/s]\n"
     ]
    },
    {
     "name": "stdout",
     "output_type": "stream",
     "text": [
      "Test Loss: 1.6731, Accuracy: 87.62%\n"
     ]
    },
    {
     "name": "stderr",
     "output_type": "stream",
     "text": [
      "Epoch 14 - Training:   4%|▍         | 42/1075 [00:05<02:17,  7.49it/s]\n"
     ]
    },
    {
     "ename": "KeyboardInterrupt",
     "evalue": "",
     "output_type": "error",
     "traceback": [
      "\u001b[0;31m---------------------------------------------------------------------------\u001b[0m",
      "\u001b[0;31mKeyboardInterrupt\u001b[0m                         Traceback (most recent call last)",
      "Cell \u001b[0;32mIn[12], line 103\u001b[0m\n\u001b[1;32m    101\u001b[0m count \u001b[38;5;241m=\u001b[39m \u001b[38;5;241m0\u001b[39m\n\u001b[1;32m    102\u001b[0m \u001b[38;5;28;01mfor\u001b[39;00m epoch \u001b[38;5;129;01min\u001b[39;00m \u001b[38;5;28mrange\u001b[39m(\u001b[38;5;241m50\u001b[39m):\n\u001b[0;32m--> 103\u001b[0m     train_loss, train_accuracy \u001b[38;5;241m=\u001b[39m \u001b[43mtrain\u001b[49m\u001b[43m(\u001b[49m\u001b[43mmodel\u001b[49m\u001b[43m,\u001b[49m\u001b[43m \u001b[49m\u001b[43mtrain_loader\u001b[49m\u001b[43m,\u001b[49m\u001b[43m \u001b[49m\u001b[43moptimizer\u001b[49m\u001b[43m,\u001b[49m\u001b[43m \u001b[49m\u001b[43mcriterion\u001b[49m\u001b[43m,\u001b[49m\u001b[43m \u001b[49m\u001b[43mscheduler\u001b[49m\u001b[43m,\u001b[49m\u001b[43m \u001b[49m\u001b[43mscaler\u001b[49m\u001b[43m,\u001b[49m\u001b[43m \u001b[49m\u001b[43mepoch\u001b[49m\u001b[38;5;241;43m+\u001b[39;49m\u001b[38;5;241;43m1\u001b[39;49m\u001b[43m,\u001b[49m\u001b[43m \u001b[49m\u001b[43mdevice\u001b[49m\u001b[43m)\u001b[49m\n\u001b[1;32m    104\u001b[0m     test_loss, test_accuracy \u001b[38;5;241m=\u001b[39m test(model, test_loader, criterion, device)\n\u001b[1;32m    105\u001b[0m     \u001b[38;5;66;03m# if(test_accuracy - prev_acc < 0.1):\u001b[39;00m\n\u001b[1;32m    106\u001b[0m     \u001b[38;5;66;03m#     count+=1\u001b[39;00m\n\u001b[1;32m    107\u001b[0m     \u001b[38;5;66;03m#     if(count>8):\u001b[39;00m\n\u001b[1;32m    108\u001b[0m     \u001b[38;5;66;03m#         break\u001b[39;00m\n\u001b[1;32m    109\u001b[0m     \u001b[38;5;66;03m# else:\u001b[39;00m\n\u001b[1;32m    110\u001b[0m     \u001b[38;5;66;03m#     count = 0\u001b[39;00m\n",
      "Cell \u001b[0;32mIn[12], line 83\u001b[0m, in \u001b[0;36mtrain\u001b[0;34m(model, train_loader, optimizer, criterion, scheduler, scaler, epoch, device)\u001b[0m\n\u001b[1;32m     80\u001b[0m clip_grad_norm_(model\u001b[38;5;241m.\u001b[39mparameters(), \u001b[38;5;241m0.1\u001b[39m)\n\u001b[1;32m     82\u001b[0m \u001b[38;5;66;03m# Optimizer step with scaling\u001b[39;00m\n\u001b[0;32m---> 83\u001b[0m \u001b[43mscaler\u001b[49m\u001b[38;5;241;43m.\u001b[39;49m\u001b[43mstep\u001b[49m\u001b[43m(\u001b[49m\u001b[43moptimizer\u001b[49m\u001b[43m)\u001b[49m\n\u001b[1;32m     84\u001b[0m scaler\u001b[38;5;241m.\u001b[39mupdate()\n\u001b[1;32m     85\u001b[0m scheduler\u001b[38;5;241m.\u001b[39mstep()\n",
      "File \u001b[0;32m~/.local/lib/python3.9/site-packages/torch/amp/grad_scaler.py:457\u001b[0m, in \u001b[0;36mGradScaler.step\u001b[0;34m(self, optimizer, *args, **kwargs)\u001b[0m\n\u001b[1;32m    451\u001b[0m     \u001b[38;5;28mself\u001b[39m\u001b[38;5;241m.\u001b[39munscale_(optimizer)\n\u001b[1;32m    453\u001b[0m \u001b[38;5;28;01massert\u001b[39;00m (\n\u001b[1;32m    454\u001b[0m     \u001b[38;5;28mlen\u001b[39m(optimizer_state[\u001b[38;5;124m\"\u001b[39m\u001b[38;5;124mfound_inf_per_device\u001b[39m\u001b[38;5;124m\"\u001b[39m]) \u001b[38;5;241m>\u001b[39m \u001b[38;5;241m0\u001b[39m\n\u001b[1;32m    455\u001b[0m ), \u001b[38;5;124m\"\u001b[39m\u001b[38;5;124mNo inf checks were recorded for this optimizer.\u001b[39m\u001b[38;5;124m\"\u001b[39m\n\u001b[0;32m--> 457\u001b[0m retval \u001b[38;5;241m=\u001b[39m \u001b[38;5;28;43mself\u001b[39;49m\u001b[38;5;241;43m.\u001b[39;49m\u001b[43m_maybe_opt_step\u001b[49m\u001b[43m(\u001b[49m\u001b[43moptimizer\u001b[49m\u001b[43m,\u001b[49m\u001b[43m \u001b[49m\u001b[43moptimizer_state\u001b[49m\u001b[43m,\u001b[49m\u001b[43m \u001b[49m\u001b[38;5;241;43m*\u001b[39;49m\u001b[43margs\u001b[49m\u001b[43m,\u001b[49m\u001b[43m \u001b[49m\u001b[38;5;241;43m*\u001b[39;49m\u001b[38;5;241;43m*\u001b[39;49m\u001b[43mkwargs\u001b[49m\u001b[43m)\u001b[49m\n\u001b[1;32m    459\u001b[0m optimizer_state[\u001b[38;5;124m\"\u001b[39m\u001b[38;5;124mstage\u001b[39m\u001b[38;5;124m\"\u001b[39m] \u001b[38;5;241m=\u001b[39m OptState\u001b[38;5;241m.\u001b[39mSTEPPED\n\u001b[1;32m    461\u001b[0m \u001b[38;5;28;01mreturn\u001b[39;00m retval\n",
      "File \u001b[0;32m~/.local/lib/python3.9/site-packages/torch/amp/grad_scaler.py:351\u001b[0m, in \u001b[0;36mGradScaler._maybe_opt_step\u001b[0;34m(self, optimizer, optimizer_state, *args, **kwargs)\u001b[0m\n\u001b[1;32m    343\u001b[0m \u001b[38;5;28;01mdef\u001b[39;00m \u001b[38;5;21m_maybe_opt_step\u001b[39m(\n\u001b[1;32m    344\u001b[0m     \u001b[38;5;28mself\u001b[39m,\n\u001b[1;32m    345\u001b[0m     optimizer: torch\u001b[38;5;241m.\u001b[39moptim\u001b[38;5;241m.\u001b[39mOptimizer,\n\u001b[0;32m   (...)\u001b[0m\n\u001b[1;32m    348\u001b[0m     \u001b[38;5;241m*\u001b[39m\u001b[38;5;241m*\u001b[39mkwargs: Any,\n\u001b[1;32m    349\u001b[0m ) \u001b[38;5;241m-\u001b[39m\u001b[38;5;241m>\u001b[39m Optional[\u001b[38;5;28mfloat\u001b[39m]:\n\u001b[1;32m    350\u001b[0m     retval: Optional[\u001b[38;5;28mfloat\u001b[39m] \u001b[38;5;241m=\u001b[39m \u001b[38;5;28;01mNone\u001b[39;00m\n\u001b[0;32m--> 351\u001b[0m     \u001b[38;5;28;01mif\u001b[39;00m \u001b[38;5;129;01mnot\u001b[39;00m \u001b[38;5;28;43msum\u001b[39;49m\u001b[43m(\u001b[49m\u001b[43mv\u001b[49m\u001b[38;5;241;43m.\u001b[39;49m\u001b[43mitem\u001b[49m\u001b[43m(\u001b[49m\u001b[43m)\u001b[49m\u001b[43m \u001b[49m\u001b[38;5;28;43;01mfor\u001b[39;49;00m\u001b[43m \u001b[49m\u001b[43mv\u001b[49m\u001b[43m \u001b[49m\u001b[38;5;129;43;01min\u001b[39;49;00m\u001b[43m \u001b[49m\u001b[43moptimizer_state\u001b[49m\u001b[43m[\u001b[49m\u001b[38;5;124;43m\"\u001b[39;49m\u001b[38;5;124;43mfound_inf_per_device\u001b[39;49m\u001b[38;5;124;43m\"\u001b[39;49m\u001b[43m]\u001b[49m\u001b[38;5;241;43m.\u001b[39;49m\u001b[43mvalues\u001b[49m\u001b[43m(\u001b[49m\u001b[43m)\u001b[49m\u001b[43m)\u001b[49m:\n\u001b[1;32m    352\u001b[0m         retval \u001b[38;5;241m=\u001b[39m optimizer\u001b[38;5;241m.\u001b[39mstep(\u001b[38;5;241m*\u001b[39margs, \u001b[38;5;241m*\u001b[39m\u001b[38;5;241m*\u001b[39mkwargs)\n\u001b[1;32m    353\u001b[0m     \u001b[38;5;28;01mreturn\u001b[39;00m retval\n",
      "File \u001b[0;32m~/.local/lib/python3.9/site-packages/torch/amp/grad_scaler.py:351\u001b[0m, in \u001b[0;36m<genexpr>\u001b[0;34m(.0)\u001b[0m\n\u001b[1;32m    343\u001b[0m \u001b[38;5;28;01mdef\u001b[39;00m \u001b[38;5;21m_maybe_opt_step\u001b[39m(\n\u001b[1;32m    344\u001b[0m     \u001b[38;5;28mself\u001b[39m,\n\u001b[1;32m    345\u001b[0m     optimizer: torch\u001b[38;5;241m.\u001b[39moptim\u001b[38;5;241m.\u001b[39mOptimizer,\n\u001b[0;32m   (...)\u001b[0m\n\u001b[1;32m    348\u001b[0m     \u001b[38;5;241m*\u001b[39m\u001b[38;5;241m*\u001b[39mkwargs: Any,\n\u001b[1;32m    349\u001b[0m ) \u001b[38;5;241m-\u001b[39m\u001b[38;5;241m>\u001b[39m Optional[\u001b[38;5;28mfloat\u001b[39m]:\n\u001b[1;32m    350\u001b[0m     retval: Optional[\u001b[38;5;28mfloat\u001b[39m] \u001b[38;5;241m=\u001b[39m \u001b[38;5;28;01mNone\u001b[39;00m\n\u001b[0;32m--> 351\u001b[0m     \u001b[38;5;28;01mif\u001b[39;00m \u001b[38;5;129;01mnot\u001b[39;00m \u001b[38;5;28msum\u001b[39m(\u001b[43mv\u001b[49m\u001b[38;5;241;43m.\u001b[39;49m\u001b[43mitem\u001b[49m\u001b[43m(\u001b[49m\u001b[43m)\u001b[49m \u001b[38;5;28;01mfor\u001b[39;00m v \u001b[38;5;129;01min\u001b[39;00m optimizer_state[\u001b[38;5;124m\"\u001b[39m\u001b[38;5;124mfound_inf_per_device\u001b[39m\u001b[38;5;124m\"\u001b[39m]\u001b[38;5;241m.\u001b[39mvalues()):\n\u001b[1;32m    352\u001b[0m         retval \u001b[38;5;241m=\u001b[39m optimizer\u001b[38;5;241m.\u001b[39mstep(\u001b[38;5;241m*\u001b[39margs, \u001b[38;5;241m*\u001b[39m\u001b[38;5;241m*\u001b[39mkwargs)\n\u001b[1;32m    353\u001b[0m     \u001b[38;5;28;01mreturn\u001b[39;00m retval\n",
      "\u001b[0;31mKeyboardInterrupt\u001b[0m: "
     ]
    }
   ],
   "source": [
    "\n",
    "# Optimizer with Lookahead\n",
    "base_optimizer = optim.SGD(model.parameters(), lr=0.001,  # Increased initial LR\n",
    "                          momentum=0.95, nesterov=True,  # Higher momentum\n",
    "                          weight_decay=4e-5)\n",
    "optimizer = Lookahead(base_optimizer, k=5, alpha=0.8)\n",
    "\n",
    "# Accelerated scheduler with warmup\n",
    "scheduler = optim.lr_scheduler.OneCycleLR(optimizer, \n",
    "                                        max_lr=0.001,\n",
    "                                        total_steps=50*len(train_loader),\n",
    "                                        pct_start=0.25,\n",
    "                                        anneal_strategy='cos')\n",
    "\n",
    "# Mixed precision setup\n",
    "scaler = GradScaler('cuda')\n",
    "\n",
    "class SmoothCrossEntropy(nn.Module):\n",
    "    def __init__(self, smoothing=0.1):\n",
    "        super().__init__()\n",
    "        self.smoothing = smoothing\n",
    "        self.confidence = 1.0 - smoothing\n",
    "    \n",
    "    def forward(self, outputs, targets):\n",
    "        num_classes = outputs.size(-1)\n",
    "        log_preds = F.log_softmax(outputs, dim=-1)\n",
    "        true_dist = torch.zeros_like(log_preds)\n",
    "        true_dist.fill_(self.smoothing / (num_classes - 1))\n",
    "        true_dist.scatter_(1, targets.data.unsqueeze(1), self.confidence)\n",
    "        return torch.mean(-torch.sum(true_dist * log_preds, dim=-1))\n",
    "\n",
    "criterion = SmoothCrossEntropy(smoothing=0.1)\n",
    "\n",
    "def test(model, test_loader, criterion, device):\n",
    "    model.eval()  # Set the model to evaluation mode\n",
    "    running_loss = 0.0\n",
    "    correct = 0\n",
    "    total = 0\n",
    "\n",
    "    with torch.no_grad():  # Disable gradient computation for inference\n",
    "        for inputs, labels in tqdm(test_loader, desc=\"Testing\"):\n",
    "            inputs, labels = inputs.to(device), labels.to(device)\n",
    "\n",
    "            # Forward pass\n",
    "            outputs = model(inputs)\n",
    "            loss = criterion(outputs, labels)\n",
    "\n",
    "            running_loss += loss.item()\n",
    "\n",
    "            # Calculate accuracy\n",
    "            _, predicted = torch.max(outputs, 1)\n",
    "            total += labels.size(0)\n",
    "            correct += (predicted == labels).sum().item()\n",
    "\n",
    "    avg_loss = running_loss / len(test_loader)\n",
    "    accuracy = 100 * correct / total\n",
    "    print(f\"Test Loss: {avg_loss:.4f}, Accuracy: {accuracy:.2f}%\")\n",
    "    \n",
    "    return avg_loss, accuracy\n",
    "\n",
    "def train(model, train_loader, optimizer, criterion, scheduler, scaler, epoch, device):\n",
    "    model.train()\n",
    "    running_loss = 0.0\n",
    "    correct = 0\n",
    "    total = 0\n",
    "    \n",
    "    for inputs, targets in tqdm(train_loader, desc=f\"Epoch {epoch} - Training\"):\n",
    "        inputs, targets = inputs.to('cuda'), targets.to('cuda')\n",
    "        \n",
    "        with autocast('cuda'):\n",
    "            outputs = model(inputs)\n",
    "            loss = criterion(outputs, targets)\n",
    "        \n",
    "        optimizer.zero_grad(set_to_none=True)\n",
    "        \n",
    "        # AMP scaling and backward\n",
    "        scaler.scale(loss).backward()\n",
    "        \n",
    "        # Unscale before clipping\n",
    "        scaler.unscale_(optimizer)  # <<< Critical fix\n",
    "        clip_grad_norm_(model.parameters(), 0.1)\n",
    "        \n",
    "        # Optimizer step with scaling\n",
    "        scaler.step(optimizer)\n",
    "        scaler.update()\n",
    "        scheduler.step()\n",
    "        \n",
    "        # Metrics calculation\n",
    "        running_loss += loss.item()\n",
    "        _, predicted = outputs.max(1)\n",
    "        total += targets.size(0)\n",
    "        correct += predicted.eq(targets).sum().item()\n",
    "    \n",
    "    avg_loss = running_loss / len(train_loader)\n",
    "    accuracy = 100 * correct / total\n",
    "    print(f\"Train Epoch: {epoch}, Loss: {avg_loss:.4f}, Accuracy: {accuracy:.2f}%\")\n",
    "    \n",
    "    return avg_loss, accuracy\n",
    "    \n",
    "prev_acc = 0.0\n",
    "_, best_acc = test(model, test_loader, criterion, device)\n",
    "count = 0\n",
    "for epoch in range(50):\n",
    "    train_loss, train_accuracy = train(model, train_loader, optimizer, criterion, scheduler, scaler, epoch+1, device)\n",
    "    test_loss, test_accuracy = test(model, test_loader, criterion, device)\n",
    "    # if(test_accuracy - prev_acc < 0.1):\n",
    "    #     count+=1\n",
    "    #     if(count>8):\n",
    "    #         break\n",
    "    # else:\n",
    "    #     count = 0\n",
    "\n",
    "    if best_acc <= test_accuracy:\n",
    "        best_acc = test_accuracy\n",
    "        torch.save(model.state_dict(), 'MWT_best.pth')\n",
    "    prev_acc = test_accuracy\n",
    "\n",
    "\n",
    "test_dataset_og = CIFAR10Dataset(test_images, test_labels, transform=base_transform, transformations=None)\n",
    "test_loader_og = DataLoader(test_dataset_og, batch_size=256, shuffle=False, num_workers=4, pin_memory=True)\n",
    "\n",
    "test(model, test_loader_og, criterion, device)\n",
    "\n",
    "torch.save(model.state_dict(), 'MWT.pth')"
   ]
  },
  {
   "cell_type": "code",
   "execution_count": 32,
   "id": "87324b06-c476-441d-9506-5e92a37580d3",
   "metadata": {},
   "outputs": [
    {
     "name": "stderr",
     "output_type": "stream",
     "text": [
      "Loading CIFAR-10 images and applying transformations: 100%|██████████| 50000/50000 [00:11<00:00, 4287.34image/s]\n",
      "[I 2025-03-11 01:29:38,369] A new study created in memory with name: no-name-c311c9d4-ecb4-4b5b-8816-0d2466573302\n"
     ]
    },
    {
     "name": "stdout",
     "output_type": "stream",
     "text": [
      "Using 2 GPUs!\n"
     ]
    },
    {
     "name": "stderr",
     "output_type": "stream",
     "text": [
      "Epoch 1 - Training: 100%|██████████| 1075/1075 [02:00<00:00,  8.93it/s]\n",
      "[I 2025-03-11 01:31:38,877] Trial 0 finished with value: -97.88218181818182 and parameters: {'lr': 0.0023609913558563502, 'weight_decay': 5.622386427362121e-05}. Best is trial 0 with value: -97.88218181818182.\n"
     ]
    },
    {
     "name": "stdout",
     "output_type": "stream",
     "text": [
      "Train Epoch: 1, Loss: 1.5840, Accuracy: 97.88%\n",
      "Using 2 GPUs!\n"
     ]
    },
    {
     "name": "stderr",
     "output_type": "stream",
     "text": [
      "Epoch 1 - Training: 100%|██████████| 1075/1075 [01:59<00:00,  8.97it/s]\n",
      "[I 2025-03-11 01:33:38,892] Trial 1 finished with value: -97.93363636363637 and parameters: {'lr': 0.0003288607483607313, 'weight_decay': 9.941679680182543e-05}. Best is trial 1 with value: -97.93363636363637.\n"
     ]
    },
    {
     "name": "stdout",
     "output_type": "stream",
     "text": [
      "Train Epoch: 1, Loss: 1.5837, Accuracy: 97.93%\n",
      "Using 2 GPUs!\n"
     ]
    },
    {
     "name": "stderr",
     "output_type": "stream",
     "text": [
      "Epoch 1 - Training: 100%|██████████| 1075/1075 [01:59<00:00,  8.98it/s]\n",
      "[I 2025-03-11 01:35:38,694] Trial 2 finished with value: -97.92181818181818 and parameters: {'lr': 1.0751823840417024e-05, 'weight_decay': 1.1770479336896226e-05}. Best is trial 1 with value: -97.93363636363637.\n"
     ]
    },
    {
     "name": "stdout",
     "output_type": "stream",
     "text": [
      "Train Epoch: 1, Loss: 1.5838, Accuracy: 97.92%\n",
      "Using 2 GPUs!\n"
     ]
    },
    {
     "name": "stderr",
     "output_type": "stream",
     "text": [
      "Epoch 1 - Training: 100%|██████████| 1075/1075 [01:59<00:00,  8.98it/s]\n",
      "[I 2025-03-11 01:37:38,575] Trial 3 finished with value: -97.92781818181818 and parameters: {'lr': 2.0088546606900585e-06, 'weight_decay': 1.2131992756491693e-06}. Best is trial 1 with value: -97.93363636363637.\n"
     ]
    },
    {
     "name": "stdout",
     "output_type": "stream",
     "text": [
      "Train Epoch: 1, Loss: 1.5837, Accuracy: 97.93%\n",
      "Using 2 GPUs!\n"
     ]
    },
    {
     "name": "stderr",
     "output_type": "stream",
     "text": [
      "Epoch 1 - Training: 100%|██████████| 1075/1075 [01:59<00:00,  8.98it/s]\n",
      "[I 2025-03-11 01:39:38,384] Trial 4 finished with value: -97.9249090909091 and parameters: {'lr': 1.1614905276761071e-05, 'weight_decay': 6.93782259743667e-05}. Best is trial 1 with value: -97.93363636363637.\n"
     ]
    },
    {
     "name": "stdout",
     "output_type": "stream",
     "text": [
      "Train Epoch: 1, Loss: 1.5838, Accuracy: 97.92%\n",
      "Best trial: {'lr': 0.0003288607483607313, 'weight_decay': 9.941679680182543e-05}\n"
     ]
    }
   ],
   "source": [
    "# Example using Optuna for hyperparameter tuning\n",
    "import optuna\n",
    "\n",
    "train_dataset_og = CIFAR10Dataset(train_images, train_labels, transform=base_transform, transformations=None)\n",
    "train_loader_og = DataLoader(test_dataset_og, batch_size=256, shuffle=False, num_workers=4, pin_memory=True)\n",
    "\n",
    "def objective(trial):\n",
    "    model = ResNet()\n",
    "    device = torch.device(\"cuda\" if torch.cuda.is_available() else \"cpu\")\n",
    "    model = model.to(device)\n",
    "    if torch.cuda.device_count() > 1:\n",
    "        print(f\"Using {torch.cuda.device_count()} GPUs!\")\n",
    "        model = nn.DataParallel(model)  # Wrap model with DataParallel\n",
    "        model = model.to(device)\n",
    "        model.load_state_dict(torch.load('MWT_best.pth'))\n",
    "    else:\n",
    "        model = model.to(device)\n",
    "        model.load_state_dict(torch.load('MWT_best.pth'))\n",
    "    \n",
    "    # Hyperparameter search space\n",
    "    lr = trial.suggest_float('lr', 1e-6, 1e-2, log=True)\n",
    "    weight_decay = trial.suggest_float('weight_decay', 1e-6, 1e-4, log=True)\n",
    "    \n",
    "    # Create a new optimizer with the current hyperparameters\n",
    "    optimizer = optim.SGD(model.parameters(), lr=lr, momentum=0.9, weight_decay=weight_decay)\n",
    "    scheduler = optim.lr_scheduler.OneCycleLR(optimizer, max_lr=lr, total_steps=5*len(train_loader), pct_start=0.25, anneal_strategy='cos')\n",
    "\n",
    "    # Train the model\n",
    "    train_loss, train_accuracy = train(model, train_loader, optimizer, criterion, scheduler, scaler, epoch=1, device=device)\n",
    "    \n",
    "    return -train_accuracy  # Minimizing negative accuracy (maximize accuracy)\n",
    "\n",
    "study = optuna.create_study(direction='minimize')\n",
    "study.optimize(objective, n_trials=5)\n",
    "print(f\"Best trial: {study.best_trial.params}\")"
   ]
  },
  {
   "cell_type": "code",
   "execution_count": 35,
   "id": "1f52a1d5-787c-457a-b929-fb87dad23fea",
   "metadata": {},
   "outputs": [
    {
     "name": "stdout",
     "output_type": "stream",
     "text": [
      "Using 2 GPUs!\n"
     ]
    },
    {
     "name": "stderr",
     "output_type": "stream",
     "text": [
      "Testing: 100%|██████████| 215/215 [00:10<00:00, 20.99it/s]\n"
     ]
    },
    {
     "name": "stdout",
     "output_type": "stream",
     "text": [
      "Test Loss: 1.6723, Accuracy: 87.73%\n"
     ]
    },
    {
     "name": "stderr",
     "output_type": "stream",
     "text": [
      "Epoch 1 - Training: 100%|██████████| 1075/1075 [02:03<00:00,  8.69it/s]\n"
     ]
    },
    {
     "name": "stdout",
     "output_type": "stream",
     "text": [
      "Train Epoch: 1, Loss: 1.5838, Accuracy: 97.91%\n"
     ]
    },
    {
     "name": "stderr",
     "output_type": "stream",
     "text": [
      "Testing: 100%|██████████| 215/215 [00:10<00:00, 19.97it/s]\n"
     ]
    },
    {
     "name": "stdout",
     "output_type": "stream",
     "text": [
      "Test Loss: 1.6722, Accuracy: 87.70%\n"
     ]
    },
    {
     "name": "stderr",
     "output_type": "stream",
     "text": [
      "Epoch 2 - Training: 100%|██████████| 1075/1075 [02:06<00:00,  8.52it/s]\n"
     ]
    },
    {
     "name": "stdout",
     "output_type": "stream",
     "text": [
      "Train Epoch: 2, Loss: 1.5837, Accuracy: 97.93%\n"
     ]
    },
    {
     "name": "stderr",
     "output_type": "stream",
     "text": [
      "Testing: 100%|██████████| 215/215 [00:10<00:00, 20.06it/s]\n"
     ]
    },
    {
     "name": "stdout",
     "output_type": "stream",
     "text": [
      "Test Loss: 1.6724, Accuracy: 87.66%\n"
     ]
    },
    {
     "name": "stderr",
     "output_type": "stream",
     "text": [
      "Epoch 3 - Training: 100%|██████████| 1075/1075 [02:06<00:00,  8.52it/s]\n"
     ]
    },
    {
     "name": "stdout",
     "output_type": "stream",
     "text": [
      "Train Epoch: 3, Loss: 1.5837, Accuracy: 97.93%\n"
     ]
    },
    {
     "name": "stderr",
     "output_type": "stream",
     "text": [
      "Testing: 100%|██████████| 215/215 [00:10<00:00, 20.35it/s]\n"
     ]
    },
    {
     "name": "stdout",
     "output_type": "stream",
     "text": [
      "Test Loss: 1.6729, Accuracy: 87.65%\n"
     ]
    },
    {
     "name": "stderr",
     "output_type": "stream",
     "text": [
      "Epoch 4 - Training: 100%|██████████| 1075/1075 [02:06<00:00,  8.53it/s]\n"
     ]
    },
    {
     "name": "stdout",
     "output_type": "stream",
     "text": [
      "Train Epoch: 4, Loss: 1.5838, Accuracy: 97.91%\n"
     ]
    },
    {
     "name": "stderr",
     "output_type": "stream",
     "text": [
      "Testing: 100%|██████████| 215/215 [00:10<00:00, 20.38it/s]\n"
     ]
    },
    {
     "name": "stdout",
     "output_type": "stream",
     "text": [
      "Test Loss: 1.6724, Accuracy: 87.68%\n"
     ]
    },
    {
     "name": "stderr",
     "output_type": "stream",
     "text": [
      "Epoch 5 - Training: 100%|██████████| 1075/1075 [02:05<00:00,  8.55it/s]\n"
     ]
    },
    {
     "name": "stdout",
     "output_type": "stream",
     "text": [
      "Train Epoch: 5, Loss: 1.5837, Accuracy: 97.94%\n"
     ]
    },
    {
     "name": "stderr",
     "output_type": "stream",
     "text": [
      "Testing: 100%|██████████| 215/215 [00:10<00:00, 20.74it/s]"
     ]
    },
    {
     "name": "stdout",
     "output_type": "stream",
     "text": [
      "Test Loss: 1.6729, Accuracy: 87.63%\n"
     ]
    },
    {
     "name": "stderr",
     "output_type": "stream",
     "text": [
      "\n"
     ]
    }
   ],
   "source": [
    "lr = study.best_trial.params['lr']\n",
    "weight_decay = study.best_trial.params['weight_decay']\n",
    "\n",
    "model = ResNet()\n",
    "device = torch.device(\"cuda\" if torch.cuda.is_available() else \"cpu\")\n",
    "model = model.to(device)\n",
    "\n",
    "if torch.cuda.device_count() > 1:\n",
    "    print(f\"Using {torch.cuda.device_count()} GPUs!\")\n",
    "    model = nn.DataParallel(model)  # Wrap model with DataParallel\n",
    "    model = model.to(device)\n",
    "    model.load_state_dict(torch.load('MWT_best.pth'))\n",
    "else:\n",
    "    model = model.to(device)\n",
    "    model.load_state_dict(torch.load('MWT_best.pth'))\n",
    "\n",
    "# Create a new optimizer with the current hyperparameters\n",
    "optimizer = optim.SGD(model.parameters(), lr=lr, momentum=0.9, weight_decay=weight_decay)\n",
    "scheduler = optim.lr_scheduler.OneCycleLR(optimizer, max_lr=lr, total_steps=5*len(train_loader), pct_start=0.25, anneal_strategy='cos')\n",
    "\n",
    "# Finetuning model with new hyper params:\n",
    "_, best_acc = test(model, test_loader, criterion, device)\n",
    "for epoch in range(5):\n",
    "    train_loss, train_accuracy = train(model, train_loader, optimizer, criterion, scheduler, scaler, epoch+1, device)\n",
    "    test_loss, test_accuracy = test(model, test_loader, criterion, device)\n",
    "\n",
    "    if best_acc <= test_accuracy:\n",
    "        best_acc = test_accuracy\n",
    "        torch.save(model.state_dict(), 'MWT_best.pth')\n"
   ]
  },
  {
   "cell_type": "code",
   "execution_count": 36,
   "id": "82d2cfb3-2dc9-4fec-9cc5-356e2fa70510",
   "metadata": {},
   "outputs": [
    {
     "name": "stdout",
     "output_type": "stream",
     "text": [
      "Using 2 GPUs!\n"
     ]
    },
    {
     "name": "stderr",
     "output_type": "stream",
     "text": [
      "Loading CIFAR-10 images and applying transformations: 100%|██████████| 10000/10000 [00:02<00:00, 3806.36image/s]\n",
      "Testing: 100%|██████████| 40/40 [00:02<00:00, 17.40it/s]\n"
     ]
    },
    {
     "name": "stdout",
     "output_type": "stream",
     "text": [
      "Test Loss: 1.6305, Accuracy: 92.34%\n"
     ]
    },
    {
     "name": "stderr",
     "output_type": "stream",
     "text": [
      "TTA Testing: 100%|██████████| 40/40 [00:09<00:00,  4.32it/s]"
     ]
    },
    {
     "name": "stdout",
     "output_type": "stream",
     "text": [
      "Test Loss: 1.6335, Accuracy: 92.48%\n"
     ]
    },
    {
     "name": "stderr",
     "output_type": "stream",
     "text": [
      "\n"
     ]
    }
   ],
   "source": [
    "model = ResNet()\n",
    "device = torch.device(\"cuda\" if torch.cuda.is_available() else \"cpu\")\n",
    "model = model.to(device)\n",
    "\n",
    "if torch.cuda.device_count() > 1:\n",
    "    print(f\"Using {torch.cuda.device_count()} GPUs!\")\n",
    "    model = nn.DataParallel(model)  # Wrap model with DataParallel\n",
    "    model = model.to(device)\n",
    "    model.load_state_dict(torch.load('MWT_best.pth'))\n",
    "else:\n",
    "    model = model.to(device)\n",
    "    model.load_state_dict(torch.load('MWT_best.pth'))\n",
    "\n",
    "test_dataset_og = CIFAR10Dataset(test_images, test_labels, transform=base_transform, transformations=None)\n",
    "test_loader_og = DataLoader(test_dataset_og, batch_size=256, shuffle=False, num_workers=4, pin_memory=True)\n",
    "\n",
    "test(model, test_loader_og, criterion, device)\n",
    "\n",
    "def test_time_augmentation(model, test_loader, transformations, criterion, device):\n",
    "    model.eval()\n",
    "    all_preds = []\n",
    "    running_loss = 0.0\n",
    "    correct = 0\n",
    "    total = 0\n",
    "\n",
    "    with torch.no_grad():\n",
    "        for inputs, labels in tqdm(test_loader, desc=\"TTA Testing\"):\n",
    "            inputs, labels = inputs.to(device), labels.to(device)\n",
    "\n",
    "            # Apply transformations to the entire batch in parallel\n",
    "            augmented_inputs = [transform(inputs) for transform in transformations]\n",
    "\n",
    "            # Get predictions for each augmented input in parallel\n",
    "            outputs = [model(augmented_input) for augmented_input in augmented_inputs]\n",
    "\n",
    "            # Average the predictions\n",
    "            avg_output = torch.mean(torch.stack(outputs), dim=0)\n",
    "            _, predicted = avg_output.max(1)\n",
    "\n",
    "            loss = criterion(avg_output, labels)\n",
    "\n",
    "            running_loss += loss.item()\n",
    "\n",
    "            # Calculate accuracy\n",
    "            total += labels.size(0)\n",
    "            correct += (predicted == labels).sum().item()\n",
    "\n",
    "    avg_loss = running_loss / len(test_loader)\n",
    "    accuracy = 100 * correct / total\n",
    "    print(f\"Test Loss: {avg_loss:.4f}, Accuracy: {accuracy:.2f}%\")\n",
    "\n",
    "# Apply Test-Time Augmentation with multiple transformations\n",
    "tta_transformations = [\n",
    "    transforms.Lambda(lambda x: x),  # Identity transformation (does nothing)\n",
    "    transforms.RandomHorizontalFlip(p=1),  # Flip images horizontally\n",
    "    transforms.GaussianBlur(kernel_size=3),  # Apply Gaussian blur\n",
    "    transforms.ColorJitter(contrast=0.5),  # Adjust contrast\n",
    "    transforms.ColorJitter(brightness=0.5)  # Adjust brightness\n",
    "]\n",
    "\n",
    "# Run TTA\n",
    "test_time_augmentation(model, test_loader_og, tta_transformations, criterion, device)\n"
   ]
  },
  {
   "cell_type": "code",
   "execution_count": 37,
   "id": "a36cb2dd-da44-42a2-8b19-d3cad5bc64b4",
   "metadata": {},
   "outputs": [
    {
     "name": "stderr",
     "output_type": "stream",
     "text": [
      "Generating predictions with TTA: 100%|██████████| 40/40 [00:17<00:00,  2.32it/s]\n"
     ]
    },
    {
     "name": "stdout",
     "output_type": "stream",
     "text": [
      "Predictions saved to predictions.csv\n"
     ]
    },
    {
     "data": {
      "image/png": "[encoded data removed]",
      "text/plain": [
       "<Figure size 1500x600 with 10 Axes>"
      ]
     },
     "metadata": {},
     "output_type": "display_data"
    }
   ],
   "source": [
    "model.eval()\n",
    "\n",
    "tta_transformations = [\n",
    "    transforms.Lambda(lambda x: x),  # Identity transformation (does nothing)\n",
    "    transforms.RandomHorizontalFlip(p=1),  # Flip images horizontally\n",
    "    transforms.GaussianBlur(kernel_size=3),  # Apply Gaussian blur\n",
    "    transforms.ColorJitter(contrast=0.5),  # Adjust contrast\n",
    "    transforms.ColorJitter(brightness=0.5)  # Adjust brightness\n",
    "]\n",
    "\n",
    "# Initialize the list to store the IDs and predicted labels\n",
    "image_ids = []\n",
    "predicted_labels = []\n",
    "\n",
    "# Run the model on the test set with TTA and store predictions\n",
    "with torch.no_grad():  # Disable gradient calculation during inference\n",
    "    for inputs, image_ids_batch in tqdm(submission_loader, desc=\"Generating predictions with TTA\"):\n",
    "        inputs = inputs.to(device)\n",
    "        \n",
    "        # Apply TTA and get predictions for each augmented version of the input images\n",
    "        augmented_outputs = []\n",
    "        \n",
    "        for transform in tta_transformations:\n",
    "            # Apply the transformation to each image in the batch\n",
    "            augmented_inputs = torch.stack([transform(img) for img in inputs])\n",
    "            augmented_inputs = augmented_inputs.to(device)\n",
    "\n",
    "            # Get the predictions from the model for the augmented inputs\n",
    "            outputs = model(augmented_inputs)\n",
    "            augmented_outputs.append(outputs)\n",
    "        \n",
    "        # Average the predictions across all augmented versions\n",
    "        avg_outputs = torch.mean(torch.stack(augmented_outputs), dim=0)\n",
    "        \n",
    "        # Get the final predicted labels\n",
    "        _, predicted = torch.max(avg_outputs, 1)\n",
    "        \n",
    "        # Collect the image IDs and the predicted labels\n",
    "        image_ids.extend(image_ids_batch.cpu().numpy())  # Use the provided image IDs\n",
    "        predicted_labels.extend(predicted.cpu().numpy())\n",
    "        \n",
    "# Create a DataFrame to hold the data\n",
    "df = pd.DataFrame({\n",
    "    \"ID\": image_ids,\n",
    "    \"Labels\": predicted_labels\n",
    "})\n",
    "\n",
    "# Define the path where the CSV file will be saved (Kaggle working directory)\n",
    "csv_filename = 'predictions.csv'\n",
    "df.to_csv(csv_filename, index=False)\n",
    "\n",
    "print(f\"Predictions saved to {csv_filename}\")\n",
    "\n",
    "# Load the label names\n",
    "meta_data_dict = load_cifar_batch(os.path.join(cifar10_dir, 'batches.meta'))\n",
    "label_names = meta_data_dict[b'label_names']\n",
    "\n",
    "df[\"Label Name\"] = df[\"Labels\"].map(lambda label: label_names[label])\n",
    "headers = df\n",
    "\n",
    "start_idx = 8090  # Index where you want to start (11th image)\n",
    "end_idx = start_idx + 10    # Index where you want to end (31st image, non-inclusive)\n",
    "\n",
    "top_images = [submission_dataset[i][0] for i in range(start_idx, end_idx)]\n",
    "top_labels = headers.iloc[start_idx:end_idx][\"Label Name\"]\n",
    "\n",
    "# Set up the plot\n",
    "fig, axes = plt.subplots(2, 5, figsize=(15, 6))\n",
    "\n",
    "# Loop through each image and plot it\n",
    "for i, ax in enumerate(axes.flat):\n",
    "    ax.imshow(top_images[i].permute(1, 2, 0))  # Convert tensor from [C, H, W] to [H, W, C]\n",
    "    ax.set_title(f\"Label: {top_labels.iloc[i]}\")\n",
    "    ax.axis('off')\n",
    "\n",
    "# plt.tight_layout()\n",
    "# plt.show()"
   ]
  },
  {
   "cell_type": "code",
   "execution_count": 26,
   "id": "36d76c0b-d97d-4a49-864b-88ce545ea848",
   "metadata": {},
   "outputs": [
    {
     "name": "stderr",
     "output_type": "stream",
     "text": [
      "Clipping input data to the valid range for imshow with RGB data ([0..1] for floats or [0..255] for integers). Got range [-1.4069903..1.7721786].\n",
      "Clipping input data to the valid range for imshow with RGB data ([0..1] for floats or [0..255] for integers). Got range [-1.9577202..2.0408723].\n",
      "Clipping input data to the valid range for imshow with RGB data ([0..1] for floats or [0..255] for integers). Got range [-1.8514475..1.8685879].\n",
      "Clipping input data to the valid range for imshow with RGB data ([0..1] for floats or [0..255] for integers). Got range [-1.2394572..2.1264887].\n",
      "Clipping input data to the valid range for imshow with RGB data ([0..1] for floats or [0..255] for integers). Got range [-1.1797571..2.1264887].\n",
      "Clipping input data to the valid range for imshow with RGB data ([0..1] for floats or [0..255] for integers). Got range [-1.9259666..1.9171237].\n",
      "Clipping input data to the valid range for imshow with RGB data ([0..1] for floats or [0..255] for integers). Got range [-1.9735969..1.8849137].\n",
      "Clipping input data to the valid range for imshow with RGB data ([0..1] for floats or [0..255] for integers). Got range [-1.9894737..2.1264887].\n",
      "Clipping input data to the valid range for imshow with RGB data ([0..1] for floats or [0..255] for integers). Got range [-1.7830755..2.1264887].\n",
      "Clipping input data to the valid range for imshow with RGB data ([0..1] for floats or [0..255] for integers). Got range [-1.7671986..2.055863].\n"
     ]
    },
    {
     "data": {
      "image/png": "[encoded data removed]",
      "text/plain": [
       "<Figure size 1500x600 with 10 Axes>"
      ]
     },
     "metadata": {},
     "output_type": "display_data"
    }
   ],
   "source": [
    "# Load the label names\n",
    "meta_data_dict = load_cifar_batch(os.path.join(cifar10_dir, 'batches.meta'))\n",
    "label_names = meta_data_dict[b'label_names']\n",
    "\n",
    "df[\"Label Name\"] = df[\"Labels\"].map(lambda label: label_names[label])\n",
    "headers = df\n",
    "\n",
    "start_idx = 8090  # Index where you want to start (11th image)\n",
    "end_idx = start_idx + 10    # Index where you want to end (31st image, non-inclusive)\n",
    "\n",
    "top_images = [submission_dataset[i][0] for i in range(start_idx, end_idx)]\n",
    "top_labels = headers.iloc[start_idx:end_idx][\"Label Name\"]\n",
    "\n",
    "# Set up the plot\n",
    "fig, axes = plt.subplots(2, 5, figsize=(15, 6))\n",
    "\n",
    "# Loop through each image and plot it\n",
    "for i, ax in enumerate(axes.flat):\n",
    "    ax.imshow(top_images[i].permute(1, 2, 0))  # Convert tensor from [C, H, W] to [H, W, C]\n",
    "    ax.set_title(f\"Label: {top_labels.iloc[i]}\")\n",
    "    ax.axis('off')\n",
    "\n",
    "# plt.tight_layout()\n",
    "# plt.show()"
   ]
  }
 ],
 "metadata": {
  "kernelspec": {
   "display_name": "Python 3 (ipykernel)",
   "language": "python",
   "name": "python3"
  },
  "language_info": {
   "codemirror_mode": {
    "name": "ipython",
    "version": 3
   },
   "file_extension": ".py",
   "mimetype": "text/x-python",
   "name": "python",
   "nbconvert_exporter": "python",
   "pygments_lexer": "ipython3",
   "version": "3.9.18"
  }
 },
 "nbformat": 4,
 "nbformat_minor": 5
}
