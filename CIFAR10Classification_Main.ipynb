{
 "cells": [
  {
   "cell_type": "code",
   "execution_count": 1,
   "id": "114ccccf-9c98-4ee7-a717-a67b86af5b2e",
   "metadata": {},
   "outputs": [],
   "source": [
    "import torch"
   ]
  },
  {
   "cell_type": "code",
   "execution_count": 2,
   "id": "89f1ac60-d6a9-4e8f-b11d-0f0d79d00b08",
   "metadata": {},
   "outputs": [
    {
     "name": "stdout",
     "output_type": "stream",
     "text": [
      "GPU Device: Tesla V100-SXM2-16GB\n",
      "Memory Allocated: 0 bytes\n",
      "Memory Cached: 0 bytes\n"
     ]
    }
   ],
   "source": [
    "if torch.cuda.is_available():\n",
    "    print(f\"GPU Device: {torch.cuda.get_device_name(0)}\")\n",
    "    print(f\"Memory Allocated: {torch.cuda.memory_allocated(0)} bytes\")\n",
    "    print(f\"Memory Cached: {torch.cuda.memory_reserved(0)} bytes\")"
   ]
  },
  {
   "cell_type": "code",
   "execution_count": 3,
   "id": "ca8be1a2-9ac1-49aa-99d8-24e1aebbbb3e",
   "metadata": {},
   "outputs": [],
   "source": [
    "import torch\n",
    "import torch.nn as nn\n",
    "import torch.nn.functional as F\n",
    "import os\n",
    "import numpy as np\n",
    "import pickle\n",
    "from torch.utils.data import DataLoader, Dataset\n",
    "from torchvision import transforms\n",
    "import torch.optim as optim\n",
    "from torchsummary import summary\n",
    "from tqdm import tqdm\n",
    "import pickle\n",
    "import pandas as pd\n",
    "import matplotlib.pyplot as plt\n",
    "import random\n",
    "from torch.nn.utils import clip_grad_norm_\n",
    "import torch.optim as optim\n",
    "from torch.amp import GradScaler, autocast\n",
    "from torch_optimizer import Lookahead "
   ]
  },
  {
   "cell_type": "markdown",
   "id": "8a0372bd",
   "metadata": {},
   "source": [
    "### Model Definition\n",
    "\n",
    "The model used for CIFAR-10 classification is a custom ResNet architecture, modified to include additional regularization and stochastic depth. Below are the key components of the model:\n",
    "\n",
    "#### Residual Block\n",
    "A key building block of the ResNet architecture is the **Residual Block**, which helps mitigate the vanishing gradient problem. Each block consists of two convolutional layers with batch normalization and ReLU activations. It also supports **dropout** and a **shortcut connection** that either performs identity mapping or a convolutional transformation if the input and output dimensions differ.\n",
    "\n",
    "#### ResNet Architecture\n",
    "The overall model is based on a modified version of ResNet, which includes multiple residual blocks with varying numbers of layers, along with enhanced regularization via dropout. Additionally, the stem of the network has been modified with a sequence of 3x3 convolutions. The model architecture is as follows:\n",
    "\n",
    "1. **Stem Layer**: Initial convolutional layers followed by batch normalization and ReLU activation.\n",
    "2. **Residual Layers**: Each of the layers (layer1, layer2, layer3, and layer4) contains multiple residual blocks, with the number of channels doubling after each layer.\n",
    "3. **Final Layers**: An adaptive average pooling layer followed by a fully connected layer and dropout for classification.\n"
   ]
  },
  {
   "cell_type": "code",
   "execution_count": 14,
   "id": "4d4c47d3-5bbd-4cf4-86f8-a8c1e886720d",
   "metadata": {},
   "outputs": [
    {
     "name": "stdout",
     "output_type": "stream",
     "text": [
      "----------------------------------------------------------------\n",
      "        Layer (type)               Output Shape         Param #\n",
      "================================================================\n",
      "            Conv2d-1           [-1, 32, 32, 32]             864\n",
      "       BatchNorm2d-2           [-1, 32, 32, 32]              64\n",
      "              ReLU-3           [-1, 32, 32, 32]               0\n",
      "            Conv2d-4           [-1, 32, 32, 32]           9,216\n",
      "       BatchNorm2d-5           [-1, 32, 32, 32]              64\n",
      "              ReLU-6           [-1, 32, 32, 32]               0\n",
      "            Conv2d-7           [-1, 32, 32, 32]           9,216\n",
      "       BatchNorm2d-8           [-1, 32, 32, 32]              64\n",
      "              ReLU-9           [-1, 32, 32, 32]               0\n",
      "           Conv2d-10           [-1, 32, 32, 32]           9,216\n",
      "      BatchNorm2d-11           [-1, 32, 32, 32]              64\n",
      "           Conv2d-12           [-1, 32, 32, 32]           9,216\n",
      "      BatchNorm2d-13           [-1, 32, 32, 32]              64\n",
      "        Dropout2d-14           [-1, 32, 32, 32]               0\n",
      "    ResidualBlock-15           [-1, 32, 32, 32]               0\n",
      "           Conv2d-16           [-1, 32, 32, 32]           9,216\n",
      "      BatchNorm2d-17           [-1, 32, 32, 32]              64\n",
      "           Conv2d-18           [-1, 32, 32, 32]           9,216\n",
      "      BatchNorm2d-19           [-1, 32, 32, 32]              64\n",
      "        Dropout2d-20           [-1, 32, 32, 32]               0\n",
      "    ResidualBlock-21           [-1, 32, 32, 32]               0\n",
      "           Conv2d-22           [-1, 32, 32, 32]           9,216\n",
      "      BatchNorm2d-23           [-1, 32, 32, 32]              64\n",
      "           Conv2d-24           [-1, 32, 32, 32]           9,216\n",
      "      BatchNorm2d-25           [-1, 32, 32, 32]              64\n",
      "        Dropout2d-26           [-1, 32, 32, 32]               0\n",
      "    ResidualBlock-27           [-1, 32, 32, 32]               0\n",
      "           Conv2d-28           [-1, 32, 32, 32]           9,216\n",
      "      BatchNorm2d-29           [-1, 32, 32, 32]              64\n",
      "           Conv2d-30           [-1, 32, 32, 32]           9,216\n",
      "      BatchNorm2d-31           [-1, 32, 32, 32]              64\n",
      "        Dropout2d-32           [-1, 32, 32, 32]               0\n",
      "    ResidualBlock-33           [-1, 32, 32, 32]               0\n",
      "           Conv2d-34           [-1, 32, 32, 32]           9,216\n",
      "      BatchNorm2d-35           [-1, 32, 32, 32]              64\n",
      "           Conv2d-36           [-1, 32, 32, 32]           9,216\n",
      "      BatchNorm2d-37           [-1, 32, 32, 32]              64\n",
      "        Dropout2d-38           [-1, 32, 32, 32]               0\n",
      "    ResidualBlock-39           [-1, 32, 32, 32]               0\n",
      "           Conv2d-40           [-1, 32, 32, 32]           9,216\n",
      "      BatchNorm2d-41           [-1, 32, 32, 32]              64\n",
      "           Conv2d-42           [-1, 32, 32, 32]           9,216\n",
      "      BatchNorm2d-43           [-1, 32, 32, 32]              64\n",
      "        Dropout2d-44           [-1, 32, 32, 32]               0\n",
      "    ResidualBlock-45           [-1, 32, 32, 32]               0\n",
      "           Conv2d-46           [-1, 32, 32, 32]           9,216\n",
      "      BatchNorm2d-47           [-1, 32, 32, 32]              64\n",
      "           Conv2d-48           [-1, 32, 32, 32]           9,216\n",
      "      BatchNorm2d-49           [-1, 32, 32, 32]              64\n",
      "        Dropout2d-50           [-1, 32, 32, 32]               0\n",
      "    ResidualBlock-51           [-1, 32, 32, 32]               0\n",
      "           Conv2d-52           [-1, 32, 32, 32]           9,216\n",
      "      BatchNorm2d-53           [-1, 32, 32, 32]              64\n",
      "           Conv2d-54           [-1, 32, 32, 32]           9,216\n",
      "      BatchNorm2d-55           [-1, 32, 32, 32]              64\n",
      "        Dropout2d-56           [-1, 32, 32, 32]               0\n",
      "    ResidualBlock-57           [-1, 32, 32, 32]               0\n",
      "           Conv2d-58           [-1, 64, 16, 16]          18,432\n",
      "      BatchNorm2d-59           [-1, 64, 16, 16]             128\n",
      "           Conv2d-60           [-1, 64, 16, 16]          36,864\n",
      "      BatchNorm2d-61           [-1, 64, 16, 16]             128\n",
      "        Dropout2d-62           [-1, 64, 16, 16]               0\n",
      "        AvgPool2d-63           [-1, 32, 16, 16]               0\n",
      "           Conv2d-64           [-1, 64, 16, 16]           2,048\n",
      "      BatchNorm2d-65           [-1, 64, 16, 16]             128\n",
      "    ResidualBlock-66           [-1, 64, 16, 16]               0\n",
      "           Conv2d-67           [-1, 64, 16, 16]          36,864\n",
      "      BatchNorm2d-68           [-1, 64, 16, 16]             128\n",
      "           Conv2d-69           [-1, 64, 16, 16]          36,864\n",
      "      BatchNorm2d-70           [-1, 64, 16, 16]             128\n",
      "        Dropout2d-71           [-1, 64, 16, 16]               0\n",
      "    ResidualBlock-72           [-1, 64, 16, 16]               0\n",
      "           Conv2d-73           [-1, 64, 16, 16]          36,864\n",
      "      BatchNorm2d-74           [-1, 64, 16, 16]             128\n",
      "           Conv2d-75           [-1, 64, 16, 16]          36,864\n",
      "      BatchNorm2d-76           [-1, 64, 16, 16]             128\n",
      "        Dropout2d-77           [-1, 64, 16, 16]               0\n",
      "    ResidualBlock-78           [-1, 64, 16, 16]               0\n",
      "           Conv2d-79           [-1, 64, 16, 16]          36,864\n",
      "      BatchNorm2d-80           [-1, 64, 16, 16]             128\n",
      "           Conv2d-81           [-1, 64, 16, 16]          36,864\n",
      "      BatchNorm2d-82           [-1, 64, 16, 16]             128\n",
      "        Dropout2d-83           [-1, 64, 16, 16]               0\n",
      "    ResidualBlock-84           [-1, 64, 16, 16]               0\n",
      "           Conv2d-85           [-1, 64, 16, 16]          36,864\n",
      "      BatchNorm2d-86           [-1, 64, 16, 16]             128\n",
      "           Conv2d-87           [-1, 64, 16, 16]          36,864\n",
      "      BatchNorm2d-88           [-1, 64, 16, 16]             128\n",
      "        Dropout2d-89           [-1, 64, 16, 16]               0\n",
      "    ResidualBlock-90           [-1, 64, 16, 16]               0\n",
      "           Conv2d-91           [-1, 64, 16, 16]          36,864\n",
      "      BatchNorm2d-92           [-1, 64, 16, 16]             128\n",
      "           Conv2d-93           [-1, 64, 16, 16]          36,864\n",
      "      BatchNorm2d-94           [-1, 64, 16, 16]             128\n",
      "        Dropout2d-95           [-1, 64, 16, 16]               0\n",
      "    ResidualBlock-96           [-1, 64, 16, 16]               0\n",
      "           Conv2d-97            [-1, 128, 8, 8]          73,728\n",
      "      BatchNorm2d-98            [-1, 128, 8, 8]             256\n",
      "           Conv2d-99            [-1, 128, 8, 8]         147,456\n",
      "     BatchNorm2d-100            [-1, 128, 8, 8]             256\n",
      "       Dropout2d-101            [-1, 128, 8, 8]               0\n",
      "       AvgPool2d-102             [-1, 64, 8, 8]               0\n",
      "          Conv2d-103            [-1, 128, 8, 8]           8,192\n",
      "     BatchNorm2d-104            [-1, 128, 8, 8]             256\n",
      "   ResidualBlock-105            [-1, 128, 8, 8]               0\n",
      "          Conv2d-106            [-1, 128, 8, 8]         147,456\n",
      "     BatchNorm2d-107            [-1, 128, 8, 8]             256\n",
      "          Conv2d-108            [-1, 128, 8, 8]         147,456\n",
      "     BatchNorm2d-109            [-1, 128, 8, 8]             256\n",
      "       Dropout2d-110            [-1, 128, 8, 8]               0\n",
      "   ResidualBlock-111            [-1, 128, 8, 8]               0\n",
      "          Conv2d-112            [-1, 128, 8, 8]         147,456\n",
      "     BatchNorm2d-113            [-1, 128, 8, 8]             256\n",
      "          Conv2d-114            [-1, 128, 8, 8]         147,456\n",
      "     BatchNorm2d-115            [-1, 128, 8, 8]             256\n",
      "       Dropout2d-116            [-1, 128, 8, 8]               0\n",
      "   ResidualBlock-117            [-1, 128, 8, 8]               0\n",
      "          Conv2d-118            [-1, 128, 8, 8]         147,456\n",
      "     BatchNorm2d-119            [-1, 128, 8, 8]             256\n",
      "          Conv2d-120            [-1, 128, 8, 8]         147,456\n",
      "     BatchNorm2d-121            [-1, 128, 8, 8]             256\n",
      "       Dropout2d-122            [-1, 128, 8, 8]               0\n",
      "   ResidualBlock-123            [-1, 128, 8, 8]               0\n",
      "          Conv2d-124            [-1, 256, 4, 4]         294,912\n",
      "     BatchNorm2d-125            [-1, 256, 4, 4]             512\n",
      "          Conv2d-126            [-1, 256, 4, 4]         589,824\n",
      "     BatchNorm2d-127            [-1, 256, 4, 4]             512\n",
      "       Dropout2d-128            [-1, 256, 4, 4]               0\n",
      "       AvgPool2d-129            [-1, 128, 4, 4]               0\n",
      "          Conv2d-130            [-1, 256, 4, 4]          32,768\n",
      "     BatchNorm2d-131            [-1, 256, 4, 4]             512\n",
      "   ResidualBlock-132            [-1, 256, 4, 4]               0\n",
      "          Conv2d-133            [-1, 256, 4, 4]         589,824\n",
      "     BatchNorm2d-134            [-1, 256, 4, 4]             512\n",
      "          Conv2d-135            [-1, 256, 4, 4]         589,824\n",
      "     BatchNorm2d-136            [-1, 256, 4, 4]             512\n",
      "       Dropout2d-137            [-1, 256, 4, 4]               0\n",
      "   ResidualBlock-138            [-1, 256, 4, 4]               0\n",
      "          Conv2d-139            [-1, 256, 4, 4]         589,824\n",
      "     BatchNorm2d-140            [-1, 256, 4, 4]             512\n",
      "          Conv2d-141            [-1, 256, 4, 4]         589,824\n",
      "     BatchNorm2d-142            [-1, 256, 4, 4]             512\n",
      "       Dropout2d-143            [-1, 256, 4, 4]               0\n",
      "   ResidualBlock-144            [-1, 256, 4, 4]               0\n",
      "AdaptiveAvgPool2d-145            [-1, 256, 1, 1]               0\n",
      "         Dropout-146                  [-1, 256]               0\n",
      "          Linear-147                   [-1, 10]           2,570\n",
      "================================================================\n",
      "Total params: 4,994,986\n",
      "Trainable params: 4,994,986\n",
      "Non-trainable params: 0\n",
      "----------------------------------------------------------------\n",
      "Input size (MB): 0.01\n",
      "Forward/backward pass size (MB): 21.36\n",
      "Params size (MB): 19.05\n",
      "Estimated Total Size (MB): 40.43\n",
      "----------------------------------------------------------------\n"
     ]
    }
   ],
   "source": [
    "class ResidualBlock(nn.Module):\n",
    "    def __init__(self, in_channels, out_channels, stride, drop_rate):\n",
    "        super().__init__()\n",
    "        self.dropout = nn.Dropout2d(p=drop_rate) if drop_rate > 0 else None\n",
    "        \n",
    "        self.conv1 = nn.Conv2d(in_channels, out_channels, 3, stride, 1, bias=False)\n",
    "        self.bn1 = nn.BatchNorm2d(out_channels)\n",
    "        self.conv2 = nn.Conv2d(out_channels, out_channels, 3, 1, 1, bias=False)\n",
    "        self.bn2 = nn.BatchNorm2d(out_channels)\n",
    "        \n",
    "        self.shortcut = nn.Sequential()\n",
    "        if stride != 1 or in_channels != out_channels:\n",
    "            self.shortcut = nn.Sequential(\n",
    "                nn.AvgPool2d(2, stride=2) if stride == 2 else nn.Identity(),\n",
    "                nn.Conv2d(in_channels, out_channels, 1, 1, bias=False),\n",
    "                nn.BatchNorm2d(out_channels)\n",
    "            )\n",
    "\n",
    "    def forward(self, x):\n",
    "        out = F.relu(self.bn1(self.conv1(x)))\n",
    "        out = self.bn2(self.conv2(out))\n",
    "        if self.dropout:\n",
    "            out = self.dropout(out)\n",
    "        out += self.shortcut(x)\n",
    "        return F.relu(out)\n",
    "\n",
    "\n",
    "class ResNet(nn.Module):\n",
    "    def __init__(self, drop_rate=0.2):\n",
    "        super().__init__()\n",
    "        self.in_channels = 32\n",
    "        \n",
    "        # Enhanced stem with multiple 3x3 convs (ResNet-D inspired)\n",
    "        self.stem = nn.Sequential(\n",
    "            nn.Conv2d(3, 32, 3, stride=1, padding=1, bias=False),\n",
    "            nn.BatchNorm2d(32),\n",
    "            nn.ReLU(),\n",
    "            nn.Conv2d(32, 32, 3, stride=1, padding=1, bias=False),\n",
    "            nn.BatchNorm2d(32),\n",
    "            nn.ReLU(),\n",
    "            nn.Conv2d(32, 32, 3, stride=1, padding=1, bias=False),\n",
    "            nn.BatchNorm2d(32),\n",
    "            nn.ReLU(),\n",
    "        )\n",
    "        \n",
    "        # Modified layer configuration with stochastic depth\n",
    "        self.layer1 = self._make_layer(32, 8, stride=1, drop_rate=drop_rate)\n",
    "        self.layer2 = self._make_layer(64, 6, stride=2, drop_rate=drop_rate)\n",
    "        self.layer3 = self._make_layer(128, 4, stride=2, drop_rate=drop_rate)\n",
    "        self.layer4 = self._make_layer(256, 3, stride=2, drop_rate=drop_rate)\n",
    "        \n",
    "        # Final layers with enhanced regularization\n",
    "        self.avgpool = nn.AdaptiveAvgPool2d(1)\n",
    "        self.fc = nn.Sequential(\n",
    "            nn.Dropout(drop_rate),\n",
    "            nn.Linear(256, 10)\n",
    "        )\n",
    "\n",
    "    def _make_layer(self, channels, num_blocks, stride, drop_rate):\n",
    "        layers = []\n",
    "        layers.append(ResidualBlock(self.in_channels, channels, stride, \n",
    "                                          drop_rate))\n",
    "        self.in_channels = channels\n",
    "        for _ in range(1, num_blocks):\n",
    "            layers.append(ResidualBlock(channels, channels, 1,\n",
    "                                              drop_rate))\n",
    "        return nn.Sequential(*layers)\n",
    "\n",
    "    def forward(self, x):\n",
    "        x = self.stem(x)\n",
    "        x = self.layer1(x)\n",
    "        x = self.layer2(x)\n",
    "        x = self.layer3(x)\n",
    "        x = self.layer4(x)\n",
    "        x = self.avgpool(x)\n",
    "        x = x.view(x.size(0), -1)\n",
    "        logits = self.fc(x)\n",
    "        probabilities = F.softmax(logits, dim=1)\n",
    "        return probabilities\n",
    "\n",
    "\n",
    "\n",
    "model = ResNet()\n",
    "device = torch.device(\"cuda\" if torch.cuda.is_available() else \"cpu\")\n",
    "model = model.to(device)\n",
    "\n",
    "summary(model, input_size=(3, 32, 32), device=str(device))"
   ]
  },
  {
   "cell_type": "markdown",
   "id": "71e98f49",
   "metadata": {},
   "source": [
    "### Data Loading and Augmentation\n",
    "\n",
    "In this study, we use the CIFAR-10 dataset for image classification, which consists of 60,000 32x32 color images in 10 classes. The dataset is loaded and augmented using a series of transformations to increase its variability and robustness.\n",
    "\n",
    "#### Data Loading\n",
    "The CIFAR-10 dataset is loaded using custom functions that handle the binary data batches stored in the dataset files. The function `load_cifar_batch` reads each batch, and `load_cifar10` loads the full training and test sets. The images are reshaped from a flat array into 3x32x32 format (RGB), and the labels are extracted for both training and test sets.\n",
    "\n",
    "#### Data Augmentation\n",
    "To improve the model's generalization, several data augmentations are applied to the training images. The augmentations include:\n",
    "\n",
    "- **Random Horizontal Flip**: Randomly flips the image horizontally with a probability of 1.\n",
    "- **Gaussian Blur**: Applies a Gaussian blur to simulate different levels of blurring in real-world images.\n",
    "- **FiveCrop**: Crops the image into four corners and the center, then resizes them to the original size.\n",
    "- **Grayscale Conversion**: Converts the image to grayscale and back to RGB.\n",
    "- **Color Jitter**: Randomly adjusts the contrast and brightness of the image to simulate lighting variations.\n",
    "\n",
    "These augmentations are applied to each image during training, significantly increasing the effective size of the dataset.\n",
    "\n",
    "#### Dataset Class\n",
    "The `CIFAR10Dataset` class is implemented to manage both the original and augmented images. The images are loaded and transformed using the defined transformations, and both the original and transformed images are stored for use during training. The data is loaded into batches using PyTorch’s `DataLoader`, enabling efficient training.\n",
    "\n",
    "By incorporating these transformations, the dataset is expanded to help improve model robustness and reduce overfitting during training.\n"
   ]
  },
  {
   "cell_type": "code",
   "execution_count": 5,
   "id": "4c856953-3e3c-43ee-92f4-47d737138d98",
   "metadata": {},
   "outputs": [
    {
     "name": "stderr",
     "output_type": "stream",
     "text": [
      "Loading CIFAR-10 images and applying transformations: 100%|██████████| 50000/50000 [01:36<00:00, 518.09image/s]\n",
      "Loading CIFAR-10 images and applying transformations: 100%|██████████| 10000/10000 [00:19<00:00, 520.83image/s]"
     ]
    },
    {
     "name": "stdout",
     "output_type": "stream",
     "text": [
      "Original dataset size: 50000\n",
      "After transformations, dataset size: 550000\n"
     ]
    },
    {
     "name": "stderr",
     "output_type": "stream",
     "text": [
      "\n"
     ]
    }
   ],
   "source": [
    "\n",
    "def load_cifar_batch(filename):\n",
    "    with open(filename, 'rb') as f:\n",
    "        batch = pickle.load(f, encoding='bytes')\n",
    "    return batch\n",
    "\n",
    "def load_cifar10(cifar10_dir):\n",
    "    train_images = []\n",
    "    train_labels = []\n",
    "\n",
    "    for batch_id in range(1, 6):\n",
    "        batch_dict = load_cifar_batch(os.path.join(cifar10_dir, f'data_batch_{batch_id}'))\n",
    "        train_images.append(batch_dict[b'data'])\n",
    "        train_labels.append(batch_dict[b'labels'])\n",
    "\n",
    "    train_images = np.concatenate(train_images)\n",
    "    train_labels = np.concatenate(train_labels)\n",
    "\n",
    "    test_dict = load_cifar_batch(os.path.join(cifar10_dir, 'test_batch'))\n",
    "    test_images = test_dict[b'data']\n",
    "    test_labels = test_dict[b'labels']\n",
    "\n",
    "    meta_data_dict = load_cifar_batch(os.path.join(cifar10_dir, 'batches.meta'))\n",
    "    label_names = meta_data_dict[b'label_names']\n",
    "\n",
    "    train_images = train_images.reshape((50000, 3, 32, 32)) \n",
    "    test_images = test_images.reshape((10000, 3, 32, 32))    \n",
    "\n",
    "    train_images = np.transpose(train_images, (0, 2, 3, 1))\n",
    "    test_images = np.transpose(test_images, (0, 2, 3, 1))\n",
    "    \n",
    "    return (train_images, train_labels), (test_images, test_labels), label_names\n",
    "\n",
    "cifar10_dir = ''\n",
    "(train_images, train_labels), (test_images, test_labels), label_names = load_cifar10(cifar10_dir)\n",
    "\n",
    "transformations = [\n",
    "    transforms.RandomHorizontalFlip(p=1),\n",
    "    transforms.GaussianBlur(kernel_size=3),\n",
    "    transforms.FiveCrop(20),\n",
    "    transforms.Compose([\n",
    "        transforms.Grayscale(num_output_channels=1),  \n",
    "        transforms.Lambda(lambda x: x.convert('RGB'))\n",
    "    ]),\n",
    "    transforms.ColorJitter(contrast=0.5),\n",
    "    transforms.ColorJitter(brightness=0.5)\n",
    "]\n",
    "\n",
    "def apply_transformations(image, transformations):\n",
    "    transformed_images = []\n",
    "\n",
    "    if not transformations:\n",
    "        return transformed_images\n",
    "\n",
    "    num_transformations = min(len(transformations), 10)\n",
    "    selected_transforms = random.sample(transformations, num_transformations)\n",
    "\n",
    "    for transform in selected_transforms:\n",
    "        try:\n",
    "            if isinstance(transform, transforms.FiveCrop):\n",
    "                cropped_images = transform(image)\n",
    "                for cropped_image in cropped_images:\n",
    "                    resize_transform = transforms.Resize(32)\n",
    "                    transformed_image = resize_transform(cropped_image)\n",
    "                    transformed_images.append(transformed_image)\n",
    "            else:\n",
    "                transformed_image = transform(image)\n",
    "                transformed_images.append(transformed_image)\n",
    "\n",
    "        except Exception as e:\n",
    "            print(f\"Transformation failed: {e}\")\n",
    "            print(transform)\n",
    "            continue\n",
    "    \n",
    "    return transformed_images\n",
    "\n",
    "class CIFAR10Dataset(Dataset):\n",
    "    def __init__(self, images, labels, transform=None, transformations=None):\n",
    "        self.images = images\n",
    "        self.labels = labels\n",
    "        self.transform = transform\n",
    "        self.transformations = transformations\n",
    "\n",
    "        self.all_images = []\n",
    "        self.all_labels = []\n",
    "        for i in tqdm(range(len(images)), desc=\"Loading CIFAR-10 images and applying transformations\", unit=\"image\"):\n",
    "            image = images[i]\n",
    "            label = labels[i]\n",
    "            if self.transform:\n",
    "                image = self.transform(image)\n",
    "\n",
    "            image_pil = transforms.ToPILImage()(image)\n",
    "            \n",
    "                \n",
    "            self.all_images.append(image_pil)\n",
    "            self.all_labels.append(label)\n",
    "            \n",
    "            transformed_images = apply_transformations(image_pil, transformations)\n",
    "            self.all_images.extend(transformed_images)\n",
    "            self.all_labels.extend([label] * len(transformed_images))\n",
    "\n",
    "    def __len__(self):\n",
    "        return len(self.all_images)\n",
    "\n",
    "    def __getitem__(self, idx):\n",
    "        image = self.all_images[idx]\n",
    "        label = self.all_labels[idx]\n",
    "        image = transforms.ToTensor()(image)\n",
    "        return image, label\n",
    "\n",
    "\n",
    "\n",
    "base_transform = transforms.Compose([\n",
    "    transforms.ToPILImage(),\n",
    "    transforms.ToTensor(),\n",
    "])\n",
    "\n",
    "train_dataset = CIFAR10Dataset(train_images, train_labels, transform=base_transform, transformations=transformations)\n",
    "test_dataset = CIFAR10Dataset(test_images, test_labels, transform=base_transform, transformations=transformations)\n",
    "\n",
    "train_loader = DataLoader(train_dataset, batch_size=512, shuffle=True, num_workers=4, pin_memory=True)\n",
    "test_loader = DataLoader(test_dataset, batch_size=512, shuffle=False, num_workers=4, pin_memory=True)\n",
    "\n",
    "print(f\"Original dataset size: {len(train_images)}\")\n",
    "print(f\"After transformations, dataset size: {len(train_dataset)}\")  # Now includes original + transformed images\n"
   ]
  },
  {
   "cell_type": "code",
   "execution_count": 6,
   "id": "d692eab6-4ea0-406a-b374-720d108a87ae",
   "metadata": {},
   "outputs": [
    {
     "data": {
      "image/png": "[encoded data removed]",
      "text/plain": [
       "<Figure size 1500x600 with 10 Axes>"
      ]
     },
     "metadata": {},
     "output_type": "display_data"
    }
   ],
   "source": [
    "top_10_images = [train_dataset[i+20][0] for i in range(10)]\n",
    "top_10_labels = [train_dataset[i][1] for i in range(10)]\n",
    "\n",
    "fig, axes = plt.subplots(2, 5, figsize=(15, 6))\n",
    "for i, ax in enumerate(axes.flat):\n",
    "    ax.imshow(top_10_images[i].permute(1, 2, 0))\n",
    "    ax.set_title(f\"Label: {top_10_labels[i]}\")\n",
    "    ax.axis('off')\n",
    "\n",
    "plt.tight_layout()\n",
    "plt.show()"
   ]
  },
  {
   "cell_type": "code",
   "execution_count": 7,
   "id": "7df3289d-bd3a-446e-8a32-c9e15f987a57",
   "metadata": {},
   "outputs": [
    {
     "name": "stderr",
     "output_type": "stream",
     "text": [
      "Loading Final Submission CIFAR-10 images: 100%|██████████| 10000/10000 [00:01<00:00, 7488.73image/s]\n"
     ]
    }
   ],
   "source": [
    "# Load Submission Test Data\n",
    "class CIFAR10DatasetTest(Dataset):\n",
    "    def __init__(self, images, ids, transform=None):\n",
    "        self.images = images\n",
    "        self.ids = ids\n",
    "        self.transform = transform\n",
    "\n",
    "        self.all_images = []\n",
    "        self.all_ids = []\n",
    "        for i in tqdm(range(len(images)), desc=\"Loading Final Submission CIFAR-10 images\", unit=\"image\"):\n",
    "            image = images[i]\n",
    "            _id = ids[i]\n",
    "            if self.transform:\n",
    "                image = self.transform(image)\n",
    "            self.all_images.append(image)\n",
    "            self.all_ids.append(_id)\n",
    "\n",
    "    def __len__(self):\n",
    "        return len(self.all_images)\n",
    "\n",
    "    def __getitem__(self, idx):\n",
    "        image = self.all_images[idx]\n",
    "        _id = self.all_ids[idx]\n",
    "        return image, _id\n",
    "\n",
    "cifar10_batch = load_cifar_batch('cifar_test_nolabel.pkl')\n",
    "\n",
    "submission_images = cifar10_batch[b'data']\n",
    "submission_ids = cifar10_batch[b'ids']\n",
    "\n",
    "\n",
    "submission_transform = transforms.Compose([\n",
    "    transforms.ToPILImage(),\n",
    "    transforms.ToTensor(),    \n",
    "])\n",
    "\n",
    "submission_dataset = CIFAR10DatasetTest(submission_images, submission_ids, transform = submission_transform)\n",
    "submission_loader = DataLoader(submission_dataset, batch_size=256, shuffle=False, num_workers=4, pin_memory=False)\n"
   ]
  },
  {
   "cell_type": "markdown",
   "id": "cf90fbaa",
   "metadata": {},
   "source": [
    "### Model Loading and GPU Setup\n",
    "\n",
    "The model is configured to run on multiple GPUs if available. This is done by checking the number of available GPUs using `torch.cuda.device_count()`. \n",
    "\n",
    "- **Multi-GPU Setup**: If more than one GPU is available, the model is wrapped with `nn.DataParallel` to enable parallel processing across the GPUs. The model is then moved to the appropriate device (GPU or CPU).\n",
    "- **Single-GPU or CPU Setup**: If only one GPU or no GPU is available, the model is directly moved to the available device (CPU or GPU).\n",
    "\n",
    "Additionally, a checkpoint for the model weights can be loaded using `model.load_state_dict(torch.load('MWT_best.pth'))` (currently commented out), which allows the model to resume from the best previously saved state.\n",
    "\n",
    "This approach optimizes the model's training and inference by utilizing multiple GPUs when available, making the process faster and more efficient.\n"
   ]
  },
  {
   "cell_type": "code",
   "execution_count": 15,
   "id": "8f0cdc58-8e47-41f1-9a35-18fdcd40c769",
   "metadata": {},
   "outputs": [
    {
     "name": "stdout",
     "output_type": "stream",
     "text": [
      "Using 2 GPUs!\n"
     ]
    }
   ],
   "source": [
    "# Uncomment model.load_state_dict to load a best saved checkpoint if available\n",
    "if torch.cuda.device_count() > 1:\n",
    "    print(f\"Using {torch.cuda.device_count()} GPUs!\")\n",
    "    model = nn.DataParallel(model)\n",
    "    model = model.to(device)\n",
    "    # model.load_state_dict(torch.load('MWT_best.pth'))\n",
    "else:\n",
    "    model = model.to(device)\n",
    "    # model.load_state_dict(torch.load('MWT_best.pth'))"
   ]
  },
  {
   "cell_type": "markdown",
   "id": "4dc5c5db",
   "metadata": {},
   "source": [
    "### Model Training\n",
    "\n",
    "The model is trained for a total of 50 epochs with the following setup:\n",
    "\n",
    "- **Optimizer**: The training process uses the **SGD** optimizer with a learning rate of 0.1, momentum of 0.95, and Nesterov acceleration. Weight decay is set to 4e-5 to prevent overfitting. Additionally, the **Lookahead** mechanism is applied to the optimizer, with `k=5` and `alpha=0.8`, which helps improve generalization by maintaining a slower-moving \"slow\" model in the training process.\n",
    "  \n",
    "- **Learning Rate Scheduler**: A **OneCycleLR** scheduler is employed, with a maximum learning rate of 0.1. The scheduler gradually increases the learning rate over the first 25% of training epochs and then decreases it, following a cosine annealing schedule.\n",
    "\n",
    "- **Loss Function**: The loss function used is **Smooth Cross-Entropy** with label smoothing. The smoothing factor is set to 0.1, which helps to prevent overfitting by making the model less confident in its predictions.\n",
    "\n",
    "- **Mixed Precision Training**: The **GradScaler** from PyTorch’s mixed-precision module is used to scale gradients during the backward pass to speed up training while preserving numerical stability.\n",
    "\n",
    "The model training loop consists of:\n",
    "1. **Training Loop**: For each epoch, the model is trained using batches from the `train_loader`. The loss and accuracy are calculated and printed for each epoch.\n",
    "2. **Gradient Clipping**: Gradient clipping is applied to avoid exploding gradients by limiting the norm of the gradients.\n",
    "3. **Early Stopping**: The training loop includes early stopping criteria, halting training if the test accuracy does not improve by more than 0.1% for 8 consecutive epochs.\n",
    "4. **Model Checkpointing**: The best model (in terms of test accuracy) is saved periodically using `torch.save(model.state_dict(), 'MWT_best.pth')`.\n",
    "\n",
    "The model is tested on the test set using the `test` function after every epoch, and the test loss and accuracy are reported. At the end of the training process, the final model is saved to 'MWT.pth'.\n"
   ]
  },
  {
   "cell_type": "code",
   "execution_count": 16,
   "id": "f592d374-df03-43d4-896e-e8698874304c",
   "metadata": {},
   "outputs": [
    {
     "name": "stderr",
     "output_type": "stream",
     "text": [
      "Testing: 100%|██████████| 215/215 [00:10<00:00, 19.81it/s]\n"
     ]
    },
    {
     "name": "stdout",
     "output_type": "stream",
     "text": [
      "Test Loss: 2.3026, Accuracy: 10.00%\n"
     ]
    },
    {
     "name": "stderr",
     "output_type": "stream",
     "text": [
      "Epoch 1 - Training: 100%|██████████| 1075/1075 [02:01<00:00,  8.88it/s]\n"
     ]
    },
    {
     "name": "stdout",
     "output_type": "stream",
     "text": [
      "Train Epoch: 1, Loss: 2.2672, Accuracy: 16.90%\n"
     ]
    },
    {
     "name": "stderr",
     "output_type": "stream",
     "text": [
      "Testing: 100%|██████████| 215/215 [00:10<00:00, 20.77it/s]\n"
     ]
    },
    {
     "name": "stdout",
     "output_type": "stream",
     "text": [
      "Test Loss: 2.2672, Accuracy: 17.18%\n"
     ]
    },
    {
     "name": "stderr",
     "output_type": "stream",
     "text": [
      "Epoch 2 - Training: 100%|██████████| 1075/1075 [02:01<00:00,  8.86it/s]\n"
     ]
    },
    {
     "name": "stdout",
     "output_type": "stream",
     "text": [
      "Train Epoch: 2, Loss: 2.2103, Accuracy: 24.91%\n"
     ]
    },
    {
     "name": "stderr",
     "output_type": "stream",
     "text": [
      "Testing: 100%|██████████| 215/215 [00:09<00:00, 21.83it/s]\n"
     ]
    },
    {
     "name": "stdout",
     "output_type": "stream",
     "text": [
      "Test Loss: 2.2017, Accuracy: 25.53%\n"
     ]
    },
    {
     "name": "stderr",
     "output_type": "stream",
     "text": [
      "Epoch 3 - Training: 100%|██████████| 1075/1075 [02:00<00:00,  8.93it/s]\n"
     ]
    },
    {
     "name": "stdout",
     "output_type": "stream",
     "text": [
      "Train Epoch: 3, Loss: 2.1468, Accuracy: 33.00%\n"
     ]
    },
    {
     "name": "stderr",
     "output_type": "stream",
     "text": [
      "Testing: 100%|██████████| 215/215 [00:09<00:00, 21.92it/s]\n"
     ]
    },
    {
     "name": "stdout",
     "output_type": "stream",
     "text": [
      "Test Loss: 2.1225, Accuracy: 35.64%\n"
     ]
    },
    {
     "name": "stderr",
     "output_type": "stream",
     "text": [
      "Epoch 4 - Training: 100%|██████████| 1075/1075 [02:00<00:00,  8.94it/s]\n"
     ]
    },
    {
     "name": "stdout",
     "output_type": "stream",
     "text": [
      "Train Epoch: 4, Loss: 2.1057, Accuracy: 37.84%\n"
     ]
    },
    {
     "name": "stderr",
     "output_type": "stream",
     "text": [
      "Testing: 100%|██████████| 215/215 [00:09<00:00, 22.08it/s]\n"
     ]
    },
    {
     "name": "stdout",
     "output_type": "stream",
     "text": [
      "Test Loss: 2.0823, Accuracy: 40.56%\n"
     ]
    },
    {
     "name": "stderr",
     "output_type": "stream",
     "text": [
      "Epoch 5 - Training: 100%|██████████| 1075/1075 [02:00<00:00,  8.96it/s]\n"
     ]
    },
    {
     "name": "stdout",
     "output_type": "stream",
     "text": [
      "Train Epoch: 5, Loss: 2.0760, Accuracy: 41.28%\n"
     ]
    },
    {
     "name": "stderr",
     "output_type": "stream",
     "text": [
      "Testing: 100%|██████████| 215/215 [00:10<00:00, 21.13it/s]\n"
     ]
    },
    {
     "name": "stdout",
     "output_type": "stream",
     "text": [
      "Test Loss: 2.0683, Accuracy: 42.23%\n"
     ]
    },
    {
     "name": "stderr",
     "output_type": "stream",
     "text": [
      "Epoch 6 - Training: 100%|██████████| 1075/1075 [02:01<00:00,  8.87it/s]\n"
     ]
    },
    {
     "name": "stdout",
     "output_type": "stream",
     "text": [
      "Train Epoch: 6, Loss: 2.0461, Accuracy: 44.87%\n"
     ]
    },
    {
     "name": "stderr",
     "output_type": "stream",
     "text": [
      "Testing: 100%|██████████| 215/215 [00:09<00:00, 21.66it/s]\n"
     ]
    },
    {
     "name": "stdout",
     "output_type": "stream",
     "text": [
      "Test Loss: 2.0329, Accuracy: 46.21%\n"
     ]
    },
    {
     "name": "stderr",
     "output_type": "stream",
     "text": [
      "Epoch 7 - Training: 100%|██████████| 1075/1075 [02:01<00:00,  8.86it/s]\n"
     ]
    },
    {
     "name": "stdout",
     "output_type": "stream",
     "text": [
      "Train Epoch: 7, Loss: 2.0141, Accuracy: 48.58%\n"
     ]
    },
    {
     "name": "stderr",
     "output_type": "stream",
     "text": [
      "Testing: 100%|██████████| 215/215 [00:09<00:00, 21.56it/s]\n"
     ]
    },
    {
     "name": "stdout",
     "output_type": "stream",
     "text": [
      "Test Loss: 1.9933, Accuracy: 50.85%\n"
     ]
    },
    {
     "name": "stderr",
     "output_type": "stream",
     "text": [
      "Epoch 8 - Training: 100%|██████████| 1075/1075 [02:00<00:00,  8.89it/s]\n"
     ]
    },
    {
     "name": "stdout",
     "output_type": "stream",
     "text": [
      "Train Epoch: 8, Loss: 1.9853, Accuracy: 51.93%\n"
     ]
    },
    {
     "name": "stderr",
     "output_type": "stream",
     "text": [
      "Testing: 100%|██████████| 215/215 [00:09<00:00, 21.77it/s]\n"
     ]
    },
    {
     "name": "stdout",
     "output_type": "stream",
     "text": [
      "Test Loss: 1.9598, Accuracy: 54.76%\n"
     ]
    },
    {
     "name": "stderr",
     "output_type": "stream",
     "text": [
      "Epoch 9 - Training: 100%|██████████| 1075/1075 [02:02<00:00,  8.79it/s]\n"
     ]
    },
    {
     "name": "stdout",
     "output_type": "stream",
     "text": [
      "Train Epoch: 9, Loss: 1.9625, Accuracy: 54.55%\n"
     ]
    },
    {
     "name": "stderr",
     "output_type": "stream",
     "text": [
      "Testing: 100%|██████████| 215/215 [00:09<00:00, 21.67it/s]\n"
     ]
    },
    {
     "name": "stdout",
     "output_type": "stream",
     "text": [
      "Test Loss: 1.9452, Accuracy: 56.36%\n"
     ]
    },
    {
     "name": "stderr",
     "output_type": "stream",
     "text": [
      "Epoch 10 - Training: 100%|██████████| 1075/1075 [02:01<00:00,  8.87it/s]\n"
     ]
    },
    {
     "name": "stdout",
     "output_type": "stream",
     "text": [
      "Train Epoch: 10, Loss: 1.9427, Accuracy: 56.78%\n"
     ]
    },
    {
     "name": "stderr",
     "output_type": "stream",
     "text": [
      "Testing: 100%|██████████| 215/215 [00:09<00:00, 21.77it/s]\n"
     ]
    },
    {
     "name": "stdout",
     "output_type": "stream",
     "text": [
      "Test Loss: 1.9299, Accuracy: 58.12%\n"
     ]
    },
    {
     "name": "stderr",
     "output_type": "stream",
     "text": [
      "Epoch 11 - Training: 100%|██████████| 1075/1075 [02:01<00:00,  8.82it/s]\n"
     ]
    },
    {
     "name": "stdout",
     "output_type": "stream",
     "text": [
      "Train Epoch: 11, Loss: 1.9171, Accuracy: 59.87%\n"
     ]
    },
    {
     "name": "stderr",
     "output_type": "stream",
     "text": [
      "Testing: 100%|██████████| 215/215 [00:09<00:00, 21.74it/s]\n"
     ]
    },
    {
     "name": "stdout",
     "output_type": "stream",
     "text": [
      "Test Loss: 1.8927, Accuracy: 62.46%\n"
     ]
    },
    {
     "name": "stderr",
     "output_type": "stream",
     "text": [
      "Epoch 12 - Training: 100%|██████████| 1075/1075 [02:00<00:00,  8.95it/s]\n"
     ]
    },
    {
     "name": "stdout",
     "output_type": "stream",
     "text": [
      "Train Epoch: 12, Loss: 1.8931, Accuracy: 62.56%\n"
     ]
    },
    {
     "name": "stderr",
     "output_type": "stream",
     "text": [
      "Testing: 100%|██████████| 215/215 [00:10<00:00, 20.47it/s]\n"
     ]
    },
    {
     "name": "stdout",
     "output_type": "stream",
     "text": [
      "Test Loss: 1.8737, Accuracy: 64.62%\n"
     ]
    },
    {
     "name": "stderr",
     "output_type": "stream",
     "text": [
      "Epoch 13 - Training: 100%|██████████| 1075/1075 [01:59<00:00,  8.96it/s]\n"
     ]
    },
    {
     "name": "stdout",
     "output_type": "stream",
     "text": [
      "Train Epoch: 13, Loss: 1.8737, Accuracy: 64.78%\n"
     ]
    },
    {
     "name": "stderr",
     "output_type": "stream",
     "text": [
      "Testing: 100%|██████████| 215/215 [00:09<00:00, 22.02it/s]\n"
     ]
    },
    {
     "name": "stdout",
     "output_type": "stream",
     "text": [
      "Test Loss: 1.8591, Accuracy: 66.21%\n"
     ]
    },
    {
     "name": "stderr",
     "output_type": "stream",
     "text": [
      "Epoch 14 - Training: 100%|██████████| 1075/1075 [02:01<00:00,  8.85it/s]\n"
     ]
    },
    {
     "name": "stdout",
     "output_type": "stream",
     "text": [
      "Train Epoch: 14, Loss: 1.8566, Accuracy: 66.70%\n"
     ]
    },
    {
     "name": "stderr",
     "output_type": "stream",
     "text": [
      "Testing: 100%|██████████| 215/215 [00:09<00:00, 21.82it/s]\n"
     ]
    },
    {
     "name": "stdout",
     "output_type": "stream",
     "text": [
      "Test Loss: 1.8429, Accuracy: 68.05%\n"
     ]
    },
    {
     "name": "stderr",
     "output_type": "stream",
     "text": [
      "Epoch 15 - Training: 100%|██████████| 1075/1075 [02:00<00:00,  8.91it/s]\n"
     ]
    },
    {
     "name": "stdout",
     "output_type": "stream",
     "text": [
      "Train Epoch: 15, Loss: 1.8413, Accuracy: 68.45%\n"
     ]
    },
    {
     "name": "stderr",
     "output_type": "stream",
     "text": [
      "Testing: 100%|██████████| 215/215 [00:09<00:00, 21.63it/s]\n"
     ]
    },
    {
     "name": "stdout",
     "output_type": "stream",
     "text": [
      "Test Loss: 1.8274, Accuracy: 69.93%\n"
     ]
    },
    {
     "name": "stderr",
     "output_type": "stream",
     "text": [
      "Epoch 16 - Training: 100%|██████████| 1075/1075 [02:01<00:00,  8.84it/s]\n"
     ]
    },
    {
     "name": "stdout",
     "output_type": "stream",
     "text": [
      "Train Epoch: 16, Loss: 1.8282, Accuracy: 69.94%\n"
     ]
    },
    {
     "name": "stderr",
     "output_type": "stream",
     "text": [
      "Testing: 100%|██████████| 215/215 [00:10<00:00, 21.35it/s]\n"
     ]
    },
    {
     "name": "stdout",
     "output_type": "stream",
     "text": [
      "Test Loss: 1.8154, Accuracy: 71.25%\n"
     ]
    },
    {
     "name": "stderr",
     "output_type": "stream",
     "text": [
      "Epoch 17 - Training: 100%|██████████| 1075/1075 [01:59<00:00,  8.96it/s]\n"
     ]
    },
    {
     "name": "stdout",
     "output_type": "stream",
     "text": [
      "Train Epoch: 17, Loss: 1.8155, Accuracy: 71.42%\n"
     ]
    },
    {
     "name": "stderr",
     "output_type": "stream",
     "text": [
      "Testing: 100%|██████████| 215/215 [00:09<00:00, 21.96it/s]\n"
     ]
    },
    {
     "name": "stdout",
     "output_type": "stream",
     "text": [
      "Test Loss: 1.8200, Accuracy: 70.68%\n"
     ]
    },
    {
     "name": "stderr",
     "output_type": "stream",
     "text": [
      "Epoch 18 - Training: 100%|██████████| 1075/1075 [02:00<00:00,  8.96it/s]\n"
     ]
    },
    {
     "name": "stdout",
     "output_type": "stream",
     "text": [
      "Train Epoch: 18, Loss: 1.8045, Accuracy: 72.67%\n"
     ]
    },
    {
     "name": "stderr",
     "output_type": "stream",
     "text": [
      "Testing: 100%|██████████| 215/215 [00:09<00:00, 21.93it/s]\n"
     ]
    },
    {
     "name": "stdout",
     "output_type": "stream",
     "text": [
      "Test Loss: 1.8189, Accuracy: 70.84%\n"
     ]
    },
    {
     "name": "stderr",
     "output_type": "stream",
     "text": [
      "Epoch 19 - Training: 100%|██████████| 1075/1075 [02:00<00:00,  8.89it/s]\n"
     ]
    },
    {
     "name": "stdout",
     "output_type": "stream",
     "text": [
      "Train Epoch: 19, Loss: 1.7950, Accuracy: 73.77%\n"
     ]
    },
    {
     "name": "stderr",
     "output_type": "stream",
     "text": [
      "Testing: 100%|██████████| 215/215 [00:09<00:00, 22.12it/s]\n"
     ]
    },
    {
     "name": "stdout",
     "output_type": "stream",
     "text": [
      "Test Loss: 1.7865, Accuracy: 74.47%\n"
     ]
    },
    {
     "name": "stderr",
     "output_type": "stream",
     "text": [
      "Epoch 20 - Training: 100%|██████████| 1075/1075 [02:00<00:00,  8.92it/s]\n"
     ]
    },
    {
     "name": "stdout",
     "output_type": "stream",
     "text": [
      "Train Epoch: 20, Loss: 1.7857, Accuracy: 74.82%\n"
     ]
    },
    {
     "name": "stderr",
     "output_type": "stream",
     "text": [
      "Testing: 100%|██████████| 215/215 [00:09<00:00, 21.73it/s]\n"
     ]
    },
    {
     "name": "stdout",
     "output_type": "stream",
     "text": [
      "Test Loss: 1.7812, Accuracy: 75.16%\n"
     ]
    },
    {
     "name": "stderr",
     "output_type": "stream",
     "text": [
      "Epoch 21 - Training: 100%|██████████| 1075/1075 [02:00<00:00,  8.92it/s]\n"
     ]
    },
    {
     "name": "stdout",
     "output_type": "stream",
     "text": [
      "Train Epoch: 21, Loss: 1.7776, Accuracy: 75.76%\n"
     ]
    },
    {
     "name": "stderr",
     "output_type": "stream",
     "text": [
      "Testing: 100%|██████████| 215/215 [00:09<00:00, 21.89it/s]\n"
     ]
    },
    {
     "name": "stdout",
     "output_type": "stream",
     "text": [
      "Test Loss: 1.7815, Accuracy: 75.11%\n"
     ]
    },
    {
     "name": "stderr",
     "output_type": "stream",
     "text": [
      "Epoch 22 - Training: 100%|██████████| 1075/1075 [02:01<00:00,  8.86it/s]\n"
     ]
    },
    {
     "name": "stdout",
     "output_type": "stream",
     "text": [
      "Train Epoch: 22, Loss: 1.7702, Accuracy: 76.59%\n"
     ]
    },
    {
     "name": "stderr",
     "output_type": "stream",
     "text": [
      "Testing: 100%|██████████| 215/215 [00:09<00:00, 21.97it/s]\n"
     ]
    },
    {
     "name": "stdout",
     "output_type": "stream",
     "text": [
      "Test Loss: 1.7734, Accuracy: 75.94%\n"
     ]
    },
    {
     "name": "stderr",
     "output_type": "stream",
     "text": [
      "Epoch 23 - Training: 100%|██████████| 1075/1075 [02:01<00:00,  8.87it/s]\n"
     ]
    },
    {
     "name": "stdout",
     "output_type": "stream",
     "text": [
      "Train Epoch: 23, Loss: 1.7628, Accuracy: 77.45%\n"
     ]
    },
    {
     "name": "stderr",
     "output_type": "stream",
     "text": [
      "Testing: 100%|██████████| 215/215 [00:09<00:00, 21.93it/s]\n"
     ]
    },
    {
     "name": "stdout",
     "output_type": "stream",
     "text": [
      "Test Loss: 1.7664, Accuracy: 76.82%\n"
     ]
    },
    {
     "name": "stderr",
     "output_type": "stream",
     "text": [
      "Epoch 24 - Training: 100%|██████████| 1075/1075 [01:59<00:00,  8.98it/s]\n"
     ]
    },
    {
     "name": "stdout",
     "output_type": "stream",
     "text": [
      "Train Epoch: 24, Loss: 1.7563, Accuracy: 78.21%\n"
     ]
    },
    {
     "name": "stderr",
     "output_type": "stream",
     "text": [
      "Testing: 100%|██████████| 215/215 [00:10<00:00, 21.45it/s]\n"
     ]
    },
    {
     "name": "stdout",
     "output_type": "stream",
     "text": [
      "Test Loss: 1.7620, Accuracy: 77.26%\n"
     ]
    },
    {
     "name": "stderr",
     "output_type": "stream",
     "text": [
      "Epoch 25 - Training: 100%|██████████| 1075/1075 [01:59<00:00,  9.00it/s]\n"
     ]
    },
    {
     "name": "stdout",
     "output_type": "stream",
     "text": [
      "Train Epoch: 25, Loss: 1.7504, Accuracy: 78.86%\n"
     ]
    },
    {
     "name": "stderr",
     "output_type": "stream",
     "text": [
      "Testing: 100%|██████████| 215/215 [00:09<00:00, 21.77it/s]\n"
     ]
    },
    {
     "name": "stdout",
     "output_type": "stream",
     "text": [
      "Test Loss: 1.7569, Accuracy: 77.95%\n"
     ]
    },
    {
     "name": "stderr",
     "output_type": "stream",
     "text": [
      "Epoch 26 - Training: 100%|██████████| 1075/1075 [02:00<00:00,  8.92it/s]\n"
     ]
    },
    {
     "name": "stdout",
     "output_type": "stream",
     "text": [
      "Train Epoch: 26, Loss: 1.7444, Accuracy: 79.54%\n"
     ]
    },
    {
     "name": "stderr",
     "output_type": "stream",
     "text": [
      "Testing: 100%|██████████| 215/215 [00:09<00:00, 21.69it/s]\n"
     ]
    },
    {
     "name": "stdout",
     "output_type": "stream",
     "text": [
      "Test Loss: 1.7587, Accuracy: 77.68%\n"
     ]
    },
    {
     "name": "stderr",
     "output_type": "stream",
     "text": [
      "Epoch 27 - Training: 100%|██████████| 1075/1075 [02:01<00:00,  8.86it/s]\n"
     ]
    },
    {
     "name": "stdout",
     "output_type": "stream",
     "text": [
      "Train Epoch: 27, Loss: 1.7390, Accuracy: 80.15%\n"
     ]
    },
    {
     "name": "stderr",
     "output_type": "stream",
     "text": [
      "Testing: 100%|██████████| 215/215 [00:09<00:00, 21.58it/s]\n"
     ]
    },
    {
     "name": "stdout",
     "output_type": "stream",
     "text": [
      "Test Loss: 1.7515, Accuracy: 78.51%\n"
     ]
    },
    {
     "name": "stderr",
     "output_type": "stream",
     "text": [
      "Epoch 28 - Training: 100%|██████████| 1075/1075 [02:00<00:00,  8.94it/s]\n"
     ]
    },
    {
     "name": "stdout",
     "output_type": "stream",
     "text": [
      "Train Epoch: 28, Loss: 1.7331, Accuracy: 80.84%\n"
     ]
    },
    {
     "name": "stderr",
     "output_type": "stream",
     "text": [
      "Testing: 100%|██████████| 215/215 [00:09<00:00, 21.95it/s]\n"
     ]
    },
    {
     "name": "stdout",
     "output_type": "stream",
     "text": [
      "Test Loss: 1.7482, Accuracy: 78.92%\n"
     ]
    },
    {
     "name": "stderr",
     "output_type": "stream",
     "text": [
      "Epoch 29 - Training: 100%|██████████| 1075/1075 [02:02<00:00,  8.80it/s]\n"
     ]
    },
    {
     "name": "stdout",
     "output_type": "stream",
     "text": [
      "Train Epoch: 29, Loss: 1.7284, Accuracy: 81.38%\n"
     ]
    },
    {
     "name": "stderr",
     "output_type": "stream",
     "text": [
      "Testing: 100%|██████████| 215/215 [00:09<00:00, 21.55it/s]\n"
     ]
    },
    {
     "name": "stdout",
     "output_type": "stream",
     "text": [
      "Test Loss: 1.7454, Accuracy: 79.21%\n"
     ]
    },
    {
     "name": "stderr",
     "output_type": "stream",
     "text": [
      "Epoch 30 - Training: 100%|██████████| 1075/1075 [01:59<00:00,  9.00it/s]\n"
     ]
    },
    {
     "name": "stdout",
     "output_type": "stream",
     "text": [
      "Train Epoch: 30, Loss: 1.7233, Accuracy: 81.96%\n"
     ]
    },
    {
     "name": "stderr",
     "output_type": "stream",
     "text": [
      "Testing: 100%|██████████| 215/215 [00:09<00:00, 22.26it/s]\n"
     ]
    },
    {
     "name": "stdout",
     "output_type": "stream",
     "text": [
      "Test Loss: 1.7391, Accuracy: 79.95%\n"
     ]
    },
    {
     "name": "stderr",
     "output_type": "stream",
     "text": [
      "Epoch 31 - Training: 100%|██████████| 1075/1075 [01:59<00:00,  9.03it/s]\n"
     ]
    },
    {
     "name": "stdout",
     "output_type": "stream",
     "text": [
      "Train Epoch: 31, Loss: 1.7188, Accuracy: 82.49%\n"
     ]
    },
    {
     "name": "stderr",
     "output_type": "stream",
     "text": [
      "Testing: 100%|██████████| 215/215 [00:09<00:00, 22.01it/s]\n"
     ]
    },
    {
     "name": "stdout",
     "output_type": "stream",
     "text": [
      "Test Loss: 1.7347, Accuracy: 80.42%\n"
     ]
    },
    {
     "name": "stderr",
     "output_type": "stream",
     "text": [
      "Epoch 32 - Training: 100%|██████████| 1075/1075 [01:58<00:00,  9.04it/s]\n"
     ]
    },
    {
     "name": "stdout",
     "output_type": "stream",
     "text": [
      "Train Epoch: 32, Loss: 1.7140, Accuracy: 83.02%\n"
     ]
    },
    {
     "name": "stderr",
     "output_type": "stream",
     "text": [
      "Testing: 100%|██████████| 215/215 [00:09<00:00, 22.18it/s]\n"
     ]
    },
    {
     "name": "stdout",
     "output_type": "stream",
     "text": [
      "Test Loss: 1.7364, Accuracy: 80.20%\n"
     ]
    },
    {
     "name": "stderr",
     "output_type": "stream",
     "text": [
      "Epoch 33 - Training: 100%|██████████| 1075/1075 [02:00<00:00,  8.94it/s]\n"
     ]
    },
    {
     "name": "stdout",
     "output_type": "stream",
     "text": [
      "Train Epoch: 33, Loss: 1.7099, Accuracy: 83.51%\n"
     ]
    },
    {
     "name": "stderr",
     "output_type": "stream",
     "text": [
      "Testing: 100%|██████████| 215/215 [00:10<00:00, 20.88it/s]\n"
     ]
    },
    {
     "name": "stdout",
     "output_type": "stream",
     "text": [
      "Test Loss: 1.7305, Accuracy: 80.89%\n"
     ]
    },
    {
     "name": "stderr",
     "output_type": "stream",
     "text": [
      "Epoch 34 - Training: 100%|██████████| 1075/1075 [02:01<00:00,  8.85it/s]\n"
     ]
    },
    {
     "name": "stdout",
     "output_type": "stream",
     "text": [
      "Train Epoch: 34, Loss: 1.7059, Accuracy: 83.96%\n"
     ]
    },
    {
     "name": "stderr",
     "output_type": "stream",
     "text": [
      "Testing: 100%|██████████| 215/215 [00:10<00:00, 21.50it/s]\n"
     ]
    },
    {
     "name": "stdout",
     "output_type": "stream",
     "text": [
      "Test Loss: 1.7296, Accuracy: 80.98%\n"
     ]
    },
    {
     "name": "stderr",
     "output_type": "stream",
     "text": [
      "Epoch 35 - Training: 100%|██████████| 1075/1075 [01:59<00:00,  8.97it/s]\n"
     ]
    },
    {
     "name": "stdout",
     "output_type": "stream",
     "text": [
      "Train Epoch: 35, Loss: 1.7012, Accuracy: 84.51%\n"
     ]
    },
    {
     "name": "stderr",
     "output_type": "stream",
     "text": [
      "Testing: 100%|██████████| 215/215 [00:10<00:00, 20.52it/s]\n"
     ]
    },
    {
     "name": "stdout",
     "output_type": "stream",
     "text": [
      "Test Loss: 1.7271, Accuracy: 81.30%\n"
     ]
    },
    {
     "name": "stderr",
     "output_type": "stream",
     "text": [
      "Epoch 36 - Training: 100%|██████████| 1075/1075 [02:00<00:00,  8.95it/s]\n"
     ]
    },
    {
     "name": "stdout",
     "output_type": "stream",
     "text": [
      "Train Epoch: 36, Loss: 1.6977, Accuracy: 84.91%\n"
     ]
    },
    {
     "name": "stderr",
     "output_type": "stream",
     "text": [
      "Testing: 100%|██████████| 215/215 [00:09<00:00, 21.87it/s]\n"
     ]
    },
    {
     "name": "stdout",
     "output_type": "stream",
     "text": [
      "Test Loss: 1.7255, Accuracy: 81.50%\n"
     ]
    },
    {
     "name": "stderr",
     "output_type": "stream",
     "text": [
      "Epoch 37 - Training: 100%|██████████| 1075/1075 [02:00<00:00,  8.93it/s]\n"
     ]
    },
    {
     "name": "stdout",
     "output_type": "stream",
     "text": [
      "Train Epoch: 37, Loss: 1.6935, Accuracy: 85.37%\n"
     ]
    },
    {
     "name": "stderr",
     "output_type": "stream",
     "text": [
      "Testing: 100%|██████████| 215/215 [00:09<00:00, 22.04it/s]\n"
     ]
    },
    {
     "name": "stdout",
     "output_type": "stream",
     "text": [
      "Test Loss: 1.7213, Accuracy: 81.90%\n"
     ]
    },
    {
     "name": "stderr",
     "output_type": "stream",
     "text": [
      "Epoch 38 - Training: 100%|██████████| 1075/1075 [02:00<00:00,  8.95it/s]\n"
     ]
    },
    {
     "name": "stdout",
     "output_type": "stream",
     "text": [
      "Train Epoch: 38, Loss: 1.6897, Accuracy: 85.80%\n"
     ]
    },
    {
     "name": "stderr",
     "output_type": "stream",
     "text": [
      "Testing: 100%|██████████| 215/215 [00:10<00:00, 21.44it/s]\n"
     ]
    },
    {
     "name": "stdout",
     "output_type": "stream",
     "text": [
      "Test Loss: 1.7185, Accuracy: 82.25%\n"
     ]
    },
    {
     "name": "stderr",
     "output_type": "stream",
     "text": [
      "Epoch 39 - Training: 100%|██████████| 1075/1075 [02:00<00:00,  8.94it/s]\n"
     ]
    },
    {
     "name": "stdout",
     "output_type": "stream",
     "text": [
      "Train Epoch: 39, Loss: 1.6864, Accuracy: 86.21%\n"
     ]
    },
    {
     "name": "stderr",
     "output_type": "stream",
     "text": [
      "Testing: 100%|██████████| 215/215 [00:09<00:00, 21.71it/s]\n"
     ]
    },
    {
     "name": "stdout",
     "output_type": "stream",
     "text": [
      "Test Loss: 1.7152, Accuracy: 82.62%\n"
     ]
    },
    {
     "name": "stderr",
     "output_type": "stream",
     "text": [
      "Epoch 40 - Training: 100%|██████████| 1075/1075 [01:59<00:00,  9.03it/s]\n"
     ]
    },
    {
     "name": "stdout",
     "output_type": "stream",
     "text": [
      "Train Epoch: 40, Loss: 1.6826, Accuracy: 86.62%\n"
     ]
    },
    {
     "name": "stderr",
     "output_type": "stream",
     "text": [
      "Testing: 100%|██████████| 215/215 [00:09<00:00, 22.22it/s]\n"
     ]
    },
    {
     "name": "stdout",
     "output_type": "stream",
     "text": [
      "Test Loss: 1.7155, Accuracy: 82.59%\n"
     ]
    },
    {
     "name": "stderr",
     "output_type": "stream",
     "text": [
      "Epoch 41 - Training: 100%|██████████| 1075/1075 [01:59<00:00,  8.99it/s]\n"
     ]
    },
    {
     "name": "stdout",
     "output_type": "stream",
     "text": [
      "Train Epoch: 41, Loss: 1.6796, Accuracy: 86.97%\n"
     ]
    },
    {
     "name": "stderr",
     "output_type": "stream",
     "text": [
      "Testing: 100%|██████████| 215/215 [00:09<00:00, 22.09it/s]\n"
     ]
    },
    {
     "name": "stdout",
     "output_type": "stream",
     "text": [
      "Test Loss: 1.7142, Accuracy: 82.73%\n"
     ]
    },
    {
     "name": "stderr",
     "output_type": "stream",
     "text": [
      "Epoch 42 - Training: 100%|██████████| 1075/1075 [01:59<00:00,  9.01it/s]\n"
     ]
    },
    {
     "name": "stdout",
     "output_type": "stream",
     "text": [
      "Train Epoch: 42, Loss: 1.6762, Accuracy: 87.36%\n"
     ]
    },
    {
     "name": "stderr",
     "output_type": "stream",
     "text": [
      "Testing: 100%|██████████| 215/215 [00:09<00:00, 22.33it/s]\n"
     ]
    },
    {
     "name": "stdout",
     "output_type": "stream",
     "text": [
      "Test Loss: 1.7114, Accuracy: 83.09%\n"
     ]
    },
    {
     "name": "stderr",
     "output_type": "stream",
     "text": [
      "Epoch 43 - Training: 100%|██████████| 1075/1075 [01:59<00:00,  9.03it/s]\n"
     ]
    },
    {
     "name": "stdout",
     "output_type": "stream",
     "text": [
      "Train Epoch: 43, Loss: 1.6733, Accuracy: 87.67%\n"
     ]
    },
    {
     "name": "stderr",
     "output_type": "stream",
     "text": [
      "Testing: 100%|██████████| 215/215 [00:09<00:00, 22.05it/s]\n"
     ]
    },
    {
     "name": "stdout",
     "output_type": "stream",
     "text": [
      "Test Loss: 1.7123, Accuracy: 82.97%\n"
     ]
    },
    {
     "name": "stderr",
     "output_type": "stream",
     "text": [
      "Epoch 44 - Training: 100%|██████████| 1075/1075 [01:59<00:00,  8.99it/s]\n"
     ]
    },
    {
     "name": "stdout",
     "output_type": "stream",
     "text": [
      "Train Epoch: 44, Loss: 1.6706, Accuracy: 88.01%\n"
     ]
    },
    {
     "name": "stderr",
     "output_type": "stream",
     "text": [
      "Testing: 100%|██████████| 215/215 [00:09<00:00, 22.11it/s]\n"
     ]
    },
    {
     "name": "stdout",
     "output_type": "stream",
     "text": [
      "Test Loss: 1.7087, Accuracy: 83.39%\n"
     ]
    },
    {
     "name": "stderr",
     "output_type": "stream",
     "text": [
      "Epoch 45 - Training: 100%|██████████| 1075/1075 [01:58<00:00,  9.04it/s]\n"
     ]
    },
    {
     "name": "stdout",
     "output_type": "stream",
     "text": [
      "Train Epoch: 45, Loss: 1.6687, Accuracy: 88.19%\n"
     ]
    },
    {
     "name": "stderr",
     "output_type": "stream",
     "text": [
      "Testing: 100%|██████████| 215/215 [00:09<00:00, 21.98it/s]\n"
     ]
    },
    {
     "name": "stdout",
     "output_type": "stream",
     "text": [
      "Test Loss: 1.7085, Accuracy: 83.38%\n"
     ]
    },
    {
     "name": "stderr",
     "output_type": "stream",
     "text": [
      "Epoch 46 - Training: 100%|██████████| 1075/1075 [01:58<00:00,  9.05it/s]\n"
     ]
    },
    {
     "name": "stdout",
     "output_type": "stream",
     "text": [
      "Train Epoch: 46, Loss: 1.6665, Accuracy: 88.43%\n"
     ]
    },
    {
     "name": "stderr",
     "output_type": "stream",
     "text": [
      "Testing: 100%|██████████| 215/215 [00:10<00:00, 20.80it/s]\n"
     ]
    },
    {
     "name": "stdout",
     "output_type": "stream",
     "text": [
      "Test Loss: 1.7078, Accuracy: 83.48%\n"
     ]
    },
    {
     "name": "stderr",
     "output_type": "stream",
     "text": [
      "Epoch 47 - Training: 100%|██████████| 1075/1075 [01:58<00:00,  9.06it/s]\n"
     ]
    },
    {
     "name": "stdout",
     "output_type": "stream",
     "text": [
      "Train Epoch: 47, Loss: 1.6649, Accuracy: 88.64%\n"
     ]
    },
    {
     "name": "stderr",
     "output_type": "stream",
     "text": [
      "Testing: 100%|██████████| 215/215 [00:09<00:00, 22.19it/s]\n"
     ]
    },
    {
     "name": "stdout",
     "output_type": "stream",
     "text": [
      "Test Loss: 1.7071, Accuracy: 83.54%\n"
     ]
    },
    {
     "name": "stderr",
     "output_type": "stream",
     "text": [
      "Epoch 48 - Training: 100%|██████████| 1075/1075 [01:59<00:00,  9.01it/s]\n"
     ]
    },
    {
     "name": "stdout",
     "output_type": "stream",
     "text": [
      "Train Epoch: 48, Loss: 1.6635, Accuracy: 88.81%\n"
     ]
    },
    {
     "name": "stderr",
     "output_type": "stream",
     "text": [
      "Testing: 100%|██████████| 215/215 [00:09<00:00, 22.24it/s]\n"
     ]
    },
    {
     "name": "stdout",
     "output_type": "stream",
     "text": [
      "Test Loss: 1.7064, Accuracy: 83.62%\n"
     ]
    },
    {
     "name": "stderr",
     "output_type": "stream",
     "text": [
      "Epoch 49 - Training: 100%|██████████| 1075/1075 [01:58<00:00,  9.05it/s]\n"
     ]
    },
    {
     "name": "stdout",
     "output_type": "stream",
     "text": [
      "Train Epoch: 49, Loss: 1.6629, Accuracy: 88.86%\n"
     ]
    },
    {
     "name": "stderr",
     "output_type": "stream",
     "text": [
      "Testing: 100%|██████████| 215/215 [00:09<00:00, 22.08it/s]\n"
     ]
    },
    {
     "name": "stdout",
     "output_type": "stream",
     "text": [
      "Test Loss: 1.7060, Accuracy: 83.71%\n"
     ]
    },
    {
     "name": "stderr",
     "output_type": "stream",
     "text": [
      "Epoch 50 - Training: 100%|██████████| 1075/1075 [01:58<00:00,  9.06it/s]\n"
     ]
    },
    {
     "name": "stdout",
     "output_type": "stream",
     "text": [
      "Train Epoch: 50, Loss: 1.6628, Accuracy: 88.89%\n"
     ]
    },
    {
     "name": "stderr",
     "output_type": "stream",
     "text": [
      "Testing: 100%|██████████| 215/215 [00:09<00:00, 22.25it/s]\n"
     ]
    },
    {
     "name": "stdout",
     "output_type": "stream",
     "text": [
      "Test Loss: 1.7062, Accuracy: 83.68%\n"
     ]
    },
    {
     "name": "stderr",
     "output_type": "stream",
     "text": [
      "Loading CIFAR-10 images and applying transformations: 100%|██████████| 10000/10000 [00:02<00:00, 4102.01image/s]\n",
      "Testing: 100%|██████████| 40/40 [00:02<00:00, 19.39it/s]\n"
     ]
    },
    {
     "name": "stdout",
     "output_type": "stream",
     "text": [
      "Test Loss: 1.6509, Accuracy: 90.05%\n"
     ]
    }
   ],
   "source": [
    "n_epochs = 50\n",
    "\n",
    "base_optimizer = optim.SGD(model.parameters(), lr=0.1,\n",
    "                          momentum=0.95, nesterov=True,\n",
    "                          weight_decay=4e-5)\n",
    "optimizer = Lookahead(base_optimizer, k=5, alpha=0.8)\n",
    "\n",
    "scheduler = optim.lr_scheduler.OneCycleLR(optimizer, \n",
    "                                        max_lr=0.1,\n",
    "                                        total_steps=n_epochs *len(train_loader),\n",
    "                                        pct_start=0.25,\n",
    "                                        anneal_strategy='cos')\n",
    "\n",
    "scaler = GradScaler('cuda')\n",
    "\n",
    "train_losses = []\n",
    "train_accuracies = []\n",
    "test_losses = []\n",
    "test_accuracies = []\n",
    "\n",
    "class SmoothCrossEntropy(nn.Module):\n",
    "    def __init__(self, smoothing=0.1):\n",
    "        super().__init__()\n",
    "        self.smoothing = smoothing\n",
    "        self.confidence = 1.0 - smoothing\n",
    "    \n",
    "    def forward(self, outputs, targets):\n",
    "        num_classes = outputs.size(-1)\n",
    "        log_preds = F.log_softmax(outputs, dim=-1)\n",
    "        true_dist = torch.zeros_like(log_preds)\n",
    "        true_dist.fill_(self.smoothing / (num_classes - 1))\n",
    "        true_dist.scatter_(1, targets.data.unsqueeze(1), self.confidence)\n",
    "        return torch.mean(-torch.sum(true_dist * log_preds, dim=-1))\n",
    "\n",
    "criterion = SmoothCrossEntropy(smoothing=0.1)\n",
    "\n",
    "def test(model, test_loader, criterion, device):\n",
    "    model.eval()\n",
    "    running_loss = 0.0\n",
    "    correct = 0\n",
    "    total = 0\n",
    "\n",
    "    with torch.no_grad():\n",
    "        for inputs, labels in tqdm(test_loader, desc=\"Testing\"):\n",
    "            inputs, labels = inputs.to(device), labels.to(device)\n",
    "\n",
    "            outputs = model(inputs)\n",
    "            loss = criterion(outputs, labels)\n",
    "\n",
    "            running_loss += loss.item()\n",
    "\n",
    "            _, predicted = torch.max(outputs, 1)\n",
    "            total += labels.size(0)\n",
    "            correct += (predicted == labels).sum().item()\n",
    "\n",
    "    avg_loss = running_loss / len(test_loader)\n",
    "    accuracy = 100 * correct / total\n",
    "    print(f\"Test Loss: {avg_loss:.4f}, Accuracy: {accuracy:.2f}%\")\n",
    "    \n",
    "    return avg_loss, accuracy\n",
    "\n",
    "def train(model, train_loader, optimizer, criterion, scheduler, scaler, epoch, device):\n",
    "    model.train()\n",
    "    running_loss = 0.0\n",
    "    correct = 0\n",
    "    total = 0\n",
    "    \n",
    "    for inputs, targets in tqdm(train_loader, desc=f\"Epoch {epoch} - Training\"):\n",
    "        inputs, targets = inputs.to('cuda'), targets.to('cuda')\n",
    "        \n",
    "        with autocast('cuda'):\n",
    "            outputs = model(inputs)\n",
    "            loss = criterion(outputs, targets)\n",
    "        \n",
    "        optimizer.zero_grad(set_to_none=True)\n",
    "        scaler.scale(loss).backward()\n",
    "        scaler.unscale_(optimizer)\n",
    "        clip_grad_norm_(model.parameters(), 0.1)\n",
    "        \n",
    "        scaler.step(optimizer)\n",
    "        scaler.update()\n",
    "        scheduler.step()\n",
    "        \n",
    "        running_loss += loss.item()\n",
    "        _, predicted = outputs.max(1)\n",
    "        total += targets.size(0)\n",
    "        correct += predicted.eq(targets).sum().item()\n",
    "    \n",
    "    avg_loss = running_loss / len(train_loader)\n",
    "    accuracy = 100 * correct / total\n",
    "    print(f\"Train Epoch: {epoch}, Loss: {avg_loss:.4f}, Accuracy: {accuracy:.2f}%\")\n",
    "    \n",
    "    return avg_loss, accuracy\n",
    "    \n",
    "prev_acc = 0.0\n",
    "_, best_acc = test(model, test_loader, criterion, device)\n",
    "count = 0\n",
    "for epoch in range(n_epochs):\n",
    "    train_loss, train_accuracy = train(model, train_loader, optimizer, criterion, scheduler, scaler, epoch+1, device)\n",
    "    test_loss, test_accuracy = test(model, test_loader, criterion, device)\n",
    "    \n",
    "    train_losses.append(train_loss)\n",
    "    train_accuracies.append(train_accuracy)\n",
    "    test_losses.append(test_loss)\n",
    "    test_accuracies.append(test_accuracy)\n",
    "    \n",
    "    if(test_accuracy - prev_acc < 0.1):\n",
    "        count+=1\n",
    "        if(count>8):\n",
    "            break\n",
    "    else:\n",
    "        count = 0\n",
    "\n",
    "    if best_acc <= test_accuracy:\n",
    "        best_acc = test_accuracy\n",
    "        torch.save(model.state_dict(), 'MWT_best.pth')\n",
    "    prev_acc = test_accuracy\n",
    "\n",
    "\n",
    "test_dataset_og = CIFAR10Dataset(test_images, test_labels, transform=base_transform, transformations=None)\n",
    "test_loader_og = DataLoader(test_dataset_og, batch_size=256, shuffle=False, num_workers=4, pin_memory=True)\n",
    "\n",
    "test(model, test_loader_og, criterion, device)\n",
    "\n",
    "torch.save(model.state_dict(), 'MWT.pth')"
   ]
  },
  {
   "cell_type": "code",
   "execution_count": 17,
   "id": "52ebb3ae-b64f-406d-b507-6fd2896da6e3",
   "metadata": {},
   "outputs": [
    {
     "data": {
      "image/png": "[encoded data removed]",
      "text/plain": [
       "<Figure size 1200x600 with 2 Axes>"
      ]
     },
     "metadata": {},
     "output_type": "display_data"
    }
   ],
   "source": [
    "plt.figure(figsize=(12, 6))\n",
    "plt.subplot(1, 2, 1)\n",
    "plt.plot(range(1, n_epochs + 1), train_losses, label='Train Loss')\n",
    "plt.plot(range(1, n_epochs + 1), test_losses, label='Test Loss')\n",
    "plt.xlabel('Epochs')\n",
    "plt.ylabel('Loss')\n",
    "plt.legend()\n",
    "plt.title('Training and Test Loss')\n",
    "\n",
    "# Plot training and test accuracy\n",
    "plt.subplot(1, 2, 2)\n",
    "plt.plot(range(1, n_epochs + 1), train_accuracies, label='Train Accuracy')\n",
    "plt.plot(range(1, n_epochs + 1), test_accuracies, label='Test Accuracy')\n",
    "plt.xlabel('Epochs')\n",
    "plt.ylabel('Accuracy (%)')\n",
    "plt.legend()\n",
    "plt.title('Training and Test Accuracy')\n",
    "\n",
    "# Save the plot\n",
    "plt.tight_layout()\n",
    "plt.savefig('training_test_plot.png')\n",
    "plt.show()"
   ]
  },
  {
   "cell_type": "markdown",
   "id": "bf62ed7d",
   "metadata": {},
   "source": [
    "### Hyperparameter Tuning with Optuna\n",
    "\n",
    "In order to optimize the performance of the ResNet model, **Optuna** is used to tune key hyperparameters, such as learning rate (`lr`) and weight decay (`weight_decay`).\n",
    "\n",
    "The objective of the tuning process is to maximize the test accuracy by selecting the best combination of hyperparameters.\n",
    "\n",
    "1. **Trial Setup**: \n",
    "   - **Optuna** is set to perform 5 trials (defined by `n_trials=5`).\n",
    "   - For each trial, the `objective` function defines the model, optimizer, and learning rate scheduler setup. The model is trained and evaluated for each set of hyperparameters.\n",
    "   \n",
    "2. **Hyperparameter Search Space**: \n",
    "   - The learning rate (`lr`) is sampled from a log scale between `1e-6` and `1e-2`.\n",
    "   - The weight decay (`weight_decay`) is sampled from a log scale between `1e-6` and `1e-4`.\n",
    "   - **Logarithmic Sampling**: Both hyperparameters are sampled using a logarithmic scale to explore a wide range of values efficiently.\n",
    "\n",
    "3. **Training**: \n",
    "   - In each trial, the model is instantiated and moved to the GPU if available. It is then trained using the `train` function, which evaluates the model's accuracy on the training dataset.\n",
    "   - The **SGD optimizer** is used with the suggested learning rate and weight decay values.\n",
    "   - **OneCycleLR** scheduler is used for dynamically adjusting the learning rate during training.\n",
    "\n",
    "4. **Objective Function**: \n",
    "   - The objective function returns the negative of the training accuracy (`-train_accuracy`) since Optuna minimizes the objective function by default.\n",
    "   - The higher the training accuracy, the lower the negative value, thus Optuna tries to maximize the accuracy over multiple trials.\n",
    "\n",
    "5. **Study Optimization**: \n",
    "   - The Optuna study is created with `direction='minimize'`, as we are minimizing the negative training accuracy to maximize the actual accuracy.\n",
    "   - The optimization process runs for `n_trials` trials, after which the best set of hyperparameters is printed.\n",
    "\n",
    "After completing the optimization process, the best hyperparameters are selected based on the best trial. The result is printed, showing the optimal learning rate and weight decay values found by Optuna.\n",
    "\n"
   ]
  },
  {
   "cell_type": "code",
   "execution_count": 18,
   "id": "87324b06-c476-441d-9506-5e92a37580d3",
   "metadata": {},
   "outputs": [
    {
     "name": "stderr",
     "output_type": "stream",
     "text": [
      "Loading CIFAR-10 images and applying transformations: 100%|██████████| 50000/50000 [00:11<00:00, 4193.71image/s]\n",
      "[I 2025-03-14 16:49:59,076] A new study created in memory with name: no-name-f0fc8dcf-5f1c-4727-a9f0-1c04089e296d\n"
     ]
    },
    {
     "name": "stdout",
     "output_type": "stream",
     "text": [
      "Using 2 GPUs!\n"
     ]
    },
    {
     "name": "stderr",
     "output_type": "stream",
     "text": [
      "Epoch 1 - Training: 100%|██████████| 1075/1075 [01:57<00:00,  9.13it/s]\n",
      "[I 2025-03-14 16:51:57,134] Trial 0 finished with value: -88.88854545454545 and parameters: {'lr': 1.0743992953323858e-05, 'weight_decay': 1.0809527378124711e-06}. Best is trial 0 with value: -88.88854545454545.\n"
     ]
    },
    {
     "name": "stdout",
     "output_type": "stream",
     "text": [
      "Train Epoch: 1, Loss: 1.6628, Accuracy: 88.89%\n",
      "Using 2 GPUs!\n"
     ]
    },
    {
     "name": "stderr",
     "output_type": "stream",
     "text": [
      "Epoch 1 - Training: 100%|██████████| 1075/1075 [01:58<00:00,  9.09it/s]\n",
      "[I 2025-03-14 16:53:55,577] Trial 1 finished with value: -88.89254545454546 and parameters: {'lr': 8.495936666004781e-05, 'weight_decay': 8.47159070005704e-05}. Best is trial 1 with value: -88.89254545454546.\n"
     ]
    },
    {
     "name": "stdout",
     "output_type": "stream",
     "text": [
      "Train Epoch: 1, Loss: 1.6627, Accuracy: 88.89%\n",
      "Using 2 GPUs!\n"
     ]
    },
    {
     "name": "stderr",
     "output_type": "stream",
     "text": [
      "Epoch 1 - Training: 100%|██████████| 1075/1075 [01:57<00:00,  9.19it/s]\n",
      "[I 2025-03-14 16:55:52,740] Trial 2 finished with value: -88.7669090909091 and parameters: {'lr': 0.009502940692724561, 'weight_decay': 2.979417201753185e-05}. Best is trial 1 with value: -88.89254545454546.\n"
     ]
    },
    {
     "name": "stdout",
     "output_type": "stream",
     "text": [
      "Train Epoch: 1, Loss: 1.6640, Accuracy: 88.77%\n",
      "Using 2 GPUs!\n"
     ]
    },
    {
     "name": "stderr",
     "output_type": "stream",
     "text": [
      "Epoch 1 - Training: 100%|██████████| 1075/1075 [01:57<00:00,  9.12it/s]\n",
      "[I 2025-03-14 16:57:50,817] Trial 3 finished with value: -88.88872727272727 and parameters: {'lr': 3.656187835694332e-05, 'weight_decay': 8.190385071947099e-05}. Best is trial 1 with value: -88.89254545454546.\n"
     ]
    },
    {
     "name": "stdout",
     "output_type": "stream",
     "text": [
      "Train Epoch: 1, Loss: 1.6629, Accuracy: 88.89%\n",
      "Using 2 GPUs!\n"
     ]
    },
    {
     "name": "stderr",
     "output_type": "stream",
     "text": [
      "Epoch 1 - Training: 100%|██████████| 1075/1075 [01:57<00:00,  9.17it/s]\n",
      "[I 2025-03-14 16:59:48,210] Trial 4 finished with value: -88.89072727272728 and parameters: {'lr': 9.70729785070661e-05, 'weight_decay': 1.5230963880827706e-05}. Best is trial 1 with value: -88.89254545454546.\n"
     ]
    },
    {
     "name": "stdout",
     "output_type": "stream",
     "text": [
      "Train Epoch: 1, Loss: 1.6626, Accuracy: 88.89%\n",
      "Best trial: {'lr': 8.495936666004781e-05, 'weight_decay': 8.47159070005704e-05}\n"
     ]
    }
   ],
   "source": [
    "import optuna\n",
    "\n",
    "n_trials=5\n",
    "\n",
    "train_dataset_og = CIFAR10Dataset(train_images, train_labels, transform=base_transform, transformations=None)\n",
    "train_loader_og = DataLoader(test_dataset_og, batch_size=256, shuffle=False, num_workers=4, pin_memory=True)\n",
    "\n",
    "def objective(trial):\n",
    "    model = ResNet()\n",
    "    device = torch.device(\"cuda\" if torch.cuda.is_available() else \"cpu\")\n",
    "    model = model.to(device)\n",
    "    if torch.cuda.device_count() > 1:\n",
    "        print(f\"Using {torch.cuda.device_count()} GPUs!\")\n",
    "        model = nn.DataParallel(model)\n",
    "        model = model.to(device)\n",
    "        model.load_state_dict(torch.load('MWT_best.pth'))\n",
    "    else:\n",
    "        model = model.to(device)\n",
    "        model.load_state_dict(torch.load('MWT_best.pth'))\n",
    "    \n",
    "    lr = trial.suggest_float('lr', 1e-6, 1e-2, log=True)\n",
    "    weight_decay = trial.suggest_float('weight_decay', 1e-6, 1e-4, log=True)\n",
    "    \n",
    "    optimizer = optim.SGD(model.parameters(), lr=lr, momentum=0.9, weight_decay=weight_decay)\n",
    "    scheduler = optim.lr_scheduler.OneCycleLR(optimizer, max_lr=lr, total_steps=n_trials*len(train_loader), pct_start=0.25, anneal_strategy='cos')\n",
    "\n",
    "    train_loss, train_accuracy = train(model, train_loader, optimizer, criterion, scheduler, scaler, epoch=1, device=device)\n",
    "    \n",
    "    return -train_accuracy\n",
    "\n",
    "study = optuna.create_study(direction='minimize')\n",
    "study.optimize(objective, n_trials=n_trials)\n",
    "print(f\"Best trial: {study.best_trial.params}\")"
   ]
  },
  {
   "cell_type": "markdown",
   "id": "0a633c29",
   "metadata": {},
   "source": [
    "### Fine-tuning the Model with Optimized Hyperparameters\n",
    "\n",
    "After hyperparameter optimization using **Optuna**, the following best hyperparameters were found:\n",
    "- **Learning Rate (lr)**: `0.0003288607483607313`\n",
    "- **Weight Decay**: `9.941679680182543e-05`\n",
    "\n",
    "These hyperparameters are then used to fine-tune the pre-trained ResNet model.\n",
    "\n",
    "1. **Model Setup**:\n",
    "   - A new **ResNet model** is initialized.\n",
    "   - The model is loaded onto the GPU if available.\n",
    "   - The model weights from the best saved checkpoint (`MWT_best.pth`) are loaded to resume training from the best checkpoint.\n",
    "\n",
    "2. **Optimizer and Scheduler**:\n",
    "   - **Optimizer**: **SGD** with the learned learning rate and weight decay values.\n",
    "   - **Learning Rate Scheduler**: **OneCycleLR** is used for dynamic learning rate scheduling during fine-tuning.\n",
    "   - This scheduler adjusts the learning rate in a cyclical manner, improving convergence and allowing the model to learn at different learning rates during training.\n",
    "\n",
    "3. **Fine-tuning Process**:\n",
    "   - The model is trained for `5 epochs` (as defined by `n_epochs_fine_tune`).\n",
    "   - After each epoch of training, the model is evaluated on the test dataset.\n",
    "   - The best accuracy achieved during the fine-tuning process is saved, and the model's weights are updated accordingly.\n",
    "\n",
    "4. **Checkpointing**:\n",
    "   - If the model achieves better accuracy on the test set, the model's weights are saved as `MWT_best.pth`.\n",
    "\n",
    "Fine-tuning helps improve the model's performance using the best hyperparameters and ensures that the model adapts well to the task.\n"
   ]
  },
  {
   "cell_type": "code",
   "execution_count": 19,
   "id": "1f52a1d5-787c-457a-b929-fb87dad23fea",
   "metadata": {},
   "outputs": [
    {
     "name": "stdout",
     "output_type": "stream",
     "text": [
      "Using 2 GPUs!\n"
     ]
    },
    {
     "name": "stderr",
     "output_type": "stream",
     "text": [
      "Testing: 100%|██████████| 215/215 [00:10<00:00, 20.72it/s]\n"
     ]
    },
    {
     "name": "stdout",
     "output_type": "stream",
     "text": [
      "Test Loss: 1.7060, Accuracy: 83.71%\n"
     ]
    },
    {
     "name": "stderr",
     "output_type": "stream",
     "text": [
      "Epoch 1 - Training: 100%|██████████| 1075/1075 [01:57<00:00,  9.16it/s]\n"
     ]
    },
    {
     "name": "stdout",
     "output_type": "stream",
     "text": [
      "Train Epoch: 1, Loss: 1.6624, Accuracy: 88.95%\n"
     ]
    },
    {
     "name": "stderr",
     "output_type": "stream",
     "text": [
      "Testing: 100%|██████████| 215/215 [00:09<00:00, 22.16it/s]\n"
     ]
    },
    {
     "name": "stdout",
     "output_type": "stream",
     "text": [
      "Test Loss: 1.7055, Accuracy: 83.76%\n"
     ]
    },
    {
     "name": "stderr",
     "output_type": "stream",
     "text": [
      "Epoch 2 - Training: 100%|██████████| 1075/1075 [01:57<00:00,  9.18it/s]\n"
     ]
    },
    {
     "name": "stdout",
     "output_type": "stream",
     "text": [
      "Train Epoch: 2, Loss: 1.6628, Accuracy: 88.90%\n"
     ]
    },
    {
     "name": "stderr",
     "output_type": "stream",
     "text": [
      "Testing: 100%|██████████| 215/215 [00:09<00:00, 21.96it/s]\n"
     ]
    },
    {
     "name": "stdout",
     "output_type": "stream",
     "text": [
      "Test Loss: 1.7060, Accuracy: 83.64%\n"
     ]
    },
    {
     "name": "stderr",
     "output_type": "stream",
     "text": [
      "Epoch 3 - Training: 100%|██████████| 1075/1075 [01:58<00:00,  9.09it/s]\n"
     ]
    },
    {
     "name": "stdout",
     "output_type": "stream",
     "text": [
      "Train Epoch: 3, Loss: 1.6625, Accuracy: 88.96%\n"
     ]
    },
    {
     "name": "stderr",
     "output_type": "stream",
     "text": [
      "Testing: 100%|██████████| 215/215 [00:09<00:00, 21.65it/s]\n"
     ]
    },
    {
     "name": "stdout",
     "output_type": "stream",
     "text": [
      "Test Loss: 1.7054, Accuracy: 83.73%\n"
     ]
    },
    {
     "name": "stderr",
     "output_type": "stream",
     "text": [
      "Epoch 4 - Training: 100%|██████████| 1075/1075 [01:58<00:00,  9.11it/s]\n"
     ]
    },
    {
     "name": "stdout",
     "output_type": "stream",
     "text": [
      "Train Epoch: 4, Loss: 1.6624, Accuracy: 88.93%\n"
     ]
    },
    {
     "name": "stderr",
     "output_type": "stream",
     "text": [
      "Testing: 100%|██████████| 215/215 [00:09<00:00, 22.08it/s]\n"
     ]
    },
    {
     "name": "stdout",
     "output_type": "stream",
     "text": [
      "Test Loss: 1.7052, Accuracy: 83.82%\n"
     ]
    },
    {
     "name": "stderr",
     "output_type": "stream",
     "text": [
      "Epoch 5 - Training: 100%|██████████| 1075/1075 [01:59<00:00,  9.02it/s]\n"
     ]
    },
    {
     "name": "stdout",
     "output_type": "stream",
     "text": [
      "Train Epoch: 5, Loss: 1.6621, Accuracy: 88.96%\n"
     ]
    },
    {
     "name": "stderr",
     "output_type": "stream",
     "text": [
      "Testing: 100%|██████████| 215/215 [00:09<00:00, 21.94it/s]"
     ]
    },
    {
     "name": "stdout",
     "output_type": "stream",
     "text": [
      "Test Loss: 1.7061, Accuracy: 83.66%\n"
     ]
    },
    {
     "name": "stderr",
     "output_type": "stream",
     "text": [
      "\n"
     ]
    }
   ],
   "source": [
    "# Best trial: {'lr': 0.0003288607483607313, 'weight_decay': 9.941679680182543e-05}\n",
    "# lr = 0.0003288607483607313\n",
    "# weight_decay =  9.941679680182543e-05\n",
    "lr = study.best_trial.params['lr']\n",
    "weight_decay = study.best_trial.params['weight_decay']\n",
    "\n",
    "n_epochs_fine_tune = 5\n",
    "\n",
    "model = ResNet()\n",
    "device = torch.device(\"cuda\" if torch.cuda.is_available() else \"cpu\")\n",
    "model = model.to(device)\n",
    "\n",
    "if torch.cuda.device_count() > 1:\n",
    "    print(f\"Using {torch.cuda.device_count()} GPUs!\")\n",
    "    model = nn.DataParallel(model)\n",
    "    model = model.to(device)\n",
    "    model.load_state_dict(torch.load('MWT_best.pth'))\n",
    "else:\n",
    "    model = model.to(device)\n",
    "    model.load_state_dict(torch.load('MWT_best.pth'))\n",
    "\n",
    "optimizer = optim.SGD(model.parameters(), lr=lr, momentum=0.9, weight_decay=weight_decay)\n",
    "scheduler = optim.lr_scheduler.OneCycleLR(optimizer, max_lr=lr, total_steps=n_epochs_fine_tune*len(train_loader), pct_start=0.25, anneal_strategy='cos')\n",
    "\n",
    "_, best_acc = test(model, test_loader, criterion, device)\n",
    "for epoch in range(n_epochs_fine_tune):\n",
    "    train_loss, train_accuracy = train(model, train_loader, optimizer, criterion, scheduler, scaler, epoch+1, device)\n",
    "    test_loss, test_accuracy = test(model, test_loader, criterion, device)\n",
    "\n",
    "    if best_acc <= test_accuracy:\n",
    "        best_acc = test_accuracy\n",
    "        torch.save(model.state_dict(), 'MWT_best.pth')\n"
   ]
  },
  {
   "cell_type": "markdown",
   "id": "7e43314d",
   "metadata": {},
   "source": [
    "### Test Time Augmentation (TTA) for Model Evaluation\n",
    "\n",
    "Test Time Augmentation (TTA) is a technique used to improve the robustness and accuracy of a model during evaluation. It involves applying multiple augmentations to the test images and averaging the model's predictions across these augmented versions. This helps the model generalize better and reduces the impact of any individual variation in the test set.\n",
    "\n",
    "#### Key Steps:\n",
    "\n",
    "1. **Model Loading**:  \n",
    "   The pre-trained model (`ResNet`) is loaded, and the weights from the best saved checkpoint (`MWT_best.pth`) are restored to ensure the model is in its best-performing state.\n",
    "\n",
    "2. **Data Preparation**:  \n",
    "   The test dataset is loaded using a custom dataset class, and a `DataLoader` is created to handle batch processing efficiently.\n",
    "\n",
    "3. **Test Time Augmentation (TTA)**:  \n",
    "   - **Multiple Augmentations**: Several transformations are applied to each test image, such as:\n",
    "     - **Identity Transformation**: No transformation applied to the image.\n",
    "     - **Random Horizontal Flip**: Flips the image horizontally.\n",
    "     - **Gaussian Blur**: Adds a blur effect to the image.\n",
    "     - **ColorJitter (Contrast)**: Randomly alters the contrast of the image.\n",
    "     - **ColorJitter (Brightness)**: Randomly adjusts the brightness of the image.\n",
    "   - **Prediction Averaging**: Each augmented version of the image is passed through the model, and the outputs from these augmented images are averaged. This averaging helps provide a more stable and reliable prediction.\n",
    "\n",
    "4. **Loss and Accuracy Calculation**:  \n",
    "   The loss is calculated using the averaged predictions from all the augmented images, and accuracy is computed by comparing the predicted labels with the true labels.\n",
    "\n",
    "#### Benefits of TTA:\n",
    "- **Improved Robustness**: By exposing the model to various transformations, TTA helps the model become more robust to different kinds of input variations.\n",
    "- **Better Generalization**: Averaging predictions from different augmentations can reduce overfitting and enhance the model's ability to generalize to unseen data.\n",
    "- **Increased Accuracy**: In many cases, TTA leads to a noticeable improvement in test accuracy, especially in image classification tasks where slight variations in input can affect predictions.\n",
    "\n",
    "Using Test Time Augmentation during the evaluation phase can significantly enhance the model's performance by making it more robust and accurate. It reduces the model's sensitivity to specific image variations and helps ensure that predictions are reliable and generalizable.\n"
   ]
  },
  {
   "cell_type": "code",
   "execution_count": 20,
   "id": "82d2cfb3-2dc9-4fec-9cc5-356e2fa70510",
   "metadata": {},
   "outputs": [
    {
     "name": "stdout",
     "output_type": "stream",
     "text": [
      "Using 2 GPUs!\n"
     ]
    },
    {
     "name": "stderr",
     "output_type": "stream",
     "text": [
      "Loading CIFAR-10 images and applying transformations: 100%|██████████| 10000/10000 [00:02<00:00, 4009.63image/s]\n",
      "Testing: 100%|██████████| 40/40 [00:02<00:00, 18.57it/s]\n"
     ]
    },
    {
     "name": "stdout",
     "output_type": "stream",
     "text": [
      "Test Loss: 1.6506, Accuracy: 90.11%\n"
     ]
    },
    {
     "name": "stderr",
     "output_type": "stream",
     "text": [
      "TTA Testing: 100%|██████████| 40/40 [00:08<00:00,  4.76it/s]"
     ]
    },
    {
     "name": "stdout",
     "output_type": "stream",
     "text": [
      "Test Loss: 1.6556, Accuracy: 90.29%\n"
     ]
    },
    {
     "name": "stderr",
     "output_type": "stream",
     "text": [
      "\n"
     ]
    }
   ],
   "source": [
    "model = ResNet()\n",
    "device = torch.device(\"cuda\" if torch.cuda.is_available() else \"cpu\")\n",
    "model = model.to(device)\n",
    "\n",
    "if torch.cuda.device_count() > 1:\n",
    "    print(f\"Using {torch.cuda.device_count()} GPUs!\")\n",
    "    model = nn.DataParallel(model)\n",
    "    model = model.to(device)\n",
    "    model.load_state_dict(torch.load('MWT_best.pth'))\n",
    "else:\n",
    "    model = model.to(device)\n",
    "    model.load_state_dict(torch.load('MWT_best.pth'))\n",
    "\n",
    "test_dataset_og = CIFAR10Dataset(test_images, test_labels, transform=base_transform, transformations=None)\n",
    "test_loader_og = DataLoader(test_dataset_og, batch_size=256, shuffle=False, num_workers=4, pin_memory=True)\n",
    "\n",
    "test(model, test_loader_og, criterion, device)\n",
    "\n",
    "def test_time_augmentation(model, test_loader, transformations, criterion, device):\n",
    "    model.eval()\n",
    "    all_preds = []\n",
    "    running_loss = 0.0\n",
    "    correct = 0\n",
    "    total = 0\n",
    "\n",
    "    with torch.no_grad():\n",
    "        for inputs, labels in tqdm(test_loader, desc=\"TTA Testing\"):\n",
    "            inputs, labels = inputs.to(device), labels.to(device)\n",
    "\n",
    "            augmented_inputs = [transform(inputs) for transform in transformations]\n",
    "\n",
    "            outputs = [model(augmented_input) for augmented_input in augmented_inputs]\n",
    "\n",
    "            avg_output = torch.mean(torch.stack(outputs), dim=0)\n",
    "            _, predicted = avg_output.max(1)\n",
    "\n",
    "            loss = criterion(avg_output, labels)\n",
    "\n",
    "            running_loss += loss.item()\n",
    "\n",
    "            total += labels.size(0)\n",
    "            correct += (predicted == labels).sum().item()\n",
    "\n",
    "    avg_loss = running_loss / len(test_loader)\n",
    "    accuracy = 100 * correct / total\n",
    "    print(f\"Test Loss: {avg_loss:.4f}, Accuracy: {accuracy:.2f}%\")\n",
    "\n",
    "tta_transformations = [\n",
    "    transforms.Lambda(lambda x: x),\n",
    "    transforms.RandomHorizontalFlip(p=1),\n",
    "    transforms.GaussianBlur(kernel_size=3),\n",
    "    transforms.ColorJitter(contrast=0.5),\n",
    "    transforms.ColorJitter(brightness=0.5)\n",
    "]\n",
    "\n",
    "test_time_augmentation(model, test_loader_og, tta_transformations, criterion, device)\n"
   ]
  },
  {
   "cell_type": "code",
   "execution_count": 21,
   "id": "a36cb2dd-da44-42a2-8b19-d3cad5bc64b4",
   "metadata": {},
   "outputs": [
    {
     "name": "stderr",
     "output_type": "stream",
     "text": [
      "Generating predictions with TTA: 100%|██████████| 40/40 [00:16<00:00,  2.37it/s]\n"
     ]
    },
    {
     "name": "stdout",
     "output_type": "stream",
     "text": [
      "Predictions saved to predictions.csv\n"
     ]
    },
    {
     "data": {
      "image/png": "[encoded data removed]",
      "text/plain": [
       "<Figure size 1500x600 with 10 Axes>"
      ]
     },
     "metadata": {},
     "output_type": "display_data"
    }
   ],
   "source": [
    "model.eval()\n",
    "\n",
    "tta_transformations = [\n",
    "    transforms.Lambda(lambda x: x),\n",
    "    transforms.RandomHorizontalFlip(p=1),\n",
    "    transforms.GaussianBlur(kernel_size=3),\n",
    "    transforms.ColorJitter(contrast=0.5),\n",
    "    transforms.ColorJitter(brightness=0.5)\n",
    "]\n",
    "\n",
    "image_ids = []\n",
    "predicted_labels = []\n",
    "\n",
    "with torch.no_grad():\n",
    "    for inputs, image_ids_batch in tqdm(submission_loader, desc=\"Generating predictions with TTA\"):\n",
    "        inputs = inputs.to(device)\n",
    "        \n",
    "        augmented_outputs = []\n",
    "        \n",
    "        for transform in tta_transformations:\n",
    "            augmented_inputs = torch.stack([transform(img) for img in inputs])\n",
    "            augmented_inputs = augmented_inputs.to(device)\n",
    "\n",
    "            outputs = model(augmented_inputs)\n",
    "            augmented_outputs.append(outputs)\n",
    "        \n",
    "        avg_outputs = torch.mean(torch.stack(augmented_outputs), dim=0)\n",
    "        \n",
    "        _, predicted = torch.max(avg_outputs, 1)\n",
    "        \n",
    "        image_ids.extend(image_ids_batch.cpu().numpy()) \n",
    "        predicted_labels.extend(predicted.cpu().numpy())\n",
    "        \n",
    "df = pd.DataFrame({\n",
    "    \"ID\": image_ids,\n",
    "    \"Labels\": predicted_labels\n",
    "})\n",
    "\n",
    "csv_filename = 'predictions.csv'\n",
    "df.to_csv(csv_filename, index=False)\n",
    "\n",
    "print(f\"Predictions saved to {csv_filename}\")\n",
    "\n",
    "meta_data_dict = load_cifar_batch(os.path.join(cifar10_dir, 'batches.meta'))\n",
    "label_names = meta_data_dict[b'label_names']\n",
    "\n",
    "df[\"Label Name\"] = df[\"Labels\"].map(lambda label: label_names[label])\n",
    "headers = df\n",
    "\n",
    "start_idx = 8090\n",
    "end_idx = start_idx + 10\n",
    "\n",
    "top_images = [submission_dataset[i][0] for i in range(start_idx, end_idx)]\n",
    "top_labels = headers.iloc[start_idx:end_idx][\"Label Name\"]\n",
    "\n",
    "fig, axes = plt.subplots(2, 5, figsize=(15, 6))\n",
    "\n",
    "for i, ax in enumerate(axes.flat):\n",
    "    ax.imshow(top_images[i].permute(1, 2, 0))\n",
    "    ax.set_title(f\"Label: {top_labels.iloc[i]}\")\n",
    "    ax.axis('off')"
   ]
  }
 ],
 "metadata": {
  "kernelspec": {
   "display_name": "Python 3 (ipykernel)",
   "language": "python",
   "name": "python3"
  },
  "language_info": {
   "codemirror_mode": {
    "name": "ipython",
    "version": 3
   },
   "file_extension": ".py",
   "mimetype": "text/x-python",
   "name": "python",
   "nbconvert_exporter": "python",
   "pygments_lexer": "ipython3",
   "version": "3.9.18"
  }
 },
 "nbformat": 4,
 "nbformat_minor": 5
}
